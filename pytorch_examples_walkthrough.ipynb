{
 "cells": [
  {
   "cell_type": "markdown",
   "metadata": {},
   "source": [
    "# PyTorch Examples WalkThrough [source](https://pytorch.org/tutorials/beginner/pytorch_with_examples.html)"
   ]
  },
  {
   "cell_type": "code",
   "execution_count": 1,
   "metadata": {},
   "outputs": [],
   "source": [
    "!cd /Users/hjsong/Playground/Tutorials/PyTorchZeroToAll/"
   ]
  },
  {
   "cell_type": "code",
   "execution_count": 14,
   "metadata": {},
   "outputs": [
    {
     "name": "stdout",
     "output_type": "stream",
     "text": [
      "['', '/Users/hjsong/Playground/Tutorials/PyTorchZeroToAll', '/', '/Users/hjsong/anaconda3/envs/fastai-cpu/lib/python36.zip', '/Users/hjsong/anaconda3/envs/fastai-cpu/lib/python3.6', '/Users/hjsong/anaconda3/envs/fastai-cpu/lib/python3.6/lib-dynload', '/Users/hjsong/anaconda3/envs/fastai-cpu/lib/python3.6/site-packages', '/Users/hjsong/anaconda3/envs/fastai-cpu/lib/python3.6/site-packages/IPython/extensions', '/Users/hjsong/.ipython', './Scripts/', './Scripts/']\n"
     ]
    }
   ],
   "source": [
    "import sys\n",
    "print(sys.path)"
   ]
  },
  {
   "cell_type": "code",
   "execution_count": 15,
   "metadata": {},
   "outputs": [],
   "source": [
    "if './Scripts/' not in sys.path:\n",
    "    sys.path.append('./Scripts/')"
   ]
  },
  {
   "cell_type": "code",
   "execution_count": 16,
   "metadata": {},
   "outputs": [
    {
     "name": "stdout",
     "output_type": "stream",
     "text": [
      "['', '/Users/hjsong/Playground/Tutorials/PyTorchZeroToAll', '/', '/Users/hjsong/anaconda3/envs/fastai-cpu/lib/python36.zip', '/Users/hjsong/anaconda3/envs/fastai-cpu/lib/python3.6', '/Users/hjsong/anaconda3/envs/fastai-cpu/lib/python3.6/lib-dynload', '/Users/hjsong/anaconda3/envs/fastai-cpu/lib/python3.6/site-packages', '/Users/hjsong/anaconda3/envs/fastai-cpu/lib/python3.6/site-packages/IPython/extensions', '/Users/hjsong/.ipython', './Scripts/', './Scripts/']\n"
     ]
    }
   ],
   "source": [
    "print(sys.path)"
   ]
  },
  {
   "cell_type": "code",
   "execution_count": 17,
   "metadata": {},
   "outputs": [],
   "source": [
    "# pytorch tutorial\n",
    "import numpy as np\n",
    "import pdb\n",
    "import torch\n",
    "import matplotlib.pyplot as plt\n",
    "%matplotlib inline\n",
    "import data_generator "
   ]
  },
  {
   "cell_type": "code",
   "execution_count": 8,
   "metadata": {},
   "outputs": [
    {
     "name": "stdout",
     "output_type": "stream",
     "text": [
      "/Users/hjsong/Playground/Tutorials/PyTorchZeroToAll\r\n"
     ]
    }
   ],
   "source": [
    "# Global variables\n",
    "RSEED = 100"
   ]
  },
  {
   "cell_type": "markdown",
   "metadata": {},
   "source": [
    "## Single hidden layer with Relu in Numpy"
   ]
  },
  {
   "cell_type": "code",
   "execution_count": 10,
   "metadata": {},
   "outputs": [
    {
     "name": "stdout",
     "output_type": "stream",
     "text": [
      "/Users/hjsong/Playground/Tutorials/PyTorchZeroToAll\r\n"
     ]
    }
   ],
   "source": [
    "# Create dataset\n",
    "n = 100\n",
    "X = data_generator.getX(n)\n",
    "Y = data_generator.getY(n)\n"
   ]
  },
  {
   "cell_type": "code",
   "execution_count": null,
   "metadata": {},
   "outputs": [],
   "source": [
    "# N: batch size, D_in: input dimension \n",
    "# H : hidden layer's dimension, D_out: output dimension\n",
    "N, D_in, H, D_out = 64, 1000, 100, 10\n",
    "lr = 1e-6\n",
    "\n",
    "# Random initial weights\n",
    "w1 = np.random.randn(D_in, H)\n",
    "b1 = np.random.randn(1, H)\n",
    "\n",
    "w2 = np.random.randn(H, D_out)\n",
    "b2 = np.random.randn(1, D_out)\n",
    "\n",
    "# Create input and output\n",
    "def forward(x):\n",
    "    y1 = x.dot(w1) \n"
   ]
  },
  {
   "cell_type": "code",
   "execution_count": 20,
   "metadata": {},
   "outputs": [],
   "source": [
    "from IPython.html.services.config import ConfigManager\n",
    "ip = get_ipython()\n",
    "cm = ConfigManager(parent=ip)\n",
    "cm?\n"
   ]
  },
  {
   "cell_type": "code",
   "execution_count": 26,
   "metadata": {},
   "outputs": [],
   "source": [
    "%pycat Scripts/data_generator.py"
   ]
  },
  {
   "cell_type": "code",
   "execution_count": 25,
   "metadata": {},
   "outputs": [
    {
     "data": {
      "text/plain": [
       "'/Users/hjsong/Playground/Tutorials/PyTorchZeroToAll'"
      ]
     },
     "execution_count": 25,
     "metadata": {},
     "output_type": "execute_result"
    }
   ],
   "source": [
    "pwd"
   ]
  },
  {
   "cell_type": "code",
   "execution_count": 28,
   "metadata": {},
   "outputs": [
    {
     "ename": "TypeError",
     "evalue": "get() missing 1 required positional argument: 'section_name'",
     "output_type": "error",
     "traceback": [
      "\u001b[0;31m---------------------------------------------------------------------------\u001b[0m",
      "\u001b[0;31mTypeError\u001b[0m                                 Traceback (most recent call last)",
      "\u001b[0;32m<ipython-input-28-a118229e4250>\u001b[0m in \u001b[0;36m<module>\u001b[0;34m()\u001b[0m\n\u001b[0;32m----> 1\u001b[0;31m \u001b[0mcm\u001b[0m\u001b[0;34m.\u001b[0m\u001b[0mget\u001b[0m\u001b[0;34m(\u001b[0m\u001b[0;34m)\u001b[0m\u001b[0;34m\u001b[0m\u001b[0m\n\u001b[0m",
      "\u001b[0;31mTypeError\u001b[0m: get() missing 1 required positional argument: 'section_name'"
     ]
    }
   ],
   "source": [
    "cm.get()\n"
   ]
  },
  {
   "cell_type": "code",
   "execution_count": null,
   "metadata": {},
   "outputs": [],
   "source": []
  }
 ],
 "metadata": {
  "kernelspec": {
   "display_name": "Python 3",
   "language": "python",
   "name": "python3"
  },
  "language_info": {
   "codemirror_mode": {
    "name": "ipython",
    "version": 3
   },
   "file_extension": ".py",
   "mimetype": "text/x-python",
   "name": "python",
   "nbconvert_exporter": "python",
   "pygments_lexer": "ipython3",
   "version": "3.6.5"
  },
  "toc": {
   "base_numbering": 1,
   "nav_menu": {},
   "number_sections": true,
   "sideBar": true,
   "skip_h1_title": false,
   "title_cell": "Table of Contents",
   "title_sidebar": "Contents",
   "toc_cell": false,
   "toc_position": {},
   "toc_section_display": true,
   "toc_window_display": false
  },
  "varInspector": {
   "cols": {
    "lenName": 16,
    "lenType": 16,
    "lenVar": 40
   },
   "kernels_config": {
    "python": {
     "delete_cmd_postfix": "",
     "delete_cmd_prefix": "del ",
     "library": "var_list.py",
     "varRefreshCmd": "print(var_dic_list())"
    },
    "r": {
     "delete_cmd_postfix": ") ",
     "delete_cmd_prefix": "rm(",
     "library": "var_list.r",
     "varRefreshCmd": "cat(var_dic_list()) "
    }
   },
   "types_to_exclude": [
    "module",
    "function",
    "builtin_function_or_method",
    "instance",
    "_Feature"
   ],
   "window_display": false
  }
 },
 "nbformat": 4,
 "nbformat_minor": 2
}
