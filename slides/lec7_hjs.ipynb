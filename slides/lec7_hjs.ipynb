{
 "cells": [
  {
   "cell_type": "code",
   "execution_count": 1,
   "metadata": {},
   "outputs": [
    {
     "name": "stdout",
     "output_type": "stream",
     "text": [
      "/Users/hjsong/Playground/Tutorials/PyTorchZeroToAll\n"
     ]
    }
   ],
   "source": [
    "cd /Users/hjsong/Playground/Tutorials/PyTorchZeroToAll/"
   ]
  },
  {
   "cell_type": "code",
   "execution_count": 2,
   "metadata": {},
   "outputs": [
    {
     "name": "stdout",
     "output_type": "stream",
     "text": [
      "/bin/sh: ll: command not found\n"
     ]
    }
   ],
   "source": [
    "!ll ./data/"
   ]
  },
  {
   "cell_type": "code",
   "execution_count": 3,
   "metadata": {},
   "outputs": [],
   "source": [
    "import types\n",
    "def imports():\n",
    "    for name, val in globals().items():\n",
    "        if isinstance(val, types.ModuleType):\n",
    "            yield val.__name__\n",
    "            \n",
    "import pdb \n"
   ]
  },
  {
   "cell_type": "code",
   "execution_count": 4,
   "metadata": {},
   "outputs": [
    {
     "data": {
      "text/plain": [
       "['builtins',\n",
       " 'builtins',\n",
       " 'numpy',\n",
       " 'pandas',\n",
       " 'torch',\n",
       " 'torch.nn',\n",
       " 'torch.nn.functional',\n",
       " 'matplotlib.pyplot',\n",
       " 'types',\n",
       " 'pdb']"
      ]
     },
     "execution_count": 4,
     "metadata": {},
     "output_type": "execute_result"
    }
   ],
   "source": [
    "# To list all packages imported\n",
    "list(imports())"
   ]
  },
  {
   "cell_type": "code",
   "execution_count": 5,
   "metadata": {},
   "outputs": [],
   "source": [
    "# Globals\n",
    "RSEED = 11"
   ]
  },
  {
   "cell_type": "markdown",
   "metadata": {},
   "source": [
    "## Data load"
   ]
  },
  {
   "cell_type": "code",
   "execution_count": 6,
   "metadata": {},
   "outputs": [],
   "source": [
    "x_data = torch.Tensor([[1,2,3,4]]).view(4,1)\n",
    "y_data = torch.Tensor([0,0,1,1]).view(4,1)"
   ]
  },
  {
   "cell_type": "code",
   "execution_count": 7,
   "metadata": {},
   "outputs": [
    {
     "name": "stdout",
     "output_type": "stream",
     "text": [
      "tensor([[ 1.],\n",
      "        [ 2.],\n",
      "        [ 3.],\n",
      "        [ 4.]]) \n",
      " tensor([[ 0.],\n",
      "        [ 0.],\n",
      "        [ 1.],\n",
      "        [ 1.]])\n"
     ]
    }
   ],
   "source": [
    "print(x_data, '\\n', y_data)"
   ]
  },
  {
   "cell_type": "markdown",
   "metadata": {},
   "source": [
    "Load diabetes dataset"
   ]
  },
  {
   "cell_type": "code",
   "execution_count": 8,
   "metadata": {},
   "outputs": [
    {
     "name": "stdout",
     "output_type": "stream",
     "text": [
      "(759, 9)\n",
      "[[-0.294118   0.487437   0.180328  ... -0.53117   -0.0333333  0.       ]\n",
      " [-0.882353  -0.145729   0.0819672 ... -0.766866  -0.666667   1.       ]\n",
      " [-0.0588235  0.839196   0.0491803 ... -0.492741  -0.633333   0.       ]\n",
      " ...\n",
      " [-0.411765   0.21608    0.180328  ... -0.857387  -0.7        1.       ]\n",
      " [-0.882353   0.266332  -0.0163934 ... -0.768574  -0.133333   0.       ]\n",
      " [-0.882353  -0.0653266  0.147541  ... -0.797609  -0.933333   1.       ]]\n"
     ]
    }
   ],
   "source": [
    "xy = np.loadtxt('./data/diabetes.csv.gz', delimiter=',', dtype=np.float32)\n",
    "print(xy.shape); print(xy)"
   ]
  },
  {
   "cell_type": "code",
   "execution_count": 9,
   "metadata": {},
   "outputs": [
    {
     "name": "stdout",
     "output_type": "stream",
     "text": [
      "(759, 8)\n",
      "(759,)\n"
     ]
    }
   ],
   "source": [
    "X = xy[:,:-1]; print(X.shape)\n",
    "y = xy[:,-1]; print(y.shape)\n",
    "\n",
    "X = torch.from_numpy(X) #share the same memory \n",
    "y = torch.from_numpy(y)"
   ]
  },
  {
   "cell_type": "markdown",
   "metadata": {},
   "source": [
    "Train and test set\n"
   ]
  },
  {
   "cell_type": "markdown",
   "metadata": {},
   "source": [
    "### Custom data loader"
   ]
  },
  {
   "cell_type": "code",
   "execution_count": 11,
   "metadata": {},
   "outputs": [],
   "source": [
    "from torch.utils.data import Dataset, DataLoader\n",
    "class DiabetesDataset(Dataset):\n",
    "    def __init__(self, ids):\n",
    "        # Ideally we wouldn't load all data here.\n",
    "        # Rather, read each file when __getitem__ is called\n",
    "        xy = np.loadtxt('./data/diabetes.csv.gz', delimiter=',', dtype=np.float32)\n",
    "        self.x_data = xy[:,:-1]\n",
    "        self.y_data = xy[:, -1]\n",
    "        \n",
    "        self.ids = ids\n",
    "        self.len = len(ids)\n",
    "\n",
    "        \n",
    "    def __getitem__(self, idx):\n",
    "        \"Returns a sample in the format of [x_data[idx], y_data[idx]]\"\n",
    "#         print(\"idx: \", idx)\n",
    "        ID = self.ids[idx]\n",
    "        return self.x_data[ID,:], self.y_data[ID]\n",
    "    \n",
    "    def __len__(self):\n",
    "        return self.len\n",
    "    "
   ]
  },
  {
   "cell_type": "code",
   "execution_count": 12,
   "metadata": {},
   "outputs": [],
   "source": [
    "from sklearn.model_selection import train_test_split\n",
    "labels = y.numpy()\n",
    "train_ids, test_ids = train_test_split(range(len(labels)),\n",
    "                                        stratify=labels,\n",
    "                                        test_size=0.33, \n",
    "                                        random_state=RSEED) #stratified \n",
    "# train_ids, dev_ids = train_test_split(tr_dev_ids, test_size=0.5, random_state=RSEED)"
   ]
  },
  {
   "cell_type": "code",
   "execution_count": 13,
   "metadata": {},
   "outputs": [],
   "source": [
    "partition = {'train': train_ids, \n",
    "#              'dev': dev_ids, \n",
    "             'test': test_ids}\n",
    "train_dataset = DiabetesDataset(partition['train'])\n",
    "# dev_dataset = DiabetesDataset(partition['dev'])\n",
    "test_dataset = DiabetesDataset(partition['test'])"
   ]
  },
  {
   "cell_type": "code",
   "execution_count": 14,
   "metadata": {},
   "outputs": [],
   "source": [
    "#2. new dataloader instance\n",
    "data_params = {'batch_size': 32,\n",
    "              'shuffle': True,\n",
    "              'num_workers':1}\n",
    "train_loader = DataLoader(dataset=train_dataset, **data_params)\n",
    "# dev_loader = DataLoader(dataset=dev_dataset, **data_params)\n",
    "test_loader = DataLoader(dataset=test_dataset, batch_size=32, shuffle=False)"
   ]
  },
  {
   "cell_type": "markdown",
   "metadata": {},
   "source": [
    "Need to understand test_loader's loading order"
   ]
  },
  {
   "cell_type": "code",
   "execution_count": 15,
   "metadata": {},
   "outputs": [
    {
     "name": "stdout",
     "output_type": "stream",
     "text": [
      "tensor([[-0.7647,  0.0653,  0.0492, -0.2929, -0.7187, -0.0909,  0.1289,\n",
      "         -0.5667],\n",
      "        [ 0.0000, -0.0653,  0.6393, -0.2121, -0.8298,  0.2936, -0.1947,\n",
      "         -0.5333],\n",
      "        [ 0.5294,  0.0653,  0.1475,  0.0000,  0.0000,  0.0194, -0.8523,\n",
      "          0.0333],\n",
      "        [-0.5294,  0.7387,  0.1475, -0.7172, -0.6028, -0.1148, -0.7583,\n",
      "         -0.6000],\n",
      "        [-0.5294,  0.4874, -0.0164, -0.4545, -0.2482, -0.0790, -0.9385,\n",
      "         -0.7333],\n",
      "        [-0.4118,  0.2261,  0.4098,  0.0000,  0.0000,  0.0343, -0.8190,\n",
      "         -0.6000],\n",
      "        [-0.8824,  0.2261,  0.4754,  0.0303, -0.4799,  0.4814, -0.7891,\n",
      "         -0.6667],\n",
      "        [-0.5294,  0.3266,  0.0000,  0.0000,  0.0000, -0.0194, -0.8087,\n",
      "         -0.9333],\n",
      "        [ 0.0588,  0.4573,  0.3115, -0.0707, -0.6927,  0.1297, -0.5226,\n",
      "         -0.3667],\n",
      "        [-0.4118, -0.1457,  0.2131, -0.5556,  0.0000, -0.1356, -0.0213,\n",
      "         -0.6333],\n",
      "        [-0.1765,  0.8492,  0.3770, -0.3333,  0.0000,  0.0581, -0.7635,\n",
      "         -0.3333],\n",
      "        [-0.8824,  0.2161,  0.2787, -0.2121, -0.8251,  0.1624, -0.8437,\n",
      "         -0.7667],\n",
      "        [-0.2941,  0.5176,  0.0164, -0.3737, -0.7163,  0.0581, -0.4757,\n",
      "         -0.7667],\n",
      "        [-0.4118, -0.0352,  0.2131, -0.6364, -0.8416,  0.0015, -0.2152,\n",
      "         -0.2667],\n",
      "        [-0.7647,  0.5779,  0.2131, -0.2929,  0.0402,  0.1744, -0.9522,\n",
      "         -0.7000],\n",
      "        [-0.6471,  0.3266,  0.3115,  0.0000,  0.0000,  0.0253, -0.7233,\n",
      "         -0.2333],\n",
      "        [ 0.0000,  0.1357,  0.3115, -0.6768,  0.0000, -0.0760, -0.3202,\n",
      "          0.0000],\n",
      "        [-0.5294,  0.0955,  0.0492, -0.1111, -0.7660,  0.0373, -0.2938,\n",
      "         -0.8333],\n",
      "        [-0.4118,  0.2362,  0.2131, -0.1919, -0.8180,  0.0164, -0.8369,\n",
      "         -0.7667],\n",
      "        [ 0.0000,  0.0151,  0.0492, -0.6566,  0.0000, -0.3741, -0.8514,\n",
      "          0.0000],\n",
      "        [ 0.0000,  0.6784,  0.0000,  0.0000,  0.0000, -0.0373, -0.3501,\n",
      "         -0.7000],\n",
      "        [-0.4118, -0.1357,  0.1148, -0.4343, -0.8322, -0.0999, -0.7558,\n",
      "         -0.9000],\n",
      "        [-0.2941,  0.1960, -0.1803, -0.5556, -0.5839, -0.1922,  0.0589,\n",
      "         -0.6000],\n",
      "        [-0.7647,  0.2060,  0.2459, -0.2525, -0.7518,  0.1833, -0.8830,\n",
      "         -0.7333],\n",
      "        [-0.8824, -0.0653, -0.0820, -0.7778,  0.0000, -0.3294, -0.7105,\n",
      "         -0.9667],\n",
      "        [ 0.0000,  0.0754,  0.0164, -0.3939, -0.8251,  0.0909, -0.4202,\n",
      "         -0.8667],\n",
      "        [ 0.0588,  0.0251,  0.2459, -0.2525,  0.0000, -0.0194, -0.4987,\n",
      "         -0.1667],\n",
      "        [-0.5294,  0.5678,  0.2295,  0.0000,  0.0000,  0.4396, -0.8634,\n",
      "         -0.6333],\n",
      "        [-0.7647, -0.0352,  0.1148, -0.7374, -0.8842, -0.3711, -0.5141,\n",
      "         -0.8333],\n",
      "        [-0.8824,  0.7286,  0.1148, -0.0101,  0.3688,  0.2638, -0.4671,\n",
      "         -0.7667],\n",
      "        [ 0.1765,  0.2965,  0.2459, -0.4343, -0.7116,  0.0700, -0.8275,\n",
      "         -0.4000],\n",
      "        [-0.7647,  0.4271,  0.3443, -0.6364, -0.8487, -0.2638, -0.4167,\n",
      "          0.0000]])\n",
      "label:  tensor([ 1.,  1.,  1.,  0.,  0.,  1.,  0.,  0.,  0.,  0.,  0.,  1.,\n",
      "         1.,  1.,  1.,  0.,  1.,  0.,  1.,  1.,  0.,  1.,  0.,  1.,\n",
      "         1.,  0.,  0.,  0.,  1.,  0.,  1.,  1.])\n"
     ]
    }
   ],
   "source": [
    "dataiter = iter(test_loader)\n",
    "x,y = dataiter.next()\n",
    "print(x)\n",
    "print(\"label: \",y)"
   ]
  },
  {
   "cell_type": "markdown",
   "metadata": {},
   "source": [
    "## Binary classifer model"
   ]
  },
  {
   "cell_type": "code",
   "execution_count": 16,
   "metadata": {},
   "outputs": [],
   "source": [
    "class BCModel(nn.Module):    \n",
    "    def __init__(self, inDim, l1Dim, l2Dim, activation):\n",
    "        \"\"\" \n",
    "        inDim: input dimension\n",
    "        l1Dim: number of units in the first layer\n",
    "        l2Dim: number of units in the second layer\n",
    "        activation: (torch.nn.modules.activation) activation function instance\n",
    "            eg.nn.Sigmoid() or nn.Relu()\n",
    "        \"\"\"\n",
    "        super(BCModel, self).__init__()\n",
    "        self.l1 = nn.Linear(inDim, l1Dim)\n",
    "        self.l2 = nn.Linear(l1Dim, l2Dim)\n",
    "        self.l3 = nn.Linear(l2Dim, 1)\n",
    "        \n",
    "        # Hidden layers' activation\n",
    "#         self.relu = nn.ReLU() #elementwise relu\n",
    "        self.activation = activation\n",
    "    \n",
    "        # todo: batch norm layer\n",
    "        \n",
    "        # Last layer activation\n",
    "        self.sigmoid = nn.Sigmoid() #elementwise sigmoid activation\n",
    "        \n",
    "    \n",
    "    def forward(self, x):\n",
    "        \"\"\"input and output are both tensors\"\"\"\n",
    "        out1 = self.activation(self.l1(x)) #todo: add batch norm layer\n",
    "        out2 = self.activation(self.l2(out1))\n",
    "        y_pred = self.sigmoid(self.l3(out2))\n",
    "        return y_pred\n",
    "    \n",
    "    def print_params(self):\n",
    "        for param in self.parameters():\n",
    "            print(param)\n"
   ]
  },
  {
   "cell_type": "markdown",
   "metadata": {},
   "source": [
    "Quick side note on nn.Sigmoid and nn.Softmax"
   ]
  },
  {
   "cell_type": "markdown",
   "metadata": {},
   "source": [
    "1. `nn.Sigmoid` is best considered a softmax activation for a binary classification"
   ]
  },
  {
   "cell_type": "code",
   "execution_count": 17,
   "metadata": {},
   "outputs": [
    {
     "name": "stdout",
     "output_type": "stream",
     "text": [
      "tensor([[ 0.4847],\n",
      "        [ 0.7262],\n",
      "        [ 0.6151],\n",
      "        [ 0.2230]])\n",
      "tensor(2.0490)\n"
     ]
    }
   ],
   "source": [
    "sig = nn.Sigmoid()\n",
    "x = torch.randn(4).view(4,-1) # 1D tensor of length 4\n",
    "out = sig(x) # apply elementwise sigmoid function to x\n",
    "print(out)\n",
    "print(out.sum()) # doesn't make it a probability density along the dimension"
   ]
  },
  {
   "cell_type": "markdown",
   "metadata": {},
   "source": [
    "2. `nn.Softmax` is a classifier layer that takes in a set of numbers and make them into a probability density along the specified dimension"
   ]
  },
  {
   "cell_type": "code",
   "execution_count": 18,
   "metadata": {},
   "outputs": [
    {
     "name": "stdout",
     "output_type": "stream",
     "text": [
      "tensor([[ 0.1108,  0.7824,  0.1068],\n",
      "        [ 0.3914,  0.4421,  0.1665],\n",
      "        [ 0.4824,  0.0693,  0.4483],\n",
      "        [ 0.5171,  0.1881,  0.2948]])\n",
      "tensor([ 1.,  1.,  1.,  1.])\n"
     ]
    }
   ],
   "source": [
    "softmax = nn.Softmax(dim=1)\n",
    "x = torch.randn(4,3) #4 data points, each of length 3\n",
    "out = softmax(x)\n",
    "print(out)\n",
    "print(out.sum(dim=1))"
   ]
  },
  {
   "cell_type": "markdown",
   "metadata": {},
   "source": [
    "End of side"
   ]
  },
  {
   "cell_type": "code",
   "execution_count": 23,
   "metadata": {},
   "outputs": [
    {
     "name": "stdout",
     "output_type": "stream",
     "text": [
      "(759, 8)\n",
      "(759,)\n"
     ]
    }
   ],
   "source": [
    "X = xy[:,:-1]; print(X.shape)\n",
    "y = xy[:,-1]; print(y.shape)\n",
    "\n",
    "X = torch.from_numpy(X) #share the same memory \n",
    "y = torch.from_numpy(y)"
   ]
  },
  {
   "cell_type": "code",
   "execution_count": 24,
   "metadata": {},
   "outputs": [],
   "source": [
    "# Binary classification model\n",
    "# set number of hidden units\n",
    "H1 = 3\n",
    "H2 = 4\n",
    "learning_rate = 0.001\n",
    "\n",
    "model = BCModel(X.shape[1], H1, H2, nn.Sigmoid())"
   ]
  },
  {
   "cell_type": "code",
   "execution_count": 25,
   "metadata": {},
   "outputs": [
    {
     "name": "stdout",
     "output_type": "stream",
     "text": [
      "Parameter containing:\n",
      "tensor([[ 0.1716, -0.2629,  0.1203, -0.0820,  0.1794,  0.0412,  0.2623,\n",
      "          0.0144],\n",
      "        [-0.2366, -0.0368, -0.1179, -0.1619, -0.1576, -0.2556, -0.1835,\n",
      "          0.3272],\n",
      "        [ 0.2827, -0.2085,  0.2822,  0.3438,  0.1913,  0.2509,  0.2954,\n",
      "         -0.1598]])\n",
      "Parameter containing:\n",
      "tensor([ 0.2657,  0.2089,  0.2820])\n",
      "Parameter containing:\n",
      "tensor([[-0.1252,  0.0376, -0.2136],\n",
      "        [-0.3262, -0.1134,  0.4505],\n",
      "        [-0.4389, -0.4086,  0.2008],\n",
      "        [ 0.1653,  0.2888, -0.4656]])\n",
      "Parameter containing:\n",
      "tensor([-0.3234, -0.1280,  0.0676, -0.5727])\n",
      "Parameter containing:\n",
      "tensor([[ 0.4310, -0.1433,  0.2165,  0.2264]])\n",
      "Parameter containing:\n",
      "tensor([-0.3942])\n"
     ]
    }
   ],
   "source": [
    "model.print_params()"
   ]
  },
  {
   "cell_type": "code",
   "execution_count": 26,
   "metadata": {},
   "outputs": [],
   "source": [
    "# loss and optimizer\n",
    "criterion = nn.BCELoss(size_average=True)\n",
    "optimizer = torch.optim.SGD(model.parameters(), lr=learning_rate)\n"
   ]
  },
  {
   "cell_type": "code",
   "execution_count": 27,
   "metadata": {},
   "outputs": [
    {
     "name": "stdout",
     "output_type": "stream",
     "text": [
      "Epoch 0: 0.7127625942230225\n",
      "Epoch 10: 0.7121908664703369\n",
      "Epoch 20: 0.7116236686706543\n",
      "Epoch 30: 0.7110604643821716\n",
      "Epoch 40: 0.7105033993721008\n",
      "Epoch 50: 0.7099508047103882\n",
      "Epoch 60: 0.7094020247459412\n",
      "Epoch 70: 0.7088586091995239\n",
      "Epoch 80: 0.7083198428153992\n",
      "Epoch 90: 0.7077854871749878\n"
     ]
    },
    {
     "name": "stderr",
     "output_type": "stream",
     "text": [
      "/Users/hjsong/anaconda3/envs/fastai-cpu/lib/python3.6/site-packages/torch/nn/functional.py:1474: UserWarning: Using a target size (torch.Size([759])) that is different to the input size (torch.Size([759, 1])) is deprecated. Please ensure they have the same size.\n",
      "  \"Please ensure they have the same size.\".format(target.size(), input.size()))\n"
     ]
    }
   ],
   "source": [
    "# Training loop\n",
    "ls = []\n",
    "for epoch in range(100):\n",
    "    #Forward entire dataset\n",
    "    y_pred = model(X)\n",
    "    \n",
    "    #Compute loss\n",
    "    l = criterion(y_pred, y)\n",
    "    ls.append(l)\n",
    "    \n",
    "    if epoch%10 == 0:print(f\"Epoch {epoch}: {l}\")\n",
    "    \n",
    "    #Clear any accumulated gradients\n",
    "    optimizer.zero_grad()\n",
    "    \n",
    "    #Backprop\n",
    "    l.backward() \n",
    "    # now each parameter's .grad.data is set to the gradient from this \n",
    "    # forward pass\n",
    "    \n",
    "    #Update parameters\n",
    "    optimizer.step()\n",
    "    # update each registered parameter using the parameter's \n",
    "    #.grad.data and learning rate"
   ]
  },
  {
   "cell_type": "code",
   "execution_count": 28,
   "metadata": {},
   "outputs": [
    {
     "data": {
      "text/plain": [
       "[<matplotlib.lines.Line2D at 0x1a239eff98>]"
      ]
     },
     "execution_count": 28,
     "metadata": {},
     "output_type": "execute_result"
    },
    {
     "data": {
      "image/png": "[encoded data removed]",
      "text/plain": [
       "<Figure size 432x288 with 1 Axes>"
      ]
     },
     "metadata": {},
     "output_type": "display_data"
    }
   ],
   "source": [
    "f, ax = plt.subplots()\n",
    "ax.plot(ls)"
   ]
  },
  {
   "cell_type": "markdown",
   "metadata": {},
   "source": [
    "# todo: \n",
    "\n",
    "[ ] model2: try softmax as activation  \n",
    "[ ] add batchnorm layer to model1 and model2  \n",
    "[ ] do exercise 7-1"
   ]
  },
  {
   "cell_type": "markdown",
   "metadata": {},
   "source": [
    "## 1. Compare activation functions "
   ]
  },
  {
   "cell_type": "code",
   "execution_count": 29,
   "metadata": {},
   "outputs": [],
   "source": [
    "# Wrong way to set initial weights \n",
    "# because no inplace functions are allowed for Variables with'requires_grad=True'\n",
    "# Ref: https://discuss.pytorch.org/t/how-to-initiate-parameters-of-layers/1460\n",
    "def wrong_weight_init(m):\n",
    "    if isinstance(m, nn.Linear):\n",
    "        torch.manual_seed(RSEED)\n",
    "        m.weight.normal_() # error! \n",
    "        m.bias.normal_() # error!\n",
    "        \n",
    "def weight_init(m):\n",
    "    if isinstance(m, nn.Linear):\n",
    "        torch.manual_seed(RSEED)\n",
    "        m.weight.data.normal_() \n",
    "        m.bias.data.normal_() \n",
    "            #alternatively set initial bias to zero\n",
    "            # m.bias.data.fill_(0)\n",
    "        "
   ]
  },
  {
   "cell_type": "code",
   "execution_count": 30,
   "metadata": {},
   "outputs": [
    {
     "name": "stdout",
     "output_type": "stream",
     "text": [
      "Sigmoid\n",
      "initial weights: \n",
      "error: (tensor(1.0115), tensor(0.9651))\n",
      "ReLU\n",
      "initial weights: \n",
      "error: (tensor(1.9250), tensor(0.8557))\n",
      "Softplus\n",
      "initial weights: \n"
     ]
    },
    {
     "name": "stderr",
     "output_type": "stream",
     "text": [
      "/Users/hjsong/anaconda3/envs/fastai-cpu/lib/python3.6/site-packages/torch/nn/functional.py:1474: UserWarning: Using a target size (torch.Size([759])) that is different to the input size (torch.Size([759, 1])) is deprecated. Please ensure they have the same size.\n",
      "  \"Please ensure they have the same size.\".format(target.size(), input.size()))\n"
     ]
    },
    {
     "name": "stdout",
     "output_type": "stream",
     "text": [
      "error: (tensor(1.7451), tensor(0.7730))\n"
     ]
    },
    {
     "data": {
      "image/png": "[encoded data removed]",
      "text/plain": [
       "<Figure size 432x288 with 1 Axes>"
      ]
     },
     "metadata": {},
     "output_type": "display_data"
    },
    {
     "data": {
      "image/png": "[encoded data removed]",
      "text/plain": [
       "<Figure size 432x288 with 1 Axes>"
      ]
     },
     "metadata": {},
     "output_type": "display_data"
    },
    {
     "data": {
      "image/png": "[encoded data removed]",
      "text/plain": [
       "<Figure size 432x288 with 1 Axes>"
      ]
     },
     "metadata": {},
     "output_type": "display_data"
    }
   ],
   "source": [
    "# BCEloss \n",
    "criterion = nn.BCELoss(size_average=True)\n",
    "\n",
    "model_relu = BCModel(X.shape[1], H1, H2, nn.ReLU() )\n",
    "acts = [nn.Sigmoid(), nn.ReLU(), nn.Softplus()]\n",
    "\n",
    "for act in acts: \n",
    "    actname = act.__class__.__name__\n",
    "    print(actname)\n",
    "    model = BCModel(X.shape[1], H1, H2, activation=act)\n",
    "    model.apply(weight_init)\n",
    "    print(\"initial weights: \")\n",
    "#     model.print_params()\n",
    "    optimizer = torch.optim.SGD(model.parameters(), lr=learning_rate)\n",
    "    \n",
    "    # Train\n",
    "    ls = []\n",
    "    for epoch in range(100):\n",
    "        #forward\n",
    "        y_pred = model(X)\n",
    "        \n",
    "        #loss\n",
    "        l = criterion(y_pred, y)\n",
    "        ls.append(l)\n",
    "        #zero-out grads\n",
    "        optimizer.zero_grad()\n",
    "        \n",
    "        #backward pass\n",
    "        l.backward()\n",
    "        \n",
    "        #update parameters\n",
    "        optimizer.step()\n",
    "    f,ax = plt.subplots()\n",
    "    f.suptitle(actname)\n",
    "    ax.plot(ls)\n",
    "    print(f\"error: {ls[0], ls[-1]}\")"
   ]
  },
  {
   "cell_type": "markdown",
   "metadata": {},
   "source": [
    "Side: setting a random seed for pytorch\n",
    "- Must set the seed before calling a random number generating function."
   ]
  },
  {
   "cell_type": "code",
   "execution_count": 31,
   "metadata": {},
   "outputs": [
    {
     "name": "stdout",
     "output_type": "stream",
     "text": [
      "tensor([ 0.6147,  0.3810])\n",
      "tensor([ 0.6147,  0.3810])\n"
     ]
    }
   ],
   "source": [
    "torch.manual_seed(2)\n",
    "print(torch.rand(2))\n",
    "\n",
    "torch.manual_seed(2)\n",
    "print(torch.rand(2)) # gives the same random numbers"
   ]
  },
  {
   "cell_type": "code",
   "execution_count": 32,
   "metadata": {},
   "outputs": [
    {
     "name": "stdout",
     "output_type": "stream",
     "text": [
      "tensor([ 0.6147,  0.3810])\n",
      "tensor([ 0.6371,  0.4745])\n"
     ]
    }
   ],
   "source": [
    "# However, thess will not.\n",
    "\n",
    "torch.manual_seed(2)\n",
    "print(torch.rand(2))\n",
    "\n",
    "print(torch.rand(2))"
   ]
  },
  {
   "cell_type": "code",
   "execution_count": 33,
   "metadata": {},
   "outputs": [
    {
     "name": "stdout",
     "output_type": "stream",
     "text": [
      "tensor([ 0.6147,  0.3810])\n",
      "tensor([ 0.6147,  0.3810])\n",
      "tensor([ 0.6147,  0.3810])\n"
     ]
    }
   ],
   "source": [
    "# Set the seed manually right before calling the random generator \n",
    "for i in range(3):\n",
    "    torch.manual_seed(2)\n",
    "    print(torch.rand(2))\n",
    "    "
   ]
  },
  {
   "cell_type": "markdown",
   "metadata": {},
   "source": [
    "- Example: nn Linear module's weight initialization from a normal distribution with a random seed"
   ]
  },
  {
   "cell_type": "code",
   "execution_count": 34,
   "metadata": {},
   "outputs": [
    {
     "name": "stdout",
     "output_type": "stream",
     "text": [
      "original: \n",
      " tensor([[-0.5209,  1.0293, -0.3506,  0.1164, -0.1888, -1.4995,  0.1282,\n",
      "         -0.5361],\n",
      "        [ 0.0801, -0.1853,  0.7937,  0.9629,  0.7823,  0.4834, -1.8192,\n",
      "         -0.5442],\n",
      "        [ 1.9123,  0.2977, -0.7049,  0.4994, -0.0474,  1.3253,  0.9269,\n",
      "          0.2274]])\n",
      "normal call: \n",
      " tensor([[-1.3042, -1.1097, -1.2188,  1.1676, -1.0574, -0.1188, -0.3298,\n",
      "          0.0958],\n",
      "        [-1.1233, -0.0919, -0.1320, -0.2751, -0.2350,  0.0937, -0.7650,\n",
      "          1.8299],\n",
      "        [-0.1752,  0.6990, -0.6861,  0.7202,  0.1963,  0.6142,  1.1566,\n",
      "          0.4296]])\n",
      "normal call: \n",
      " tensor([[ 0.1665,  0.7911,  0.8560,  0.4094, -1.1371, -1.2034, -1.0190,\n",
      "          0.3157],\n",
      "        [-1.4702, -0.2134, -0.8707,  1.6159, -0.2356,  0.9444,  0.5461,\n",
      "         -1.3575],\n",
      "        [ 0.1757, -0.1319, -0.2735,  0.3355,  0.1885,  2.1432, -0.2779,\n",
      "          0.5511]])\n"
     ]
    }
   ],
   "source": [
    "print(\"original: \\n\", model.l1.weight.data)\n",
    "print(\"normal call: \\n\", model.l1.weight.data.normal_())\n",
    "print(\"normal call: \\n\", model.l1.weight.data.normal_())"
   ]
  },
  {
   "cell_type": "code",
   "execution_count": 35,
   "metadata": {},
   "outputs": [
    {
     "name": "stdout",
     "output_type": "stream",
     "text": [
      "original: \n",
      " tensor([[ 0.1665,  0.7911,  0.8560,  0.4094, -1.1371, -1.2034, -1.0190,\n",
      "          0.3157],\n",
      "        [-1.4702, -0.2134, -0.8707,  1.6159, -0.2356,  0.9444,  0.5461,\n",
      "         -1.3575],\n",
      "        [ 0.1757, -0.1319, -0.2735,  0.3355,  0.1885,  2.1432, -0.2779,\n",
      "          0.5511]])\n",
      "normal call: \n",
      " tensor([[-0.5108,  1.0283, -0.3532,  0.1230, -0.1816, -1.4972,  0.1421,\n",
      "         -0.5243],\n",
      "        [ 0.0744, -0.1843,  0.7960,  0.9592,  0.7783,  0.4826, -1.8291,\n",
      "         -0.5514],\n",
      "        [ 1.9113,  0.2979, -0.7041,  0.4983, -0.0488,  1.3252,  0.9240,\n",
      "          0.2255]])\n",
      "normal call: \n",
      " tensor([[-0.5108,  1.0283, -0.3532,  0.1230, -0.1816, -1.4972,  0.1421,\n",
      "         -0.5243],\n",
      "        [ 0.0744, -0.1843,  0.7960,  0.9592,  0.7783,  0.4826, -1.8291,\n",
      "         -0.5514],\n",
      "        [ 1.9113,  0.2979, -0.7041,  0.4983, -0.0488,  1.3252,  0.9240,\n",
      "          0.2255]])\n"
     ]
    }
   ],
   "source": [
    "print(\"original: \\n\", model.l1.weight.data)\n",
    "torch.manual_seed(RSEED)\n",
    "print(\"normal call: \\n\", model.l1.weight.data.normal_())\n",
    "torch.manual_seed(RSEED)\n",
    "print(\"normal call: \\n\", model.l1.weight.data.normal_())"
   ]
  },
  {
   "cell_type": "markdown",
   "metadata": {},
   "source": [
    "End of side"
   ]
  },
  {
   "cell_type": "markdown",
   "metadata": {},
   "source": [
    "## 2. Classifying diabetes with minibatch"
   ]
  },
  {
   "cell_type": "code",
   "execution_count": 36,
   "metadata": {},
   "outputs": [
    {
     "name": "stdout",
     "output_type": "stream",
     "text": [
      "initial weights: \n"
     ]
    },
    {
     "name": "stderr",
     "output_type": "stream",
     "text": [
      "/Users/hjsong/anaconda3/envs/fastai-cpu/lib/python3.6/site-packages/torch/nn/functional.py:1474: UserWarning: Using a target size (torch.Size([32])) that is different to the input size (torch.Size([32, 1])) is deprecated. Please ensure they have the same size.\n",
      "  \"Please ensure they have the same size.\".format(target.size(), input.size()))\n",
      "/Users/hjsong/anaconda3/envs/fastai-cpu/lib/python3.6/site-packages/torch/nn/functional.py:1474: UserWarning: Using a target size (torch.Size([28])) that is different to the input size (torch.Size([28, 1])) is deprecated. Please ensure they have the same size.\n",
      "  \"Please ensure they have the same size.\".format(target.size(), input.size()))\n"
     ]
    },
    {
     "name": "stdout",
     "output_type": "stream",
     "text": [
      "error: (tensor(1.4999), tensor(0.4712))\n"
     ]
    },
    {
     "data": {
      "image/png": "[encoded data removed]",
      "text/plain": [
       "<Figure size 432x288 with 1 Axes>"
      ]
     },
     "metadata": {},
     "output_type": "display_data"
    }
   ],
   "source": [
    "model = BCModel(X.shape[1], H1, H2, activation=act)\n",
    "model.apply(weight_init)\n",
    "print(\"initial weights: \")\n",
    "# model.print_params()\n",
    "learning_rate = 0.0005\n",
    "nEpoch = 1000\n",
    "optimizer = torch.optim.Adam(model.parameters(), lr=learning_rate)\n",
    "\n",
    "# Train loop\n",
    "ls = []\n",
    "for epoch in range(nEpoch):\n",
    "    for i, (x_batch, y_batch) in enumerate(train_loader):\n",
    "\n",
    "        # Make them tensor\n",
    "        ## Note this is done by DataLoader\n",
    "#         x_batch = torch.from_numpy(x_batch).type(torch.float)\n",
    "#         y_batch = torch.from_numpy(y_batch).type(torch.float)\n",
    "        #forward\n",
    "        y_pred = model(x_batch)\n",
    "\n",
    "        #loss\n",
    "        l = criterion(y_pred, y_batch)\n",
    "        ls.append(l)\n",
    "        #zero-out grads\n",
    "        optimizer.zero_grad()\n",
    "\n",
    "        #backward pass\n",
    "        l.backward()\n",
    "\n",
    "        #update parameters\n",
    "        optimizer.step()\n",
    "f,ax = plt.subplots()\n",
    "ax.plot(ls)\n",
    "print(f\"error: {ls[0], ls[-1]}\")"
   ]
  },
  {
   "cell_type": "code",
   "execution_count": 39,
   "metadata": {},
   "outputs": [
    {
     "name": "stdout",
     "output_type": "stream",
     "text": [
      "torch.Size([32, 1])  ==?  32\n",
      "torch.Size([32, 1])  ==?  32\n",
      "torch.Size([32, 1])  ==?  32\n",
      "torch.Size([32, 1])  ==?  32\n",
      "torch.Size([32, 1])  ==?  32\n",
      "torch.Size([32, 1])  ==?  32\n",
      "torch.Size([32, 1])  ==?  32\n",
      "torch.Size([27, 1])  ==?  32\n",
      "test error: 0.4733975827693939\n",
      "test acc:  0.7529880478087649\n"
     ]
    },
    {
     "name": "stderr",
     "output_type": "stream",
     "text": [
      "/Users/hjsong/anaconda3/envs/fastai-cpu/lib/python3.6/site-packages/torch/nn/functional.py:1474: UserWarning: Using a target size (torch.Size([32])) that is different to the input size (torch.Size([32, 1])) is deprecated. Please ensure they have the same size.\n",
      "  \"Please ensure they have the same size.\".format(target.size(), input.size()))\n",
      "/Users/hjsong/anaconda3/envs/fastai-cpu/lib/python3.6/site-packages/torch/nn/functional.py:1474: UserWarning: Using a target size (torch.Size([27])) that is different to the input size (torch.Size([27, 1])) is deprecated. Please ensure they have the same size.\n",
      "  \"Please ensure they have the same size.\".format(target.size(), input.size()))\n"
     ]
    },
    {
     "data": {
      "image/png": "[encoded data removed]",
      "text/plain": [
       "<Figure size 432x288 with 1 Axes>"
      ]
     },
     "metadata": {},
     "output_type": "display_data"
    }
   ],
   "source": [
    "# test loop\n",
    "testbatch_ls = []\n",
    "isCorrects = []\n",
    "with torch.no_grad():\n",
    "    for i, (xtest_batch, ytest_batch) in enumerate(test_loader):\n",
    "\n",
    "        ypred_batch = model(xtest_batch)\n",
    "        print(ypred_batch.size(), \" ==? \", test_loader.batch_size)\n",
    "\n",
    "        testbatch_ls.append(criterion(ypred_batch, ytest_batch).item())\n",
    "\n",
    "        #make a decision at 0.5\n",
    "        ypred_batch = (ypred_batch > 0.5).view(ytest_batch.size())\n",
    "#         pdb.set_trace()\n",
    "        isCorrect_batch = (ypred_batch == ytest_batch.type(ypred_batch.dtype)).numpy()\n",
    "        isCorrects.extend(isCorrect_batch)\n",
    "\n",
    "# Plot error function\n",
    "f,ax = plt.subplots()\n",
    "ax.plot(testbatch_ls)\n",
    "print('test error:', np.mean(testbatch_ls))\n",
    "test_acc = sum(isCorrects)/len(isCorrects)\n",
    "print('test acc: ', test_acc)"
   ]
  },
  {
   "cell_type": "markdown",
   "metadata": {},
   "source": [
    "Let's take a look at misclassified examples."
   ]
  },
  {
   "cell_type": "code",
   "execution_count": 40,
   "metadata": {},
   "outputs": [
    {
     "name": "stdout",
     "output_type": "stream",
     "text": [
      "251\n",
      "8\n"
     ]
    }
   ],
   "source": [
    "print(len(isCorrects)) #should be same as number of cycles, ie. len(test_loader)\n",
    "print(len(test_loader))"
   ]
  },
  {
   "cell_type": "code",
   "execution_count": 41,
   "metadata": {},
   "outputs": [
    {
     "name": "stdout",
     "output_type": "stream",
     "text": [
      "test acc:  0.7529880478087649\n"
     ]
    }
   ],
   "source": [
    "test_acc = sum(isCorrects)/len(isCorrects)\n",
    "print('test acc: ', test_acc)"
   ]
  },
  {
   "cell_type": "markdown",
   "metadata": {},
   "source": [
    "## 3. Try a deeper network"
   ]
  },
  {
   "cell_type": "code",
   "execution_count": 68,
   "metadata": {},
   "outputs": [],
   "source": [
    "class DeepBCModel(nn.Module):\n",
    "    def __init__(self, dims, hidden_activation=nn.ReLU(), output_activation=nn.Sigmoid()):\n",
    "        \"\"\"\n",
    "        dims: a list of dimensions of layer. [inDims, H1, H2,...].\n",
    "        It doesn't includ the output layer's size, which is fixed to 1\"\"\"\n",
    "        super(DeepBCModel,self).__init__()\n",
    "    \n",
    "        self.__build_linear_layers__(dims)\n",
    "        self.n_layers = len(dims)\n",
    "        \n",
    "        self.h_activation = hidden_activation\n",
    "        self.o_activation = output_activation\n",
    "        \n",
    "    def __build_linear_layers__(self, dims):\n",
    "#         assert(len(self.layers) == 0)\n",
    "#         for i in range(len(dims)-1):\n",
    "#             self.add_module(f'h{i}', self.h_activation(nn.Linear(dims[i],dim[i+1])))\n",
    "#         self.add_module(f'h{len(dim)-1}', self.o_activation(nn.Linear(dims[-1],1)))\n",
    "                            \n",
    "        for i in range(len(dims)-1):\n",
    "            self.add_module(f'li{i}', (nn.Linear(dims[i],dims[i+1])))\n",
    "        self.add_module(f'li{len(dims)-1}', nn.Linear(dims[-1],1))\n",
    "        \n",
    "    def forward(self, x):\n",
    "        y_pred = x\n",
    "        for mname, m in self.named_children():\n",
    "            if not isinstance(m, nn.Linear): \n",
    "                continue\n",
    "                \n",
    "            if (str(self.n_layers-1) in mname):\n",
    "                act = self.o_activation\n",
    "            else:\n",
    "                act = self.h_activation\n",
    "                \n",
    "            y_pred = act(m(y_pred))\n",
    "        return y_pred\n",
    "\n",
    "def draw_linear_layers(model):\n",
    "    \n",
    "           "
   ]
  },
  {
   "cell_type": "code",
   "execution_count": 69,
   "metadata": {},
   "outputs": [],
   "source": [
    "M = DeepBCModel([8,2,3,4])"
   ]
  },
  {
   "cell_type": "code",
   "execution_count": 70,
   "metadata": {},
   "outputs": [
    {
     "name": "stdout",
     "output_type": "stream",
     "text": [
      "('li0', Linear(in_features=8, out_features=2, bias=True))\n",
      "('li1', Linear(in_features=2, out_features=3, bias=True))\n",
      "('li2', Linear(in_features=3, out_features=4, bias=True))\n",
      "('li3', Linear(in_features=4, out_features=1, bias=True))\n",
      "('h_activation', ReLU())\n",
      "('o_activation', Sigmoid())\n"
     ]
    }
   ],
   "source": [
    "for m in M.named_children():\n",
    "    print(m)"
   ]
  },
  {
   "cell_type": "code",
   "execution_count": 71,
   "metadata": {},
   "outputs": [],
   "source": [
    "dataiter = iter(train_loader)\n",
    "x,y = train_dataset[0];\n",
    "x = torch.from_numpy(x)\n",
    "y = torch.tensor([y], dtype=torch.int)"
   ]
  },
  {
   "cell_type": "code",
   "execution_count": 72,
   "metadata": {},
   "outputs": [
    {
     "data": {
      "text/plain": [
       "tensor([ 0.5251])"
      ]
     },
     "execution_count": 72,
     "metadata": {},
     "output_type": "execute_result"
    }
   ],
   "source": [
    "M(x)"
   ]
  },
  {
   "cell_type": "code",
   "execution_count": 73,
   "metadata": {},
   "outputs": [
    {
     "name": "stdout",
     "output_type": "stream",
     "text": [
      "initial weights: \n",
      "Linear(in_features=8, out_features=100, bias=True)\n",
      "Linear(in_features=100, out_features=100, bias=True)\n",
      "Linear(in_features=100, out_features=100, bias=True)\n",
      "Linear(in_features=100, out_features=1, bias=True)\n",
      "ReLU()\n",
      "Sigmoid()\n"
     ]
    }
   ],
   "source": [
    "# Model\n",
    "dims = [X.shape[1], 100, 100, 100]\n",
    "model = DeepBCModel(dims, hidden_activation=nn.ReLU())\n",
    "model.apply(weight_init)\n",
    "print(\"initial weights: \")\n",
    "for layer in model.children():\n",
    "    print(layer)"
   ]
  },
  {
   "cell_type": "code",
   "execution_count": 80,
   "metadata": {},
   "outputs": [
    {
     "ename": "RuntimeError",
     "evalue": "Interrupted system call at /Users/soumith/minicondabuild3/conda-bld/pytorch_1524590658547/work/torch/lib/libshm/core.cpp:125",
     "output_type": "error",
     "traceback": [
      "\u001b[0;31m---------------------------------------------------------------------------\u001b[0m",
      "\u001b[0;31mRuntimeError\u001b[0m                              Traceback (most recent call last)",
      "\u001b[0;32m<ipython-input-80-ba98353f0fd1>\u001b[0m in \u001b[0;36m<module>\u001b[0;34m()\u001b[0m\n\u001b[1;32m      7\u001b[0m \u001b[0mls\u001b[0m \u001b[0;34m=\u001b[0m \u001b[0;34m[\u001b[0m\u001b[0;34m]\u001b[0m\u001b[0;34m\u001b[0m\u001b[0m\n\u001b[1;32m      8\u001b[0m \u001b[0;32mfor\u001b[0m \u001b[0mepoch\u001b[0m \u001b[0;32min\u001b[0m \u001b[0mrange\u001b[0m\u001b[0;34m(\u001b[0m\u001b[0mnEpoch\u001b[0m\u001b[0;34m)\u001b[0m\u001b[0;34m:\u001b[0m\u001b[0;34m\u001b[0m\u001b[0m\n\u001b[0;32m----> 9\u001b[0;31m     \u001b[0;32mfor\u001b[0m \u001b[0mi\u001b[0m\u001b[0;34m,\u001b[0m \u001b[0;34m(\u001b[0m\u001b[0mx_batch\u001b[0m\u001b[0;34m,\u001b[0m \u001b[0my_batch\u001b[0m\u001b[0;34m)\u001b[0m \u001b[0;32min\u001b[0m \u001b[0menumerate\u001b[0m\u001b[0;34m(\u001b[0m\u001b[0mtrain_loader\u001b[0m\u001b[0;34m)\u001b[0m\u001b[0;34m:\u001b[0m\u001b[0;34m\u001b[0m\u001b[0m\n\u001b[0m\u001b[1;32m     10\u001b[0m \u001b[0;34m\u001b[0m\u001b[0m\n\u001b[1;32m     11\u001b[0m         \u001b[0;31m#forward\u001b[0m\u001b[0;34m\u001b[0m\u001b[0;34m\u001b[0m\u001b[0m\n",
      "\u001b[0;32m~/anaconda3/envs/fastai-cpu/lib/python3.6/site-packages/torch/utils/data/dataloader.py\u001b[0m in \u001b[0;36m__next__\u001b[0;34m(self)\u001b[0m\n\u001b[1;32m    278\u001b[0m         \u001b[0;32mwhile\u001b[0m \u001b[0;32mTrue\u001b[0m\u001b[0;34m:\u001b[0m\u001b[0;34m\u001b[0m\u001b[0m\n\u001b[1;32m    279\u001b[0m             \u001b[0;32massert\u001b[0m \u001b[0;34m(\u001b[0m\u001b[0;32mnot\u001b[0m \u001b[0mself\u001b[0m\u001b[0;34m.\u001b[0m\u001b[0mshutdown\u001b[0m \u001b[0;32mand\u001b[0m \u001b[0mself\u001b[0m\u001b[0;34m.\u001b[0m\u001b[0mbatches_outstanding\u001b[0m \u001b[0;34m>\u001b[0m \u001b[0;36m0\u001b[0m\u001b[0;34m)\u001b[0m\u001b[0;34m\u001b[0m\u001b[0m\n\u001b[0;32m--> 280\u001b[0;31m             \u001b[0midx\u001b[0m\u001b[0;34m,\u001b[0m \u001b[0mbatch\u001b[0m \u001b[0;34m=\u001b[0m \u001b[0mself\u001b[0m\u001b[0;34m.\u001b[0m\u001b[0m_get_batch\u001b[0m\u001b[0;34m(\u001b[0m\u001b[0;34m)\u001b[0m\u001b[0;34m\u001b[0m\u001b[0m\n\u001b[0m\u001b[1;32m    281\u001b[0m             \u001b[0mself\u001b[0m\u001b[0;34m.\u001b[0m\u001b[0mbatches_outstanding\u001b[0m \u001b[0;34m-=\u001b[0m \u001b[0;36m1\u001b[0m\u001b[0;34m\u001b[0m\u001b[0m\n\u001b[1;32m    282\u001b[0m             \u001b[0;32mif\u001b[0m \u001b[0midx\u001b[0m \u001b[0;34m!=\u001b[0m \u001b[0mself\u001b[0m\u001b[0;34m.\u001b[0m\u001b[0mrcvd_idx\u001b[0m\u001b[0;34m:\u001b[0m\u001b[0;34m\u001b[0m\u001b[0m\n",
      "\u001b[0;32m~/anaconda3/envs/fastai-cpu/lib/python3.6/site-packages/torch/utils/data/dataloader.py\u001b[0m in \u001b[0;36m_get_batch\u001b[0;34m(self)\u001b[0m\n\u001b[1;32m    257\u001b[0m                 \u001b[0;32mraise\u001b[0m \u001b[0mRuntimeError\u001b[0m\u001b[0;34m(\u001b[0m\u001b[0;34m'DataLoader timed out after {} seconds'\u001b[0m\u001b[0;34m.\u001b[0m\u001b[0mformat\u001b[0m\u001b[0;34m(\u001b[0m\u001b[0mself\u001b[0m\u001b[0;34m.\u001b[0m\u001b[0mtimeout\u001b[0m\u001b[0;34m)\u001b[0m\u001b[0;34m)\u001b[0m\u001b[0;34m\u001b[0m\u001b[0m\n\u001b[1;32m    258\u001b[0m         \u001b[0;32melse\u001b[0m\u001b[0;34m:\u001b[0m\u001b[0;34m\u001b[0m\u001b[0m\n\u001b[0;32m--> 259\u001b[0;31m             \u001b[0;32mreturn\u001b[0m \u001b[0mself\u001b[0m\u001b[0;34m.\u001b[0m\u001b[0mdata_queue\u001b[0m\u001b[0;34m.\u001b[0m\u001b[0mget\u001b[0m\u001b[0;34m(\u001b[0m\u001b[0;34m)\u001b[0m\u001b[0;34m\u001b[0m\u001b[0m\n\u001b[0m\u001b[1;32m    260\u001b[0m \u001b[0;34m\u001b[0m\u001b[0m\n\u001b[1;32m    261\u001b[0m     \u001b[0;32mdef\u001b[0m \u001b[0m__next__\u001b[0m\u001b[0;34m(\u001b[0m\u001b[0mself\u001b[0m\u001b[0;34m)\u001b[0m\u001b[0;34m:\u001b[0m\u001b[0;34m\u001b[0m\u001b[0m\n",
      "\u001b[0;32m~/anaconda3/envs/fastai-cpu/lib/python3.6/multiprocessing/queues.py\u001b[0m in \u001b[0;36mget\u001b[0;34m(self)\u001b[0m\n\u001b[1;32m    335\u001b[0m             \u001b[0mres\u001b[0m \u001b[0;34m=\u001b[0m \u001b[0mself\u001b[0m\u001b[0;34m.\u001b[0m\u001b[0m_reader\u001b[0m\u001b[0;34m.\u001b[0m\u001b[0mrecv_bytes\u001b[0m\u001b[0;34m(\u001b[0m\u001b[0;34m)\u001b[0m\u001b[0;34m\u001b[0m\u001b[0m\n\u001b[1;32m    336\u001b[0m         \u001b[0;31m# unserialize the data after having released the lock\u001b[0m\u001b[0;34m\u001b[0m\u001b[0;34m\u001b[0m\u001b[0m\n\u001b[0;32m--> 337\u001b[0;31m         \u001b[0;32mreturn\u001b[0m \u001b[0m_ForkingPickler\u001b[0m\u001b[0;34m.\u001b[0m\u001b[0mloads\u001b[0m\u001b[0;34m(\u001b[0m\u001b[0mres\u001b[0m\u001b[0;34m)\u001b[0m\u001b[0;34m\u001b[0m\u001b[0m\n\u001b[0m\u001b[1;32m    338\u001b[0m \u001b[0;34m\u001b[0m\u001b[0m\n\u001b[1;32m    339\u001b[0m     \u001b[0;32mdef\u001b[0m \u001b[0mput\u001b[0m\u001b[0;34m(\u001b[0m\u001b[0mself\u001b[0m\u001b[0;34m,\u001b[0m \u001b[0mobj\u001b[0m\u001b[0;34m)\u001b[0m\u001b[0;34m:\u001b[0m\u001b[0;34m\u001b[0m\u001b[0m\n",
      "\u001b[0;32m~/anaconda3/envs/fastai-cpu/lib/python3.6/site-packages/torch/multiprocessing/reductions.py\u001b[0m in \u001b[0;36mrebuild_storage_filename\u001b[0;34m(cls, manager, handle, size)\u001b[0m\n\u001b[1;32m     84\u001b[0m     \u001b[0;32mif\u001b[0m \u001b[0mstorage\u001b[0m \u001b[0;32mis\u001b[0m \u001b[0;32mnot\u001b[0m \u001b[0;32mNone\u001b[0m\u001b[0;34m:\u001b[0m\u001b[0;34m\u001b[0m\u001b[0m\n\u001b[1;32m     85\u001b[0m         \u001b[0;32mreturn\u001b[0m \u001b[0mstorage\u001b[0m\u001b[0;34m.\u001b[0m\u001b[0m_shared_decref\u001b[0m\u001b[0;34m(\u001b[0m\u001b[0;34m)\u001b[0m\u001b[0;34m\u001b[0m\u001b[0m\n\u001b[0;32m---> 86\u001b[0;31m     \u001b[0mstorage\u001b[0m \u001b[0;34m=\u001b[0m \u001b[0mcls\u001b[0m\u001b[0;34m.\u001b[0m\u001b[0m_new_shared_filename\u001b[0m\u001b[0;34m(\u001b[0m\u001b[0mmanager\u001b[0m\u001b[0;34m,\u001b[0m \u001b[0mhandle\u001b[0m\u001b[0;34m,\u001b[0m \u001b[0msize\u001b[0m\u001b[0;34m)\u001b[0m\u001b[0;34m\u001b[0m\u001b[0m\n\u001b[0m\u001b[1;32m     87\u001b[0m     \u001b[0mshared_cache\u001b[0m\u001b[0;34m[\u001b[0m\u001b[0mhandle\u001b[0m\u001b[0;34m]\u001b[0m \u001b[0;34m=\u001b[0m \u001b[0mstorage\u001b[0m\u001b[0;34m.\u001b[0m\u001b[0m_weak_ref\u001b[0m\u001b[0;34m(\u001b[0m\u001b[0mStorageRef\u001b[0m\u001b[0;34m)\u001b[0m\u001b[0;34m\u001b[0m\u001b[0m\n\u001b[1;32m     88\u001b[0m     \u001b[0;32mreturn\u001b[0m \u001b[0mstorage\u001b[0m\u001b[0;34m.\u001b[0m\u001b[0m_shared_decref\u001b[0m\u001b[0;34m(\u001b[0m\u001b[0;34m)\u001b[0m\u001b[0;34m\u001b[0m\u001b[0m\n",
      "\u001b[0;31mRuntimeError\u001b[0m: Interrupted system call at /Users/soumith/minicondabuild3/conda-bld/pytorch_1524590658547/work/torch/lib/libshm/core.cpp:125"
     ]
    }
   ],
   "source": [
    "# model.print_params()\n",
    "learning_rate = 0.00000003\n",
    "nEpoch = 1000\n",
    "optimizer = torch.optim.Adam(model.parameters(), lr=learning_rate)\n",
    "\n",
    "# Train loop\n",
    "ls = []\n",
    "for epoch in range(nEpoch):\n",
    "    for i, (x_batch, y_batch) in enumerate(train_loader):\n",
    "\n",
    "        #forward\n",
    "        y_pred = model(x_batch).view(y_batch.size())\n",
    "#         pdb.set_trace()\n",
    "        #loss\n",
    "        l = criterion(y_pred, y_batch)\n",
    "        ls.append(l)\n",
    "        #zero-out grads\n",
    "        optimizer.zero_grad()\n",
    "\n",
    "        #backward pass\n",
    "        l.backward()\n",
    "\n",
    "        #update parameters\n",
    "        optimizer.step()\n",
    "f,ax = plt.subplots()\n",
    "ax.plot(ls)\n",
    "print(f\"error: {ls[0].item(), ls[-1].item()}\")"
   ]
  },
  {
   "cell_type": "code",
   "execution_count": null,
   "metadata": {},
   "outputs": [],
   "source": [
    "# test loop\n",
    "testbatch_ls = []\n",
    "isCorrects = []\n",
    "with torch.no_grad():\n",
    "    for i, (xtest_batch, ytest_batch) in enumerate(test_loader):\n",
    "        print(ypred_batch.size(), \" ==? \", test_loader.batch_size)\n",
    "\n",
    "        ypred_batch = model(xtest_batch)\n",
    "        testbatch_ls.append(criterion(ypred_batch, ytest_batch).item())\n",
    "\n",
    "        #make a decision at 0.5\n",
    "        ypred_batch = (ypred_batch > 0.5).view(ytest_batch.size())\n",
    "#         pdb.set_trace()\n",
    "        isCorrect_batch = (ypred_batch == ytest_batch.type(ypred_batch.dtype)).numpy()\n",
    "        isCorrects.extend(isCorrect_batch)\n",
    "\n",
    "# Plot error function\n",
    "f,ax = plt.subplots()\n",
    "ax.plot(testbatch_ls)\n",
    "print('test error:', np.mean(testbatch_ls))\n",
    "test_acc = sum(isCorrects)/len(isCorrects)\n",
    "print('test acc: ', test_acc)"
   ]
  }
 ],
 "metadata": {
  "kernelspec": {
   "display_name": "fastAI custom",
   "language": "python",
   "name": "fastai"
  },
  "language_info": {
   "codemirror_mode": {
    "name": "ipython",
    "version": 3
   },
   "file_extension": ".py",
   "mimetype": "text/x-python",
   "name": "python",
   "nbconvert_exporter": "python",
   "pygments_lexer": "ipython3",
   "version": "3.6.5"
  }
 },
 "nbformat": 4,
 "nbformat_minor": 2
}
