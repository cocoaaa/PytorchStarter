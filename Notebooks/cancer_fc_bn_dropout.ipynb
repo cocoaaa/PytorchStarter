{
 "cells": [
  {
   "cell_type": "markdown",
   "metadata": {},
   "source": [
    "# Cancer binary classification: fc + bn + dropout"
   ]
  },
  {
   "cell_type": "code",
   "execution_count": 1,
   "metadata": {},
   "outputs": [],
   "source": [
    "import torch\n",
    "import torch.nn as nn\n",
    "import torch.optim as optim\n",
    "import torch.nn.functional as F\n",
    "from torch.utils.data import DataLoader, Dataset\n",
    "\n",
    "import numpy as np\n",
    "import matplotlib.pyplot as plt\n",
    "import pandas as pd\n",
    "\n",
    "from sklearn.externals import joblib\n",
    "from collections import Counter\n",
    "\n",
    "import pathlib as plib\n",
    "import pdb\n",
    "import types"
   ]
  },
  {
   "cell_type": "code",
   "execution_count": 2,
   "metadata": {},
   "outputs": [],
   "source": [
    "def imports():\n",
    "    for name, val in globals().items():\n",
    "        if isinstance(val, types.ModuleType):\n",
    "            yield val.__name__"
   ]
  },
  {
   "cell_type": "code",
   "execution_count": 3,
   "metadata": {},
   "outputs": [],
   "source": [
    "#Globals\n",
    "ROOT = plib.Path(\"/root/fastai/Playground/PytorchStarter/\")\n",
    "nRuns = 5 #number of test runs per unit\n",
    "RSEED = 11;"
   ]
  },
  {
   "cell_type": "code",
   "execution_count": 4,
   "metadata": {},
   "outputs": [
    {
     "name": "stdout",
     "output_type": "stream",
     "text": [
      "/root/fastai/Playground/PytorchStarter\n"
     ]
    }
   ],
   "source": [
    "cd $ROOT"
   ]
  },
  {
   "cell_type": "code",
   "execution_count": 5,
   "metadata": {},
   "outputs": [
    {
     "data": {
      "text/plain": [
       "['builtins',\n",
       " 'builtins',\n",
       " 'torch',\n",
       " 'torch.nn',\n",
       " 'torch.optim',\n",
       " 'torch.nn.functional',\n",
       " 'numpy',\n",
       " 'matplotlib.pyplot',\n",
       " 'pandas',\n",
       " 'sklearn.externals.joblib',\n",
       " 'pathlib',\n",
       " 'pdb',\n",
       " 'types']"
      ]
     },
     "execution_count": 5,
     "metadata": {},
     "output_type": "execute_result"
    }
   ],
   "source": [
    "# To list all packages imported\n",
    "list(imports())"
   ]
  },
  {
   "cell_type": "markdown",
   "metadata": {},
   "source": [
    "## Load cancer dataset (binary classification)"
   ]
  },
  {
   "cell_type": "code",
   "execution_count": 6,
   "metadata": {},
   "outputs": [],
   "source": [
    "from sklearn.datasets import load_breast_cancer"
   ]
  },
  {
   "cell_type": "code",
   "execution_count": 7,
   "metadata": {},
   "outputs": [
    {
     "name": "stdout",
     "output_type": "stream",
     "text": [
      "(569, 30) (569,)\n",
      "classes:  [0 1]\n"
     ]
    }
   ],
   "source": [
    "cancer_xy = load_breast_cancer()\n",
    "cancer_x = cancer_xy.data\n",
    "cancer_y = cancer_xy.target\n",
    "print(cancer_x.shape, cancer_y.shape)\n",
    "print(\"classes: \", np.unique(cancer_y))"
   ]
  },
  {
   "cell_type": "code",
   "execution_count": 8,
   "metadata": {},
   "outputs": [
    {
     "data": {
      "text/html": [
       "<div>\n",
       "<style scoped>\n",
       "    .dataframe tbody tr th:only-of-type {\n",
       "        vertical-align: middle;\n",
       "    }\n",
       "\n",
       "    .dataframe tbody tr th {\n",
       "        vertical-align: top;\n",
       "    }\n",
       "\n",
       "    .dataframe thead th {\n",
       "        text-align: right;\n",
       "    }\n",
       "</style>\n",
       "<table border=\"1\" class=\"dataframe\">\n",
       "  <thead>\n",
       "    <tr style=\"text-align: right;\">\n",
       "      <th></th>\n",
       "      <th>0</th>\n",
       "      <th>1</th>\n",
       "      <th>2</th>\n",
       "      <th>3</th>\n",
       "      <th>4</th>\n",
       "      <th>5</th>\n",
       "      <th>6</th>\n",
       "      <th>7</th>\n",
       "      <th>8</th>\n",
       "      <th>9</th>\n",
       "      <th>...</th>\n",
       "      <th>20</th>\n",
       "      <th>21</th>\n",
       "      <th>22</th>\n",
       "      <th>23</th>\n",
       "      <th>24</th>\n",
       "      <th>25</th>\n",
       "      <th>26</th>\n",
       "      <th>27</th>\n",
       "      <th>28</th>\n",
       "      <th>29</th>\n",
       "    </tr>\n",
       "  </thead>\n",
       "  <tbody>\n",
       "    <tr>\n",
       "      <th>0</th>\n",
       "      <td>17.99</td>\n",
       "      <td>10.38</td>\n",
       "      <td>122.80</td>\n",
       "      <td>1001.0</td>\n",
       "      <td>0.11840</td>\n",
       "      <td>0.27760</td>\n",
       "      <td>0.3001</td>\n",
       "      <td>0.14710</td>\n",
       "      <td>0.2419</td>\n",
       "      <td>0.07871</td>\n",
       "      <td>...</td>\n",
       "      <td>25.38</td>\n",
       "      <td>17.33</td>\n",
       "      <td>184.60</td>\n",
       "      <td>2019.0</td>\n",
       "      <td>0.1622</td>\n",
       "      <td>0.6656</td>\n",
       "      <td>0.7119</td>\n",
       "      <td>0.2654</td>\n",
       "      <td>0.4601</td>\n",
       "      <td>0.11890</td>\n",
       "    </tr>\n",
       "    <tr>\n",
       "      <th>1</th>\n",
       "      <td>20.57</td>\n",
       "      <td>17.77</td>\n",
       "      <td>132.90</td>\n",
       "      <td>1326.0</td>\n",
       "      <td>0.08474</td>\n",
       "      <td>0.07864</td>\n",
       "      <td>0.0869</td>\n",
       "      <td>0.07017</td>\n",
       "      <td>0.1812</td>\n",
       "      <td>0.05667</td>\n",
       "      <td>...</td>\n",
       "      <td>24.99</td>\n",
       "      <td>23.41</td>\n",
       "      <td>158.80</td>\n",
       "      <td>1956.0</td>\n",
       "      <td>0.1238</td>\n",
       "      <td>0.1866</td>\n",
       "      <td>0.2416</td>\n",
       "      <td>0.1860</td>\n",
       "      <td>0.2750</td>\n",
       "      <td>0.08902</td>\n",
       "    </tr>\n",
       "    <tr>\n",
       "      <th>2</th>\n",
       "      <td>19.69</td>\n",
       "      <td>21.25</td>\n",
       "      <td>130.00</td>\n",
       "      <td>1203.0</td>\n",
       "      <td>0.10960</td>\n",
       "      <td>0.15990</td>\n",
       "      <td>0.1974</td>\n",
       "      <td>0.12790</td>\n",
       "      <td>0.2069</td>\n",
       "      <td>0.05999</td>\n",
       "      <td>...</td>\n",
       "      <td>23.57</td>\n",
       "      <td>25.53</td>\n",
       "      <td>152.50</td>\n",
       "      <td>1709.0</td>\n",
       "      <td>0.1444</td>\n",
       "      <td>0.4245</td>\n",
       "      <td>0.4504</td>\n",
       "      <td>0.2430</td>\n",
       "      <td>0.3613</td>\n",
       "      <td>0.08758</td>\n",
       "    </tr>\n",
       "    <tr>\n",
       "      <th>3</th>\n",
       "      <td>11.42</td>\n",
       "      <td>20.38</td>\n",
       "      <td>77.58</td>\n",
       "      <td>386.1</td>\n",
       "      <td>0.14250</td>\n",
       "      <td>0.28390</td>\n",
       "      <td>0.2414</td>\n",
       "      <td>0.10520</td>\n",
       "      <td>0.2597</td>\n",
       "      <td>0.09744</td>\n",
       "      <td>...</td>\n",
       "      <td>14.91</td>\n",
       "      <td>26.50</td>\n",
       "      <td>98.87</td>\n",
       "      <td>567.7</td>\n",
       "      <td>0.2098</td>\n",
       "      <td>0.8663</td>\n",
       "      <td>0.6869</td>\n",
       "      <td>0.2575</td>\n",
       "      <td>0.6638</td>\n",
       "      <td>0.17300</td>\n",
       "    </tr>\n",
       "    <tr>\n",
       "      <th>4</th>\n",
       "      <td>20.29</td>\n",
       "      <td>14.34</td>\n",
       "      <td>135.10</td>\n",
       "      <td>1297.0</td>\n",
       "      <td>0.10030</td>\n",
       "      <td>0.13280</td>\n",
       "      <td>0.1980</td>\n",
       "      <td>0.10430</td>\n",
       "      <td>0.1809</td>\n",
       "      <td>0.05883</td>\n",
       "      <td>...</td>\n",
       "      <td>22.54</td>\n",
       "      <td>16.67</td>\n",
       "      <td>152.20</td>\n",
       "      <td>1575.0</td>\n",
       "      <td>0.1374</td>\n",
       "      <td>0.2050</td>\n",
       "      <td>0.4000</td>\n",
       "      <td>0.1625</td>\n",
       "      <td>0.2364</td>\n",
       "      <td>0.07678</td>\n",
       "    </tr>\n",
       "  </tbody>\n",
       "</table>\n",
       "<p>5 rows × 30 columns</p>\n",
       "</div>"
      ],
      "text/plain": [
       "      0      1       2       3        4        5       6        7       8   \\\n",
       "0  17.99  10.38  122.80  1001.0  0.11840  0.27760  0.3001  0.14710  0.2419   \n",
       "1  20.57  17.77  132.90  1326.0  0.08474  0.07864  0.0869  0.07017  0.1812   \n",
       "2  19.69  21.25  130.00  1203.0  0.10960  0.15990  0.1974  0.12790  0.2069   \n",
       "3  11.42  20.38   77.58   386.1  0.14250  0.28390  0.2414  0.10520  0.2597   \n",
       "4  20.29  14.34  135.10  1297.0  0.10030  0.13280  0.1980  0.10430  0.1809   \n",
       "\n",
       "        9    ...        20     21      22      23      24      25      26  \\\n",
       "0  0.07871   ...     25.38  17.33  184.60  2019.0  0.1622  0.6656  0.7119   \n",
       "1  0.05667   ...     24.99  23.41  158.80  1956.0  0.1238  0.1866  0.2416   \n",
       "2  0.05999   ...     23.57  25.53  152.50  1709.0  0.1444  0.4245  0.4504   \n",
       "3  0.09744   ...     14.91  26.50   98.87   567.7  0.2098  0.8663  0.6869   \n",
       "4  0.05883   ...     22.54  16.67  152.20  1575.0  0.1374  0.2050  0.4000   \n",
       "\n",
       "       27      28       29  \n",
       "0  0.2654  0.4601  0.11890  \n",
       "1  0.1860  0.2750  0.08902  \n",
       "2  0.2430  0.3613  0.08758  \n",
       "3  0.2575  0.6638  0.17300  \n",
       "4  0.1625  0.2364  0.07678  \n",
       "\n",
       "[5 rows x 30 columns]"
      ]
     },
     "execution_count": 8,
     "metadata": {},
     "output_type": "execute_result"
    }
   ],
   "source": [
    "pd.DataFrame(cancer_x).head()"
   ]
  },
  {
   "cell_type": "markdown",
   "metadata": {},
   "source": [
    "Define cancer dataset, dataloader"
   ]
  },
  {
   "cell_type": "code",
   "execution_count": 9,
   "metadata": {},
   "outputs": [],
   "source": [
    "class CancerDataset(Dataset):\n",
    "    def __init__(self, xy, ids, transform=None ):\n",
    "        self.ids = ids\n",
    "        self.len = len(ids)\n",
    "        self.data = xy.data\n",
    "        self.targets = xy.target\n",
    "        self.transform = transform\n",
    "    \n",
    "    def __len__(self):\n",
    "        return self.len\n",
    "    \n",
    "    def __getitem__(self, idx):\n",
    "        \"\"\"Returns a sample = [data[idx], targets[idx], idx]\"\"\"\n",
    "        ID = self.ids[idx]\n",
    "        sample = [self.data[ID], self.targets[ID], idx]\n",
    "        \n",
    "        if self.transform:\n",
    "            sample = self.transform(sample)\n",
    "        return sample"
   ]
  },
  {
   "cell_type": "markdown",
   "metadata": {},
   "source": [
    "Divide the indices into train, dev, test\n"
   ]
  },
  {
   "cell_type": "code",
   "execution_count": 10,
   "metadata": {},
   "outputs": [],
   "source": [
    "dataset = CancerDataset(cancer_xy, range(len(cancer_xy)))"
   ]
  },
  {
   "cell_type": "markdown",
   "metadata": {},
   "source": [
    "#### First, partition the dataset into train, dev, test sets"
   ]
  },
  {
   "cell_type": "code",
   "execution_count": 11,
   "metadata": {},
   "outputs": [],
   "source": [
    "from sklearn.model_selection import train_test_split \n",
    "labels = dataset.targets\n",
    "indices = range(len(labels))\n",
    "train_dev_ids, test_ids = train_test_split(indices,\n",
    "                                        stratify=labels,\n",
    "                                        test_size=0.1, \n",
    "                                        random_state=RSEED) #stratified "
   ]
  },
  {
   "cell_type": "code",
   "execution_count": 12,
   "metadata": {},
   "outputs": [],
   "source": [
    "def print_counts(indices, labels, categories):\n",
    "    #todo\n",
    "    \"\"\"Check ratio of 0's and 1's in the labels selected by 'indices'\n",
    "    Args:\n",
    "    ---\n",
    "    - indices: 1D array for selected indices of labels\n",
    "    - labels: an array of 0s and 1s (if binary) or 0,...,K-1 indicating each class label\n",
    "    Note len(labels) >= len(indices)\n",
    "    - categories (1D array): array of class labels to compute the ratio \n",
    "    \"\"\"\n",
    "    filtered = labels[indices]\n",
    "    if isinstance(filtered, torch.Tensor): filtered = filtered.numpy();\n",
    "    if isinstance(filtered, list ): filtered = np.array(filtered);\n",
    "        \n",
    "    print([sum(filtered==categories[i]) for i in range(len(categories))])\n",
    "    \n",
    "def print_ratios(indices, labels, categories):\n",
    "    \"\"\"Check ratio of 0's and 1's in the labels selected by 'indices'\n",
    "    Args:\n",
    "    ---\n",
    "    - indices: 1D array for selected indices of labels\n",
    "    - labels: an array of 0s and 1s (if binary) or 0,...,K-1 indicating each class label\n",
    "    Note len(labels) >= len(indices)\n",
    "    - categories (1D array): array of class labels to compute the ratio \n",
    "    \"\"\"\n",
    "    filtered = labels[indices]\n",
    "    if isinstance(filtered, torch.Tensor): filtered = filtered.numpy();\n",
    "    if isinstance(filtered, list ): filtered = np.array(filtered);\n",
    "    n = len(filtered)\n",
    "        \n",
    "    print([sum(filtered==categories[i])/n for i in range(len(categories))])"
   ]
  },
  {
   "cell_type": "code",
   "execution_count": 13,
   "metadata": {},
   "outputs": [
    {
     "name": "stdout",
     "output_type": "stream",
     "text": [
      "class labels:  [0 1]\n",
      "[0.373046875, 0.626953125]\n",
      "[0.3684210526315789, 0.631578947368421]\n"
     ]
    }
   ],
   "source": [
    "categories = np.unique(dataset.targets)\n",
    "print(\"class labels: \", categories)\n",
    "print_ratios(train_dev_ids, labels, categories)\n",
    "print_ratios(test_ids, labels, categories)"
   ]
  },
  {
   "cell_type": "code",
   "execution_count": 14,
   "metadata": {},
   "outputs": [
    {
     "name": "stdout",
     "output_type": "stream",
     "text": [
      "min and max indices should corresponds to 0 and 511: (3, 511)\n"
     ]
    }
   ],
   "source": [
    "# partition train_ids into train_ids and dev_ids\n",
    "train_dev_labels = labels[train_dev_ids]\n",
    "indices = range(len(train_dev_ids))\n",
    "train_ids, dev_ids = train_test_split(indices, \n",
    "                                     stratify=train_dev_labels,\n",
    "                                     test_size=0.2,\n",
    "                                     random_state=RSEED)\n",
    "imax = max(max(train_ids, dev_ids))\n",
    "imin = min(min(train_ids, dev_ids))\n",
    "print(f\"min and max indices should corresponds to 0 and {len(train_dev_labels)-1}: {imin, imax}\")\n",
    "\n",
    "# map it back to index to (the original) y\n",
    "train_ids = np.array(train_dev_ids)[train_ids]\n",
    "dev_ids = np.array(train_dev_ids)[dev_ids]\n",
    "\n",
    "# make test_ids also a np array\n",
    "test_ids = np.array(test_ids)"
   ]
  },
  {
   "cell_type": "code",
   "execution_count": 15,
   "metadata": {},
   "outputs": [
    {
     "name": "stdout",
     "output_type": "stream",
     "text": [
      "[0.3740831295843521, 0.6259168704156479]\n",
      "[0.36893203883495146, 0.6310679611650486]\n",
      "[0.3684210526315789, 0.631578947368421]\n"
     ]
    }
   ],
   "source": [
    "# check ratios\n",
    "for index_array in [train_ids, dev_ids, test_ids]:\n",
    "    print_ratios(index_array, labels, categories)\n",
    "    \n",
    "        \n",
    "# intersection check\n",
    "s1 = set(train_ids); s2 = set(dev_ids); s3 = set(test_ids)\n",
    "assert( len(s1.intersection(s2).intersection(s3)) == 0)"
   ]
  },
  {
   "cell_type": "markdown",
   "metadata": {},
   "source": [
    "Train, Dev, Test sizes"
   ]
  },
  {
   "cell_type": "code",
   "execution_count": 16,
   "metadata": {},
   "outputs": [
    {
     "name": "stdout",
     "output_type": "stream",
     "text": [
      "[409, 103, 57]\n"
     ]
    }
   ],
   "source": [
    "print([len(ids) for ids in [train_ids, dev_ids, test_ids]])"
   ]
  },
  {
   "cell_type": "markdown",
   "metadata": {},
   "source": [
    "Woohoo!"
   ]
  },
  {
   "cell_type": "markdown",
   "metadata": {},
   "source": [
    "## Define Luna dataset and dataloader objects"
   ]
  },
  {
   "cell_type": "markdown",
   "metadata": {},
   "source": [
    "First, define a transformation from numpy -> torch.FloatTensor"
   ]
  },
  {
   "cell_type": "code",
   "execution_count": 17,
   "metadata": {},
   "outputs": [],
   "source": [
    "class npToFloatTensor(object):\n",
    "    def __init__(self):\n",
    "        pass\n",
    "    def __call__(self, sample):\n",
    "        datum, target, idx = sample #np.ndarray, an integer, idx to __getitem__ of Dataset\n",
    "#         pdb.set_trace()\n",
    "        \n",
    "        datum = torch.from_numpy(datum).type(torch.float) #float32\n",
    "        \n",
    "        # BCLoss takes in both int and float tensor\n",
    "        # CrossEntropyLoss requires target to be LongTensor, ie. int\n",
    "        target = torch.tensor(target, dtype=torch.float)\n",
    "        #todo: to int?\n",
    "        return (datum, target, idx)"
   ]
  },
  {
   "cell_type": "code",
   "execution_count": 18,
   "metadata": {},
   "outputs": [],
   "source": [
    "partition = {'train': train_ids, \n",
    "             'dev': dev_ids, \n",
    "             'train_dev': train_dev_ids,\n",
    "             'test': test_ids}"
   ]
  },
  {
   "cell_type": "code",
   "execution_count": 19,
   "metadata": {},
   "outputs": [],
   "source": [
    "# train_dataset = LunaPickleDataset(fpath, \n",
    "#                                   partition['train'], \n",
    "#                                   root_dir=ROOT,\n",
    "#                                   transform=npToFloatTensor()\n",
    "#                                  )\n",
    "# dev_dataset = LunaPickleDataset(fpath, \n",
    "#                                 partition['dev'],\n",
    "#                                 root_dir=ROOT,\n",
    "#                                 transform=npToFloatTensor())\n",
    "\n",
    "# test_dataset = LunaPickleDataset(fpath, \n",
    "#                                  partition['test'], \n",
    "#                                  root_dir=ROOT,\n",
    "#                                  transform=npToFloatTensor())"
   ]
  },
  {
   "cell_type": "code",
   "execution_count": 20,
   "metadata": {},
   "outputs": [],
   "source": [
    "train_dataset = CancerDataset(cancer_xy, \n",
    "                              partition['train'], \n",
    "                              transform=npToFloatTensor())\n",
    "dev_dataset = CancerDataset(cancer_xy, \n",
    "                            partition['dev'],\n",
    "                            transform=npToFloatTensor())\n",
    "\n",
    "train_dev_dataset = CancerDataset(cancer_xy, \n",
    "                            partition['train_dev'],\n",
    "                            transform=npToFloatTensor())\n",
    "\n",
    "test_dataset = CancerDataset(cancer_xy, \n",
    "                            partition['test'], \n",
    "                            transform=npToFloatTensor())"
   ]
  },
  {
   "cell_type": "code",
   "execution_count": 21,
   "metadata": {},
   "outputs": [
    {
     "data": {
      "text/plain": [
       "(tensor([ 1.3690e+01,  1.6070e+01,  8.7840e+01,  5.7910e+02,  8.3020e-02,\n",
       "          6.3740e-02,  2.5560e-02,  2.0310e-02,  1.8720e-01,  5.6690e-02,\n",
       "          1.7050e-01,  5.0660e-01,  1.3720e+00,  1.4000e+01,  4.2300e-03,\n",
       "          1.5870e-02,  1.1690e-02,  6.3350e-03,  1.9430e-02,  2.1770e-03,\n",
       "          1.4840e+01,  2.0210e+01,  9.9160e+01,  6.7060e+02,  1.1050e-01,\n",
       "          2.0960e-01,  1.3460e-01,  6.9870e-02,  3.3230e-01,  7.7010e-02]),\n",
       " tensor(1.),\n",
       " 0)"
      ]
     },
     "execution_count": 21,
     "metadata": {},
     "output_type": "execute_result"
    }
   ],
   "source": [
    "dev_dataset[0]"
   ]
  },
  {
   "cell_type": "code",
   "execution_count": 22,
   "metadata": {},
   "outputs": [],
   "source": [
    "# Dataloader instances\n",
    "train_loader_params = {'batch_size': 32,\n",
    "              'shuffle': True,\n",
    "              'num_workers':4}\n",
    "\n",
    "train_loader = DataLoader(dataset=train_dataset, **train_loader_params)\n",
    "train_dev_loader = DataLoader(dataset=train_dev_dataset, **train_loader_params)\n",
    "\n",
    "## Each loads its entire dataset in a single iteration\n",
    "heavy_train_loader = DataLoader(dataset=train_dataset, batch_size=len(train_ids), shuffle=False)\n",
    "dev_loader = DataLoader(dataset=dev_dataset, batch_size=len(dev_ids), shuffle=False)\n",
    "test_loader = DataLoader(dataset=test_dataset, batch_size=len(test_ids), shuffle=False)"
   ]
  },
  {
   "cell_type": "markdown",
   "metadata": {},
   "source": [
    "#### Test loaders"
   ]
  },
  {
   "cell_type": "code",
   "execution_count": 23,
   "metadata": {},
   "outputs": [
    {
     "name": "stdout",
     "output_type": "stream",
     "text": [
      "num cycles:  13\n",
      "num cycles:  16\n",
      "num cycles:  1\n",
      "num cycles:  1\n"
     ]
    }
   ],
   "source": [
    "for loader in [train_loader, train_dev_loader, dev_loader, test_loader ]:\n",
    "    print('num cycles: ', len(loader))\n",
    "#     dataiter = iter(loader)\n",
    "#     print('dtype: ', type(dataiter.next()[0][0]))\n",
    "#     print(dataiter.next())\n"
   ]
  },
  {
   "cell_type": "markdown",
   "metadata": {},
   "source": [
    "Ready!"
   ]
  },
  {
   "cell_type": "markdown",
   "metadata": {},
   "source": [
    "##  Try a deeper network"
   ]
  },
  {
   "cell_type": "markdown",
   "metadata": {},
   "source": [
    "Simple dropout layer "
   ]
  },
  {
   "cell_type": "code",
   "execution_count": 24,
   "metadata": {},
   "outputs": [
    {
     "name": "stdout",
     "output_type": "stream",
     "text": [
      "in: \n",
      " tensor([[ 0.3394,  0.1028,  0.9968],\n",
      "        [ 0.3285,  0.3713,  0.1801],\n",
      "        [ 0.5952,  0.0445,  0.7342],\n",
      "        [ 0.3644,  0.7636,  0.1619]])\n",
      "out: \n",
      " tensor([[ 0.0000,  0.0000,  1.9936],\n",
      "        [ 0.0000,  0.7427,  0.0000],\n",
      "        [ 1.1904,  0.0891,  1.4683],\n",
      "        [ 0.7288,  1.5273,  0.3238]])\n"
     ]
    }
   ],
   "source": [
    "dropout = nn.Dropout(p=0.5)\n",
    "xsample = torch.rand(4,3);print('in: \\n', xsample)\n",
    "yout = dropout(xsample); print('out: \\n', yout)"
   ]
  },
  {
   "cell_type": "code",
   "execution_count": 25,
   "metadata": {},
   "outputs": [],
   "source": [
    "N,D =  train_dataset.len, train_dataset.data.shape[1]\n",
    "criterion = nn.BCELoss(size_average=True)"
   ]
  },
  {
   "cell_type": "code",
   "execution_count": 26,
   "metadata": {},
   "outputs": [],
   "source": [
    "class DeepBCModel(nn.Module):\n",
    "    def __init__(self, dims, \n",
    "                hidden_activation=nn.ReLU(), \n",
    "                output_activation=nn.Sigmoid(),\n",
    "                p_dropout=None\n",
    "                ):\n",
    "        \"\"\"\n",
    "        Args:\n",
    "        ----\n",
    "        - dims (list): a list of dimensions of layer. [inDims, H1, H2,...].\n",
    "        It doesn't include the output layer's size, which is fixed to 1\n",
    "\n",
    "        - hidden_activation (nn.modules.activation instance): for hidden units\n",
    "        - output_activation (nn.modules.activation instace):  for output unit\n",
    "        - p_dropout (None or float in [0,1]): probability for hidden dropout units\n",
    "        \"\"\"\n",
    "        \n",
    "        super(DeepBCModel,self).__init__()\n",
    "        \n",
    "        self.n_layers = len(dims)\n",
    "        self.n_batch_norms = self.n_layers - 1 # Q:don't need for the last layer(right before softmax)\n",
    "        \n",
    "        self.p_dropout = p_dropout\n",
    "        if self.p_dropout is None:\n",
    "            self.do_dropout = False\n",
    "        else: \n",
    "            self.do_dropout = True\n",
    "            \n",
    "        self.__build_layers__(dims)\n",
    "\n",
    "        self.h_activation = hidden_activation\n",
    "        self.o_activation = output_activation\n",
    "        \n",
    "    def __build_layers__(self, dims):\n",
    "\n",
    "        for i in range(len(dims)-1):\n",
    "            self.add_module(f'li{i}', nn.Linear(dims[i],dims[i+1]))\n",
    "            self.add_module(f'bn{i}', nn.BatchNorm1d(dims[i+1]))\n",
    "            if self.do_dropout:\n",
    "                self.add_module(f'dropout{i}', nn.Dropout(p=self.p_dropout))\n",
    "        self.add_module(f'li{len(dims)-1}', nn.Linear(dims[-1],1))\n",
    "        \n",
    "    def forward(self, x):\n",
    "        y_pred = x\n",
    "\n",
    "        for i in range(self.n_layers - 1): #exclude the last weight\n",
    "            li = getattr(self, f\"li{i}\")\n",
    "            bn = getattr(self, f\"bn{i}\")\n",
    "            y_pred = self.h_activation(bn(li(y_pred)))\n",
    "            \n",
    "            if self.do_dropout:\n",
    "                dropout = getattr(self, f\"dropout{i}\")\n",
    "                y_pred = dropout(y_pred)\n",
    "\n",
    "        li = getattr(self, f\"li{self.n_layers-1}\")\n",
    "        y_pred = self.o_activation(li(y_pred))\n",
    "\n",
    "        return y_pred\n"
   ]
  },
  {
   "cell_type": "code",
   "execution_count": 27,
   "metadata": {},
   "outputs": [],
   "source": [
    "def get_train_loss(model, criterion, train_dataset, exclude_indices):\n",
    "    \"\"\"\n",
    "    Compute loss on training dataset except data indexed at\n",
    "    exclude_indices.\n",
    "    Args:\n",
    "    - model: trained model with forward function\n",
    "    - criterion: loss function that takes in (ypred, y)\n",
    "    - train_dataset (Dataset): training dataset \n",
    "    - exclude_indices: indices to exclude from train_dataset \n",
    "        when computing the loss, eg: batch indices used to \n",
    "        fit the current model\n",
    "    \"\"\"\n",
    "    n = len(train_dataset)\n",
    "    if isinstance(exclude_indices, torch.Tensor):\n",
    "        exclude_indices = exclude_indices.numpy()\n",
    "    include_indices = [i for i in range(n) if i not in exclude_indices]\n",
    "    samples = train_dataset[include_indices]\n",
    "    x = samples[0]\n",
    "    y = samples[1]\n",
    "#     pdb.set_trace()\n",
    "#     x_tensor = torch.tensor(x)\n",
    "#     y_tensor = torch.stack(y)\n",
    "#     pdb.set_trace()\n",
    "    with torch.no_grad():\n",
    "        ypred = model(x).type_as(y)\n",
    "        loss = criterion(ypred, y).item()\n",
    "    return loss  "
   ]
  },
  {
   "cell_type": "code",
   "execution_count": 28,
   "metadata": {},
   "outputs": [],
   "source": [
    "def get_loss_on_entire_dataset(model, criterion, loader):\n",
    "    \"\"\"Assumes dataset has a batch_size == len(dataset),\n",
    "    ie. one iter results in iterating the entire dataset.\"\"\"\n",
    "    n = len(loader.dataset)\n",
    "    assert(n == loader.batch_size)\n",
    "    \n",
    "#     print(model.li4.bias[:10])\n",
    "#             pdb.set_trace()\n",
    "\n",
    "    with torch.no_grad():\n",
    "        loss = 0\n",
    "        acc = 0 #general acc\n",
    "        hit_accs = [] #acc per label\n",
    "\n",
    "        for x, y, _ in loader:\n",
    "            ypred = model(x).view(y.size()).type_as(y)\n",
    "            loss = criterion(ypred, y).item()\n",
    "            \n",
    "            # make a decision at 0.5\n",
    "            # boolean tensor is uint8 type. Cast it to tensor.float32\n",
    "            decision = (ypred > 0.5).view(y.size()).type(y.dtype)\n",
    "            isCorrect = (decision==y).numpy()\n",
    "            acc = sum(isCorrect)/len(isCorrect)\n",
    "\n",
    "            # 0->0 accuracy, 1->1 accuracy\n",
    "            for label in y.unique():\n",
    "                hit_count = [1 for i in range(n) if decision[i]==label and y[i]==label]\n",
    "                hit_acc = sum(hit_count) / (y==label).sum().item() #sum(y==label).item()\n",
    "                hit_accs.append(hit_acc)\n",
    "    return [loss, acc, hit_accs]"
   ]
  },
  {
   "cell_type": "code",
   "execution_count": 29,
   "metadata": {},
   "outputs": [],
   "source": [
    "def show_weights(model, ncols=3, figsize=(20,10)):\n",
    "    # visualize weights\n",
    "    n = model.n_layers\n",
    "#     pdb.set_trace()\n",
    "    nrows = int(np.floor(n/ncols))\n",
    "    f,axes = plt.subplots(nrows, ncols, figsize=figsize)\n",
    "    axes = axes.flatten()\n",
    "    \n",
    "    i = 0\n",
    "    for mname,m in model.named_children():\n",
    "        if isinstance(m, nn.Linear):\n",
    "            w = m.weight.data.numpy()\n",
    "            if w.shape[0] == 1 or w.shape[1] == 1:\n",
    "                w = w.reshape((-1,10))\n",
    "\n",
    "            print (f'{mname}: {w.min(), w.max()}')\n",
    "            axes[i].set_title(mname)\n",
    "            axes[i].axis('off')\n",
    "            axes[i].imshow(w)\n",
    "            i += 1\n",
    "    plt.show()"
   ]
  },
  {
   "cell_type": "markdown",
   "metadata": {},
   "source": [
    "- Test DeepBCModel constructor"
   ]
  },
  {
   "cell_type": "code",
   "execution_count": 30,
   "metadata": {},
   "outputs": [
    {
     "name": "stdout",
     "output_type": "stream",
     "text": [
      "DeepBCModel(\n",
      "  (li0): Linear(in_features=30, out_features=200, bias=True)\n",
      "  (bn0): BatchNorm1d(200, eps=1e-05, momentum=0.1, affine=True, track_running_stats=True)\n",
      "  (li1): Linear(in_features=200, out_features=200, bias=True)\n",
      "  (bn1): BatchNorm1d(200, eps=1e-05, momentum=0.1, affine=True, track_running_stats=True)\n",
      "  (li2): Linear(in_features=200, out_features=200, bias=True)\n",
      "  (bn2): BatchNorm1d(200, eps=1e-05, momentum=0.1, affine=True, track_running_stats=True)\n",
      "  (li3): Linear(in_features=200, out_features=1, bias=True)\n",
      "  (h_activation): ReLU()\n",
      "  (o_activation): Sigmoid()\n",
      ")\n",
      "4\n",
      "==============================\n",
      "DeepBCModel(\n",
      "  (li0): Linear(in_features=30, out_features=200, bias=True)\n",
      "  (bn0): BatchNorm1d(200, eps=1e-05, momentum=0.1, affine=True, track_running_stats=True)\n",
      "  (dropout0): Dropout(p=0.2)\n",
      "  (li1): Linear(in_features=200, out_features=200, bias=True)\n",
      "  (bn1): BatchNorm1d(200, eps=1e-05, momentum=0.1, affine=True, track_running_stats=True)\n",
      "  (dropout1): Dropout(p=0.2)\n",
      "  (li2): Linear(in_features=200, out_features=200, bias=True)\n",
      "  (bn2): BatchNorm1d(200, eps=1e-05, momentum=0.1, affine=True, track_running_stats=True)\n",
      "  (dropout2): Dropout(p=0.2)\n",
      "  (li3): Linear(in_features=200, out_features=1, bias=True)\n",
      "  (h_activation): ReLU()\n",
      "  (o_activation): Sigmoid()\n",
      ")\n",
      "4\n"
     ]
    }
   ],
   "source": [
    "N,D =  train_dataset.len, train_dataset.data.shape[1]\n",
    "\n",
    "dims = [D, 200,200,200]\n",
    "M1 = DeepBCModel(dims) #fc+bn\n",
    "M2 = DeepBCModel(dims, p_dropout=0.2) #bn+fc+dropout\n",
    "criterion = nn.BCELoss(size_average=True)\n",
    "\n",
    "print(M1)\n",
    "print(M1.n_layers)\n",
    "\n",
    "print(\"=\"*30)\n",
    "print(M2)\n",
    "print(M2.n_layers)"
   ]
  },
  {
   "cell_type": "code",
   "execution_count": 31,
   "metadata": {},
   "outputs": [],
   "source": [
    "# check forward function\n",
    "dataiter = iter(train_loader)\n",
    "x1, y1, idx = dataiter.next();"
   ]
  },
  {
   "cell_type": "code",
   "execution_count": 32,
   "metadata": {},
   "outputs": [],
   "source": [
    "M1(x1);"
   ]
  },
  {
   "cell_type": "code",
   "execution_count": 33,
   "metadata": {},
   "outputs": [],
   "source": [
    "M2(x1);"
   ]
  },
  {
   "cell_type": "markdown",
   "metadata": {},
   "source": [
    "- Test get_train_loss\n"
   ]
  },
  {
   "cell_type": "code",
   "execution_count": 35,
   "metadata": {},
   "outputs": [
    {
     "name": "stderr",
     "output_type": "stream",
     "text": [
      "/root/anaconda3/envs/fastai/lib/python3.6/site-packages/torch/nn/functional.py:1474: UserWarning: Using a target size (torch.Size([377])) that is different to the input size (torch.Size([377, 1])) is deprecated. Please ensure they have the same size.\n",
      "  \"Please ensure they have the same size.\".format(target.size(), input.size()))\n"
     ]
    },
    {
     "data": {
      "text/plain": [
       "0.7390124797821045"
      ]
     },
     "execution_count": 35,
     "metadata": {},
     "output_type": "execute_result"
    }
   ],
   "source": [
    "excludes = range(32)\n",
    "get_train_loss(M1, criterion, train_dataset, excludes)"
   ]
  },
  {
   "cell_type": "markdown",
   "metadata": {},
   "source": [
    "### Experiment: fc + bn + dropout "
   ]
  },
  {
   "cell_type": "code",
   "execution_count": 36,
   "metadata": {},
   "outputs": [],
   "source": [
    "# Hyperparameters\n",
    "learning_rate = 0.0001\n",
    "nEpoch = 1000\n",
    "H1 = 100; H2 = 100;# H3 = 50; H4 = 50\n",
    "dims = [D, H1, H2]#, H3, H4]\n",
    "plt.ion() # turn on interactive mode"
   ]
  },
  {
   "cell_type": "code",
   "execution_count": 37,
   "metadata": {},
   "outputs": [],
   "source": [
    "model = DeepBCModel(dims, p_dropout=0.2)\n",
    "model_name = 'cancer_fc_bn_dropout0.2'\n",
    "# model.apply(weight_init)"
   ]
  },
  {
   "cell_type": "code",
   "execution_count": 38,
   "metadata": {},
   "outputs": [
    {
     "name": "stdout",
     "output_type": "stream",
     "text": [
      "li0: (-0.18254733, 0.18254283)\n",
      "li1: (-0.09997324, 0.09994439)\n",
      "li2: (-0.097912006, 0.09950016)\n"
     ]
    },
    {
     "data": {
      "image/png": "[encoded data removed]",
      "text/plain": [
       "<Figure size 1440x720 with 3 Axes>"
      ]
     },
     "metadata": {},
     "output_type": "display_data"
    }
   ],
   "source": [
    "# visualize first layer's initial weight\n",
    "show_weights(model)"
   ]
  },
  {
   "cell_type": "code",
   "execution_count": 39,
   "metadata": {},
   "outputs": [],
   "source": [
    "optimizer = torch.optim.Adam(model.parameters(), lr=learning_rate)"
   ]
  },
  {
   "cell_type": "markdown",
   "metadata": {},
   "source": [
    "### Save and load model   \n",
    "See [sor](http://bit.ly/2uo4zt9), [pytorch forum](http://bit.ly/2zrvTg1)\n",
    "1. Save \n",
    "```pytorch\n",
    "torch.save(the_model.state_dict(), PATH)\n",
    "```\n",
    "2. Load\n",
    "```pytorch\n",
    "the_model = TheModelClass(*args, **kwargs)\n",
    "the_model.load_state_dict(torch.load(PATH))\n",
    "```"
   ]
  },
  {
   "cell_type": "code",
   "execution_count": null,
   "metadata": {},
   "outputs": [
    {
     "name": "stderr",
     "output_type": "stream",
     "text": [
      "/root/anaconda3/envs/fastai/lib/python3.6/site-packages/torch/nn/functional.py:1474: UserWarning: Using a target size (torch.Size([377])) that is different to the input size (torch.Size([377, 1])) is deprecated. Please ensure they have the same size.\n",
      "  \"Please ensure they have the same size.\".format(target.size(), input.size()))\n",
      "/root/anaconda3/envs/fastai/lib/python3.6/site-packages/torch/nn/functional.py:1474: UserWarning: Using a target size (torch.Size([384])) that is different to the input size (torch.Size([384, 1])) is deprecated. Please ensure they have the same size.\n",
      "  \"Please ensure they have the same size.\".format(target.size(), input.size()))\n"
     ]
    },
    {
     "name": "stdout",
     "output_type": "stream",
     "text": [
      "================================================================================\n",
      "epoch 0\n",
      "train loss, acc: (0.6422855854034424, 0.68)\n",
      "epoch train loss: 0.6424017548561096\n",
      "dev loss, acc: (0.6545684337615967, 0.6407766990291263)\n",
      "li0: (-0.18292621, 0.18267715)\n",
      "li1: (-0.101027936, 0.101167515)\n",
      "li2: (-0.099193595, 0.099288195)\n"
     ]
    },
    {
     "data": {
      "image/png": "[encoded data removed]",
      "text/plain": [
       "<Figure size 1440x720 with 3 Axes>"
      ]
     },
     "metadata": {},
     "output_type": "display_data"
    },
    {
     "name": "stdout",
     "output_type": "stream",
     "text": [
      "================================================================================\n",
      "epoch 49\n",
      "train loss, acc: (0.22216437757015228, 0.84)\n",
      "epoch train loss: 0.2316528707742691\n",
      "dev loss, acc: (0.2742900550365448, 0.9223300970873787)\n",
      "================================================================================\n",
      "epoch 98\n",
      "train loss, acc: (0.15036936104297638, 0.96)\n",
      "epoch train loss: 0.13581755757331848\n",
      "dev loss, acc: (0.1819184571504593, 0.9514563106796117)\n",
      "================================================================================\n",
      "epoch 147\n",
      "train loss, acc: (0.10611448436975479, 0.92)\n",
      "epoch train loss: 0.10780911892652512\n",
      "dev loss, acc: (0.14982987940311432, 0.941747572815534)\n",
      "================================================================================\n",
      "epoch 196\n",
      "train loss, acc: (0.10170812159776688, 0.96)\n",
      "epoch train loss: 0.09233616292476654\n",
      "dev loss, acc: (0.1498386412858963, 0.9320388349514563)\n",
      "================================================================================\n",
      "epoch 245\n",
      "train loss, acc: (0.08749892562627792, 0.92)\n",
      "epoch train loss: 0.07825618237257004\n",
      "dev loss, acc: (0.1441289633512497, 0.941747572815534)\n",
      "================================================================================\n",
      "epoch 294\n",
      "train loss, acc: (0.08441435545682907, 1.0)\n",
      "epoch train loss: 0.08699768781661987\n",
      "dev loss, acc: (0.13106568157672882, 0.9514563106796117)\n",
      "================================================================================\n",
      "epoch 343\n",
      "train loss, acc: (0.06953852623701096, 0.96)\n",
      "epoch train loss: 0.08144860714673996\n",
      "dev loss, acc: (0.13296037912368774, 0.9514563106796117)\n",
      "================================================================================\n",
      "epoch 392\n",
      "train loss, acc: (0.08345180004835129, 0.88)\n",
      "epoch train loss: 0.07458199560642242\n",
      "dev loss, acc: (0.1260313242673874, 0.9611650485436893)\n",
      "================================================================================\n",
      "epoch 441\n",
      "train loss, acc: (0.07556349039077759, 1.0)\n",
      "epoch train loss: 0.07820948958396912\n",
      "dev loss, acc: (0.13802430033683777, 0.9514563106796117)\n",
      "================================================================================\n",
      "epoch 490\n",
      "train loss, acc: (0.06163715198636055, 1.0)\n",
      "epoch train loss: 0.06092715263366699\n",
      "dev loss, acc: (0.12746666371822357, 0.9611650485436893)\n",
      "================================================================================\n",
      "epoch 539\n",
      "train loss, acc: (0.07052542269229889, 0.92)\n",
      "epoch train loss: 0.0730602815747261\n",
      "dev loss, acc: (0.13359713554382324, 0.9514563106796117)\n",
      "================================================================================\n",
      "epoch 588\n",
      "train loss, acc: (0.06288275867700577, 0.96)\n",
      "epoch train loss: 0.05669373646378517\n",
      "dev loss, acc: (0.13410110771656036, 0.941747572815534)\n",
      "================================================================================\n",
      "epoch 637\n",
      "train loss, acc: (0.06371333450078964, 0.92)\n",
      "epoch train loss: 0.06490872800350189\n",
      "dev loss, acc: (0.14123797416687012, 0.941747572815534)\n",
      "================================================================================\n",
      "epoch 686\n",
      "train loss, acc: (0.06685085594654083, 1.0)\n",
      "epoch train loss: 0.06325999647378922\n",
      "dev loss, acc: (0.11915824562311172, 0.9514563106796117)\n",
      "================================================================================\n",
      "epoch 735\n",
      "train loss, acc: (0.05891793966293335, 1.0)\n",
      "epoch train loss: 0.05942097678780556\n",
      "dev loss, acc: (0.11844542622566223, 0.9611650485436893)\n",
      "================================================================================\n",
      "epoch 784\n",
      "train loss, acc: (0.057722751051187515, 0.88)\n",
      "epoch train loss: 0.054892398416996\n",
      "dev loss, acc: (0.13007095456123352, 0.941747572815534)\n",
      "================================================================================\n",
      "epoch 833\n",
      "train loss, acc: (0.0570828877389431, 0.96)\n",
      "epoch train loss: 0.05389019474387169\n",
      "dev loss, acc: (0.1326955258846283, 0.9514563106796117)\n",
      "================================================================================\n",
      "epoch 882\n",
      "train loss, acc: (0.061885327100753784, 0.96)\n",
      "epoch train loss: 0.05315730348229408\n",
      "dev loss, acc: (0.13329100608825684, 0.941747572815534)\n"
     ]
    }
   ],
   "source": [
    "# Train\n",
    "debug = False\n",
    "verbose = True\n",
    "\n",
    "# loss and acc from each batch (ie. per cycle)\n",
    "batch_ls = []\n",
    "train_ls = []\n",
    "batch_accs = []\n",
    "batch_hit_accs = []\n",
    "\n",
    "# loss and acc from each epoch (ie. per epoch)\n",
    "dev_ls = []\n",
    "dev_accs = []\n",
    "epoch_dev_hit_accs = []\n",
    "\n",
    "epoch_train_ls = []\n",
    "\n",
    "model.train()\n",
    "for epoch in range(nEpoch):\n",
    "    for i, (x_batch, y_batch, i_batch) in enumerate(train_loader):\n",
    "        if debug:\n",
    "            print(x_batch.size())\n",
    "            print(y_batch.size())\n",
    "            print(i_batch.size())\n",
    "            pdb.set_trace()\n",
    "\n",
    "        #forward\n",
    "        ypred_batch = model(x_batch).view(y_batch.size())\n",
    "        \n",
    "        #loss\n",
    "        l = criterion(ypred_batch, y_batch)\n",
    "        batch_ls.append(l.item())\n",
    "        \n",
    "        #zero-out grads\n",
    "        optimizer.zero_grad()\n",
    "\n",
    "        #backward pass\n",
    "        l.backward()\n",
    "\n",
    "        #update parameters\n",
    "        optimizer.step()\n",
    "        \n",
    "        if debug:\n",
    "            print(ypred_batch.size(), ypred_batch.dtype)\n",
    "            print(y_batch.size(), y_batch.dtype)\n",
    "            print(i_batch)\n",
    "            pdb.set_trace()\n",
    "            \n",
    "        # Compute training loss and accuracy\n",
    "        train_l = get_train_loss(model, criterion, train_dataset, i_batch)\n",
    "        train_ls.append(train_l)\n",
    "        \n",
    "        # make a decision at 0.5\n",
    "        # boolean tensor is uint8 type. Cast it to tensor.float32\n",
    "        decision_batch = (ypred_batch > 0.5).view(y_batch.size()).type(y_batch.dtype)\n",
    "        isCorrect_batch = (decision_batch==y_batch).numpy()\n",
    "        batch_acc = sum(isCorrect_batch)/len(isCorrect_batch)\n",
    "        batch_accs.append(batch_acc)\n",
    "\n",
    "        # 0->0 accuracy, 1->1 accuracy\n",
    "        batch_size = len(y_batch)\n",
    "        hit_accs = []\n",
    "        for label in y_batch.unique():\n",
    "            hit_count = [1 for i in range(batch_size) if decision_batch[i]==label and y_batch[i]==label]\n",
    "#             pdb.set_trace()\n",
    "            hit_acc = sum(hit_count) / (y_batch==label).sum().item() #sum(y_batch==label).item()\n",
    "            hit_accs.append(hit_acc)\n",
    "        # collect hit_accs from each cycle\n",
    "        batch_hit_accs.append(hit_accs)\n",
    "        \n",
    "    # Dev accuracy\n",
    "    epoch_train_l, _, _ = get_loss_on_entire_dataset(model, \n",
    "                                               criterion, \n",
    "                                               loader=heavy_train_loader)\n",
    "    \n",
    "    dev_l, dev_acc, dev_hit_accs = get_loss_on_entire_dataset(model, \n",
    "                                                              criterion, \n",
    "                                                              loader=dev_loader)\n",
    "    dev_ls.append(dev_l)\n",
    "    dev_accs.append(dev_acc)\n",
    "    epoch_dev_hit_accs.append(dev_hit_accs)\n",
    "    \n",
    "    epoch_train_ls.append(epoch_train_l)\n",
    "    \n",
    "    if (verbose and epoch%49 == 0):\n",
    "        print(\"=\"*80); print(f'epoch {epoch}')\n",
    "        print(f\"train loss, acc: {train_ls[-1], batch_accs[-1]}\")\n",
    "        print(f\"epoch train loss: {epoch_train_ls[-1]}\")\n",
    "        print(f\"dev loss, acc: {dev_ls[-1], dev_accs[-1]}\")\n",
    "    \n",
    "    if verbose and (epoch==0 or epoch==nEpoch-1):\n",
    "        # visualize weights\n",
    "        show_weights(model)\n",
    "   \n",
    "    \n",
    "    # todo: accuracy on all training dataset\n",
    "# save current trained model\n",
    "from time import gmtime, strftime\n",
    "\n",
    "time_str = strftime(\"%Y_%m_%d_%H_%M\", gmtime())\n",
    "outpath = f'TrainedModel/{model_name}_{time_str}.pth.tar'\n",
    "torch.save(model.state_dict(), ROOT/outpath )\n",
    "print(f'Saved {model_name} to {outpath}')"
   ]
  },
  {
   "cell_type": "code",
   "execution_count": null,
   "metadata": {},
   "outputs": [],
   "source": [
    "f,axes = plt.subplots(3,1,figsize=(20,20))\n",
    "axes = axes.flatten()\n",
    "axes[0].plot(batch_ls, 'r', label='batch loss')\n",
    "axes[0].plot(train_ls, 'b', label='train loss')\n",
    "axes[1].plot(batch_accs, label='train acc')\n",
    "\n",
    "axes[2].plot(dev_ls, label='dev loss') #Devset error\n",
    "axes[2].plot(epoch_train_ls, label='train loss') \n",
    "\n",
    "for ax in axes:\n",
    "    ax.legend(loc='best')\n",
    "    \n",
    "print(\"per cycle log\")\n",
    "print(f\"Train batch losses: {train_ls[0], train_ls[-1]}\")\n",
    "print(f\"Train acc: {batch_accs[0], batch_accs[-1]}\")\n",
    "\n",
    "print(\"=\"*80)\n",
    "print(\"per epoch log\")\n",
    "print(f\"Train loss: {epoch_train_ls[0], epoch_train_ls[-1]}\")\n",
    "print(f\"Dev loss: {dev_ls[0], dev_ls[-1]}\")\n",
    "print(f\"Dev acc: {dev_accs[0], dev_accs[-1]}\")"
   ]
  },
  {
   "cell_type": "code",
   "execution_count": null,
   "metadata": {},
   "outputs": [],
   "source": [
    "# Test\n",
    "model.eval()\n",
    "test_l, test_acc, test_hit_accs = get_loss_on_entire_dataset(model, \n",
    "                                                              criterion, \n",
    "                                                              loader=test_loader)\n",
    "print('test loss: ', test_l)\n",
    "print('test acc: ', test_acc)\n",
    "print('test_hit_accs: ', test_hit_accs)"
   ]
  },
  {
   "cell_type": "code",
   "execution_count": null,
   "metadata": {},
   "outputs": [],
   "source": []
  }
 ],
 "metadata": {
  "kernelspec": {
   "display_name": "Python 3",
   "language": "python",
   "name": "python3"
  },
  "language_info": {
   "codemirror_mode": {
    "name": "ipython",
    "version": 3
   },
   "file_extension": ".py",
   "mimetype": "text/x-python",
   "name": "python",
   "nbconvert_exporter": "python",
   "pygments_lexer": "ipython3",
   "version": "3.6.5"
  }
 },
 "nbformat": 4,
 "nbformat_minor": 2
}
