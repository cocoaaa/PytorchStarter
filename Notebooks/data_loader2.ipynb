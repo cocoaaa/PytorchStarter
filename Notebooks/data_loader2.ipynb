{
 "cells": [
  {
   "cell_type": "markdown",
   "metadata": {},
   "source": [
    "# Data Loading and Processing (pytorch)"
   ]
  },
  {
   "cell_type": "code",
   "execution_count": 5,
   "metadata": {},
   "outputs": [],
   "source": [
    "import torch\n",
    "import numpy as np\n",
    "import pandas as pd\n",
    "from torch.utils.data import DataLoader, Dataset\n",
    "\n",
    "from collections import Counter\n",
    "from sklearn.externals import joblib\n"
   ]
  },
  {
   "cell_type": "code",
   "execution_count": 8,
   "metadata": {},
   "outputs": [],
   "source": [
    "# import images\n",
    "from skimage import io, transform"
   ]
  },
  {
   "cell_type": "code",
   "execution_count": 9,
   "metadata": {},
   "outputs": [],
   "source": [
    "import pathlib as plib\n",
    "import pdb"
   ]
  },
  {
   "cell_type": "code",
   "execution_count": 10,
   "metadata": {},
   "outputs": [],
   "source": [
    "#Globals\n",
    "ROOT = plib.Path(\"/Users/hjsong/Workspace/Luna\")\n",
    "nRuns = 5 #number of test runs per unit\n",
    "RANDOM_SEED = 15;"
   ]
  },
  {
   "cell_type": "code",
   "execution_count": 14,
   "metadata": {},
   "outputs": [
    {
     "name": "stdout",
     "output_type": "stream",
     "text": [
      "/Users/hjsong/Workspace/Luna\n"
     ]
    }
   ],
   "source": [
    "cd $ROOT"
   ]
  },
  {
   "cell_type": "code",
   "execution_count": 24,
   "metadata": {},
   "outputs": [
    {
     "name": "stdout",
     "output_type": "stream",
     "text": [
      "(6,)\n"
     ]
    }
   ],
   "source": [
    "a = np.array([1,2,3,4,5,6]); print(a.shape)"
   ]
  },
  {
   "cell_type": "code",
   "execution_count": 25,
   "metadata": {},
   "outputs": [
    {
     "data": {
      "text/plain": [
       "array([[1, 2],\n",
       "       [3, 4],\n",
       "       [5, 6]])"
      ]
     },
     "execution_count": 25,
     "metadata": {},
     "output_type": "execute_result"
    }
   ],
   "source": [
    "a.reshape(-1,2)"
   ]
  },
  {
   "cell_type": "code",
   "execution_count": 18,
   "metadata": {},
   "outputs": [
    {
     "name": "stdout",
     "output_type": "stream",
     "text": [
      "total 47160\n",
      "-rw-r--r--  1 hjsong  staff   146344 Apr 25 11:17 D_0202.pkl\n",
      "-rw-r--r--  1 hjsong  staff   169912 Apr 19 13:18 D_0202_0316.pkl\n",
      "-rw-r--r--  1 hjsong  staff   293460 Apr 19 13:18 D_0202_0316_0412.pkl\n",
      "-rw-r--r--  1 hjsong  staff    28044 Apr 25 11:17 D_0316.pkl\n",
      "-rw-r--r--  1 hjsong  staff   177322 Apr 25 11:17 D_03_26.pkl\n",
      "-rw-r--r--  1 hjsong  staff   124064 Apr 19 13:18 D_0412.pkl\n",
      "-rw-r--r--  1 hjsong  staff  4048249 Apr 25 11:17 D_absRange.pkl\n",
      "-rw-r--r--  1 hjsong  staff   691159 Apr 19 12:46 D_all_04_19.pkl\n",
      "-rw-r--r--  1 hjsong  staff   691159 Apr 19 13:18 D_all_comparison.pkl\n",
      "-rw-r--r--  1 hjsong  staff   356266 Apr 16 10:56 D_extended.pkl\n",
      "-rw-r--r--  1 hjsong  staff   156264 Apr 16 13:28 D_kgb_cracked.pkl\n",
      "-rw-r--r--  1 hjsong  staff   154991 Apr 16 13:56 D_kgb_cracked2.pkl\n",
      "-rw-r--r--  1 hjsong  staff  4048249 Apr 25 11:17 D_rateRange.pkl\n",
      "-rw-r--r--  1 hjsong  staff  4008571 Apr 26 13:56 D_responseRange_04_26.pkl\n",
      "-rw-r--r--  1 hjsong  staff   697196 Apr 26 17:36 D_responseRange_median_04_26.pkl\n",
      "-rw-r--r--  1 hjsong  staff  4008571 Apr 26 13:56 D_responseRateRange_04_26.pkl\n",
      "-rw-r--r--  1 hjsong  staff   697196 Apr 26 17:36 D_responseRateRange_median_04_26.pkl\n",
      "-rw-r--r--@ 1 hjsong  staff  1647150 May 14 15:26 D_rr_rrr.csv\n",
      "-rw-r--r--  1 hjsong  staff  1344698 May 16 16:56 D_rr_rrr_scaled.pkl\n",
      "-rw-r--r--  1 hjsong  staff   173458 Apr 12 17:10 data_cracked_and_repair_max_rrr_04_12.pkl\n",
      "-rw-r--r--  1 hjsong  staff   159501 Apr 13 16:08 data_cracked_repair_max_rrr_04_12.csv\n",
      "-rw-r--r--  1 hjsong  staff    51001 Apr  4 13:14 data_divisions_max_rrr_04_04.pkl\n",
      "-rw-r--r--  1 hjsong  staff    51740 Apr  4 13:12 data_divisions_relative_max_rrr_04_04.pkl\n",
      "-rw-r--r--  1 hjsong  staff   175222 Mar 22 12:32 data_max_response_rate_range.pkl\n"
     ]
    }
   ],
   "source": [
    "ll data/DataMatrix/"
   ]
  },
  {
   "cell_type": "code",
   "execution_count": 10,
   "metadata": {},
   "outputs": [
    {
     "data": {
      "text/plain": [
       "\u001b[0;31mInit signature:\u001b[0m \u001b[0mDataset\u001b[0m\u001b[0;34m(\u001b[0m\u001b[0;34m)\u001b[0m\u001b[0;34m\u001b[0m\u001b[0m\n",
       "\u001b[0;31mDocstring:\u001b[0m     \n",
       "An abstract class representing a Dataset.\n",
       "\n",
       "All other datasets should subclass it. All subclasses should override\n",
       "``__len__``, that provides the size of the dataset, and ``__getitem__``,\n",
       "supporting integer indexing in range from 0 to len(self) exclusive.\n",
       "\u001b[0;31mFile:\u001b[0m           ~/anaconda3/envs/fastai-cpu/lib/python3.6/site-packages/torch/utils/data/dataset.py\n",
       "\u001b[0;31mType:\u001b[0m           type\n"
      ]
     },
     "metadata": {},
     "output_type": "display_data"
    }
   ],
   "source": [
    "Dataset.__init__"
   ]
  },
  {
   "cell_type": "code",
   "execution_count": 62,
   "metadata": {},
   "outputs": [],
   "source": [
    "class LunaCsvDataset(Dataset):\n",
    "    def __init__(self, csv_file, root_dir, transform=None):\n",
    "        \"\"\"\n",
    "        - csv_file (string): path to the csv file\n",
    "        - root_dir (string): directory with all the images\n",
    "        - transform (callable, optional): optional transform to be applied to a sample\n",
    "        \"\"\"\n",
    "        all_data = pd.read_csv(csv_file, header=0, index_col=0)\n",
    "        is_not_fraud = [False if 'Fraud' in all_data.state[i] else True for i in range(len(all_data))]\n",
    "        all_data = all_data[is_not_fraud]        \n",
    "        self.data = np.array(all_data.drop('state', axis=1)) \n",
    "        self.target = np.array(all_data['state'])\n",
    "        self.root_dir = root_dir\n",
    "        self.transform = transform\n",
    "    \n",
    "    def __len__(self):\n",
    "        return self.data.shape[0]\n",
    "    \n",
    "    def __getitem__(self, idx):\n",
    "        \"returns a sample of format (feature 1,...,featureD, class)\"\n",
    "        return (self.data[idx, :], self.target[idx])\n",
    "    "
   ]
  },
  {
   "cell_type": "code",
   "execution_count": null,
   "metadata": {},
   "outputs": [],
   "source": [
    "class LunaPickleDataset(Dataset):\n",
    "    def __init__(self, pk_file, root_dir, transform=None):\n",
    "        \"\"\"\n",
    "        - pk_file (string): path to the pickled file\n",
    "        - root_dir (string): directory with all the images\n",
    "        - transform (callable, optional): optional transform to be applied to a sample\n",
    "        \"\"\"\n",
    "        all_data = pd.read_csv(csv_file, header=None) #todo\n",
    "        is_not_fraud = [False if 'Fraud' in all_data.state[i] else True for i in range(len(all_data))]\n",
    "        all_data = all_data[is_not_fraud]\n",
    "        self.data = np.array(all_data.iloc[:, 1:-1]) #ignore first column (patient ID)\n",
    "        self.label_dict = {'KGB':0, 'Cracked':1, 'Repaired':2, 'NoPSA':0, }\n",
    "        self.target = np.array(all_data.state.map(\n",
    "            ))\n",
    "        self.root_dir = root_dir\n",
    "        self.transform = transform\n",
    "    \n",
    "    def __len__(self):\n",
    "        return self.data.shape[0]\n",
    "    \n",
    "    def __getitem__(self, idx):\n",
    "        \"returns a sample of format (feature 1,...,featureD, class)\"\n",
    "        return (self.data[idx, :], self.target[idx])\n",
    "    \n",
    "    def set_label_dict(self, new_dict):\n",
    "        self.label_dict = new_dict"
   ]
  },
  {
   "cell_type": "code",
   "execution_count": 63,
   "metadata": {},
   "outputs": [
    {
     "data": {
      "text/plain": [
       "Index(['0_rr', '1_rr', '2_rr', '3_rr', '4_rr', '5_rr', '6_rr', '7_rr', '8_rr',\n",
       "       '9_rr', '10_rr', '11_rr', '12_rr', '13_rr', '14_rr', '15_rr', '16_rr',\n",
       "       '17_rr', '18_rr', '19_rr', '20_rr', '21_rr', '22_rr', '23_rr', '24_rr',\n",
       "       '25_rr', '26_rr', '27_rr', '28_rr', '29_rr', '30_rr', '31_rr', '32_rr',\n",
       "       '33_rr', '34_rr', '35_rr', '36_rr', '37_rr', '38_rr', '39_rr', '40_rr',\n",
       "       '41_rr', '42_rr', '43_rr', '44_rr', '45_rr', '46_rr', '47_rr', '0_rrr',\n",
       "       '1_rrr', '2_rrr', '3_rrr', '4_rrr', '5_rrr', '6_rrr', '7_rrr', '8_rrr',\n",
       "       '9_rrr', '10_rrr', '11_rrr', '12_rrr', '13_rrr', '14_rrr', '15_rrr',\n",
       "       '16_rrr', '17_rrr', '18_rrr', '19_rrr', '20_rrr', '21_rrr', '22_rrr',\n",
       "       '23_rrr', '24_rrr', '25_rrr', '26_rrr', '27_rrr', '28_rrr', '29_rrr',\n",
       "       '30_rrr', '31_rrr', '32_rrr', '33_rrr', '34_rrr', '35_rrr', '36_rrr',\n",
       "       '37_rrr', '38_rrr', '39_rrr', '40_rrr', '41_rrr', '42_rrr', '43_rrr',\n",
       "       '44_rrr', '45_rrr', '46_rrr', '47_rrr', 'sn', 'state'],\n",
       "      dtype='object')"
      ]
     },
     "execution_count": 63,
     "metadata": {},
     "output_type": "execute_result"
    }
   ],
   "source": [
    "fpath = './data/DataMatrix/D_rr_rrr.csv'\n",
    "d = pd.read_csv(fpath, header=0, index_col=0);\n",
    "d.columns"
   ]
  },
  {
   "cell_type": "code",
   "execution_count": 64,
   "metadata": {},
   "outputs": [],
   "source": [
    "dataset = LunaCsvDataset(fpath,root_dir='./data')"
   ]
  },
  {
   "cell_type": "code",
   "execution_count": 65,
   "metadata": {},
   "outputs": [
    {
     "data": {
      "text/plain": [
       "(673, 97)"
      ]
     },
     "execution_count": 65,
     "metadata": {},
     "output_type": "execute_result"
    }
   ],
   "source": [
    "dataset.data.shape"
   ]
  },
  {
   "cell_type": "code",
   "execution_count": 66,
   "metadata": {},
   "outputs": [
    {
     "data": {
      "text/plain": [
       "array(['Cracked', 'Cracked', 'Cracked', 'Cracked', 'Cracked', 'Cracked',\n",
       "       'Cracked', 'Cracked', 'Cracked', 'Cracked', 'Cracked', 'Cracked',\n",
       "       'Cracked', 'Repaired', 'Repaired', 'Repaired', 'Repaired',\n",
       "       'Repaired', 'Repaired', 'Repaired', 'Repaired', 'Repaired',\n",
       "       'Repaired', 'Repaired', 'Repaired', 'Repaired', 'Repaired',\n",
       "       'Repaired', 'Repaired', 'Repaired', 'Repaired', 'Repaired',\n",
       "       'Repaired', 'Repaired', 'Repaired', 'Repaired', 'Repaired',\n",
       "       'Repaired', 'Repaired', 'Repaired', 'Repaired', 'Repaired',\n",
       "       'Repaired', 'Repaired', 'Repaired', 'Repaired', 'Repaired',\n",
       "       'Repaired', 'Repaired', 'Repaired', 'Repaired', 'Repaired',\n",
       "       'Repaired', 'Repaired', 'Repaired', 'Repaired', 'Repaired',\n",
       "       'Repaired', 'Repaired', 'Repaired', 'Repaired', 'Repaired',\n",
       "       'Repaired', 'Repaired', 'Repaired', 'Repaired', 'Repaired',\n",
       "       'Repaired', 'Repaired', 'Repaired', 'Repaired', 'Repaired',\n",
       "       'Repaired', 'Repaired', 'Repaired', 'Repaired', 'Repaired',\n",
       "       'Repaired', 'Repaired', 'Repaired', 'Repaired', 'Repaired',\n",
       "       'Repaired', 'Repaired', 'Repaired', 'Repaired', 'Repaired',\n",
       "       'Repaired', 'Repaired', 'Repaired', 'Repaired', 'Repaired',\n",
       "       'Repaired', 'Repaired', 'Repaired', 'Repaired', 'Repaired',\n",
       "       'Repaired', 'Repaired', 'Repaired', 'Repaired', 'Repaired',\n",
       "       'Repaired', 'Repaired', 'Repaired', 'Repaired', 'Repaired',\n",
       "       'Repaired', 'Repaired', 'Repaired', 'Repaired', 'Repaired',\n",
       "       'Repaired', 'Repaired', 'Repaired', 'Repaired', 'Repaired',\n",
       "       'Repaired', 'Repaired', 'Repaired', 'Repaired', 'Repaired',\n",
       "       'Repaired', 'Repaired', 'Repaired', 'Repaired', 'Repaired',\n",
       "       'Repaired', 'Repaired', 'Repaired', 'Repaired', 'Repaired',\n",
       "       'Repaired', 'Repaired', 'Repaired', 'Repaired', 'Repaired',\n",
       "       'Repaired', 'Repaired', 'Repaired', 'Repaired', 'Repaired',\n",
       "       'Repaired', 'Repaired', 'Repaired', 'Repaired', 'Repaired',\n",
       "       'Repaired', 'NoPSA_Screw', 'NoPSA_Screw', 'NoPSA_Screw',\n",
       "       'NoPSA_Screw', 'NoPSA_Screw', 'NoPSA_Screw', 'NoPSA_Screw',\n",
       "       'NoPSA_Screw', 'NoPSA_Screw', 'NoPSA_Screw', 'NoPSA_Screw',\n",
       "       'NoPSA_Screw', 'NoPSA_Screw', 'NoPSA_Screw', 'NoPSA_Screw',\n",
       "       'NoPSA_Screw', 'NoPSA_Screw', 'NoPSA_Screw', 'NoPSA_Screw',\n",
       "       'NoPSA_Screw', 'NoPSA_Screw', 'NoPSA_Screw', 'NoPSA_Screw',\n",
       "       'NoPSA_Screw', 'NoPSA_Screw', 'NoPSA_Screw', 'NoPSA_Screw',\n",
       "       'NoPSA_Screw', 'NoPSA_Screw', 'NoPSA_Screw', 'NoPSA_Screw',\n",
       "       'NoPSA_Screw', 'NoPSA_Screw', 'NoPSA_Screw', 'NoPSA_Screw',\n",
       "       'NoPSA_Screw', 'NoPSA_Screw', 'NoPSA_Screw', 'NoPSA_Screw',\n",
       "       'NoPSA_Screw', 'NoPSA_Screw', 'NoPSA_Screw', 'NoPSA_Screw',\n",
       "       'NoPSA_Screw', 'NoPSA_Screw', 'NoPSA_Screw', 'NoPSA_Screw',\n",
       "       'NoPSA_Screw', 'NoPSA_Screw', 'NoPSA_Screw', 'NoPSA_Screw',\n",
       "       'NoPSA_Screw', 'NoPSA_Screw', 'NoPSA_Screw', 'NoPSA_Screw',\n",
       "       'NoPSA_Screw', 'NoPSA_Screw', 'NoPSA_Screw', 'NoPSA_Screw',\n",
       "       'NoPSA_Screw', 'NoPSA_Screw', 'NoPSA_Screw', 'NoPSA_Screw',\n",
       "       'NoPSA_Screw', 'NoPSA_Screw', 'NoPSA_Screw', 'NoPSA_Screw',\n",
       "       'NoPSA_Screw', 'NoPSA_Screw', 'NoPSA_Screw', 'NoPSA_Screw',\n",
       "       'NoPSA_Screw', 'NoPSA_Screw', 'NoPSA_Screw', 'NoPSA_Screw',\n",
       "       'NoPSA_Screw', 'NoPSA_Screw', 'NoPSA_Screw', 'NoPSA_Screw',\n",
       "       'NoPSA_Screw', 'NoPSA_Screw', 'NoPSA_Screw', 'KGB', 'KGB', 'KGB',\n",
       "       'KGB', 'KGB', 'KGB', 'KGB', 'KGB', 'KGB', 'KGB', 'KGB', 'KGB',\n",
       "       'KGB', 'KGB', 'KGB', 'KGB', 'KGB', 'KGB', 'KGB', 'KGB', 'KGB',\n",
       "       'KGB', 'KGB', 'KGB', 'KGB', 'KGB', 'KGB', 'KGB', 'KGB', 'KGB',\n",
       "       'KGB', 'KGB', 'KGB', 'KGB', 'KGB', 'KGB', 'KGB', 'KGB', 'KGB',\n",
       "       'KGB', 'KGB', 'KGB', 'KGB', 'KGB', 'KGB', 'KGB', 'KGB', 'KGB',\n",
       "       'KGB', 'KGB', 'KGB', 'KGB', 'KGB', 'KGB', 'KGB', 'KGB', 'KGB',\n",
       "       'KGB', 'KGB', 'KGB', 'KGB', 'KGB', 'KGB', 'KGB', 'KGB', 'KGB',\n",
       "       'KGB', 'KGB', 'KGB', 'KGB', 'KGB', 'KGB', 'KGB', 'KGB', 'KGB',\n",
       "       'KGB', 'KGB', 'KGB', 'KGB', 'KGB', 'KGB', 'KGB', 'KGB', 'KGB',\n",
       "       'KGB', 'KGB', 'KGB', 'KGB', 'KGB', 'KGB', 'KGB', 'KGB', 'KGB',\n",
       "       'KGB', 'KGB', 'KGB', 'KGB', 'KGB', 'KGB', 'KGB', 'KGB', 'KGB',\n",
       "       'KGB', 'KGB', 'KGB', 'KGB', 'KGB', 'KGB', 'KGB', 'KGB', 'KGB',\n",
       "       'KGB', 'KGB', 'KGB', 'KGB', 'KGB', 'KGB', 'KGB', 'KGB', 'KGB',\n",
       "       'KGB', 'KGB', 'KGB', 'KGB', 'KGB', 'KGB', 'KGB', 'KGB', 'KGB',\n",
       "       'KGB', 'KGB', 'KGB', 'KGB', 'KGB', 'KGB', 'KGB', 'KGB', 'KGB',\n",
       "       'KGB', 'KGB', 'KGB', 'KGB', 'KGB', 'KGB', 'KGB', 'KGB', 'KGB',\n",
       "       'KGB', 'KGB', 'KGB', 'KGB', 'KGB', 'KGB', 'KGB', 'KGB', 'KGB',\n",
       "       'KGB', 'KGB', 'KGB', 'KGB', 'KGB', 'KGB', 'KGB', 'KGB', 'KGB',\n",
       "       'KGB', 'KGB', 'KGB', 'KGB', 'KGB', 'KGB', 'KGB', 'KGB', 'KGB',\n",
       "       'KGB', 'KGB', 'KGB', 'KGB', 'KGB', 'KGB', 'KGB', 'KGB', 'KGB',\n",
       "       'KGB', 'KGB', 'KGB', 'KGB', 'KGB', 'KGB', 'KGB', 'KGB',\n",
       "       'NewPSA_Screw', 'NewPSA_Screw', 'NewPSA_Screw', 'NewPSA_Screw',\n",
       "       'NewPSA_Screw', 'NewPSA_Screw', 'NewPSA_Screw', 'NewPSA_Screw',\n",
       "       'NewPSA_Screw', 'NewPSA_Screw', 'NewPSA_Screw', 'NewPSA_Screw',\n",
       "       'NewPSA_Screw', 'NewPSA_Screw', 'NewPSA_Screw', 'NewPSA_Screw',\n",
       "       'NewPSA_Screw', 'NewPSA_Screw', 'NewPSA_Screw', 'NewPSA_Screw',\n",
       "       'NewPSA_Screw', 'NewPSA_Screw', 'NewPSA_Screw', 'NewPSA_Screw',\n",
       "       'NewPSA_Screw', 'NewPSA_Screw', 'NewPSA_Screw', 'NewPSA_Screw',\n",
       "       'NewPSA_Screw', 'NewPSA_Screw', 'NewPSA_Screw', 'NewPSA_Screw',\n",
       "       'NewPSA_Screw', 'NewPSA_Screw', 'NewPSA_Screw', 'NewPSA_Screw',\n",
       "       'NewPSA_Screw', 'NewPSA_Screw', 'NewPSA_Screw', 'NewPSA_Screw',\n",
       "       'NewPSA_Screw', 'NewPSA_Screw', 'NewPSA_Screw', 'NewPSA_Screw',\n",
       "       'NewPSA_Screw', 'NewPSA_Screw', 'NewPSA_Screw', 'NewPSA_Screw',\n",
       "       'NewPSA_Screw', 'NewPSA_Screw', 'NewPSA_Screw', 'NewPSA_Screw',\n",
       "       'NewPSA_Screw', 'NewPSA_Screw', 'NewPSA_Screw', 'NewPSA_Screw',\n",
       "       'NewPSA_Screw', 'NewPSA_Screw', 'NewPSA_Screw', 'NewPSA_Screw',\n",
       "       'NewPSA_Screw', 'NewPSA_Screw', 'NewPSA_Screw', 'NewPSA_Screw',\n",
       "       'NewPSA_Screw', 'NewPSA_Screw', 'NewPSA_Screw', 'NewPSA_Screw',\n",
       "       'NewPSA_Screw', 'NewPSA_Screw', 'NewPSA_Screw', 'NoPSA', 'NoPSA',\n",
       "       'NoPSA', 'NoPSA', 'NoPSA', 'NoPSA', 'NoPSA', 'NoPSA', 'NoPSA',\n",
       "       'NoPSA', 'NoPSA', 'NoPSA', 'NoPSA', 'NoPSA', 'NoPSA', 'NoPSA',\n",
       "       'NoPSA', 'NoPSA', 'NoPSA', 'NoPSA', 'NoPSA', 'NoPSA', 'NoPSA',\n",
       "       'NoPSA', 'NoPSA', 'NoPSA', 'NoPSA', 'NoPSA', 'NoPSA', 'NoPSA',\n",
       "       'NoPSA', 'NoPSA', 'NoPSA', 'NoPSA', 'NoPSA', 'NoPSA', 'NoPSA',\n",
       "       'NoPSA', 'NoPSA', 'NoPSA', 'NoPSA', 'NoPSA', 'NoPSA', 'NoPSA',\n",
       "       'NoPSA', 'NoPSA', 'NoPSA', 'NoPSA', 'NoPSA', 'NoPSA', 'NoPSA',\n",
       "       'NoPSA', 'NoPSA', 'NoPSA', 'NoPSA', 'NoPSA', 'NoPSA', 'NoPSA',\n",
       "       'NoPSA', 'NoPSA', 'NoPSA', 'NoPSA', 'NoPSA', 'NoPSA', 'NoPSA',\n",
       "       'NoPSA', 'NoPSA', 'NoPSA', 'NoPSA', 'NoPSA', 'NoPSA', 'NoPSA',\n",
       "       'NoPSA', 'NoPSA', 'NoPSA', 'NoPSA', 'NoPSA', 'NoPSA', 'NoPSA',\n",
       "       'NoPSA', 'NoPSA', 'NoPSA', 'NoPSA', 'NoPSA', 'NoPSA', 'NoPSA',\n",
       "       'NoPSA', 'NoPSA', 'NoPSA', 'NoPSA', 'NoPSA', 'NoPSA', 'NoPSA',\n",
       "       'NoPSA', 'NoPSA', 'NoPSA', 'NoPSA', 'NoPSA', 'NoPSA', 'NoPSA',\n",
       "       'NoPSA', 'NoPSA', 'NoPSA', 'NoPSA', 'NoPSA', 'NoPSA', 'NoPSA',\n",
       "       'NoPSA', 'NoPSA', 'NoPSA', 'NoPSA', 'NoPSA', 'NoPSA', 'NoPSA',\n",
       "       'NoPSA', 'NoPSA', 'NoPSA', 'NoPSA', 'NoPSA', 'NoPSA', 'NoPSA',\n",
       "       'NoPSA', 'NoPSA', 'NoPSA', 'NoPSA', 'NoPSA', 'NoPSA', 'NoPSA',\n",
       "       'NoPSA', 'NoPSA', 'NoPSA', 'NoPSA', 'NoPSA', 'NoPSA', 'NoPSA',\n",
       "       'NoPSA', 'NoPSA', 'NoPSA', 'NoPSA', 'NoPSA', 'NoPSA', 'NoPSA',\n",
       "       'NoPSA', 'NoPSA', 'NoPSA', 'NoPSA', 'NoPSA', 'NoPSA', 'NoPSA',\n",
       "       'NoPSA', 'NoPSA', 'NoPSA', 'NoPSA', 'NoPSA', 'NoPSA', 'NoPSA',\n",
       "       'NoPSA', 'NoPSA', 'NoPSA', 'NoPSA', 'NoPSA', 'NoPSA', 'NoPSA',\n",
       "       'NoPSA', 'NoPSA', 'NoPSA', 'NoPSA', 'NoPSA', 'NoPSA', 'NoPSA',\n",
       "       'NoPSA', 'NoPSA', 'NoPSA', 'NoPSA', 'NoPSA', 'NoPSA', 'NoPSA',\n",
       "       'NoPSA', 'NoPSA', 'NoPSA', 'NoPSA'], dtype=object)"
      ]
     },
     "execution_count": 66,
     "metadata": {},
     "output_type": "execute_result"
    }
   ],
   "source": [
    "dataset.target"
   ]
  },
  {
   "cell_type": "code",
   "execution_count": 50,
   "metadata": {},
   "outputs": [
    {
     "ename": "TypeError",
     "evalue": "bad operand type for unary ~: 'list'",
     "output_type": "error",
     "traceback": [
      "\u001b[0;31m---------------------------------------------------------------------------\u001b[0m",
      "\u001b[0;31mTypeError\u001b[0m                                 Traceback (most recent call last)",
      "\u001b[0;32m<ipython-input-50-a7bfddd658b4>\u001b[0m in \u001b[0;36m<module>\u001b[0;34m()\u001b[0m\n\u001b[0;32m----> 1\u001b[0;31m \u001b[0md\u001b[0m\u001b[0;34m[\u001b[0m\u001b[0;34m~\u001b[0m\u001b[0mflag\u001b[0m\u001b[0;34m]\u001b[0m\u001b[0;34m\u001b[0m\u001b[0m\n\u001b[0m",
      "\u001b[0;31mTypeError\u001b[0m: bad operand type for unary ~: 'list'"
     ]
    }
   ],
   "source": [
    "d[~flag]"
   ]
  },
  {
   "cell_type": "code",
   "execution_count": 87,
   "metadata": {},
   "outputs": [],
   "source": [
    "dataset = LunaCsvDataset(fpath, './data')\n",
    "a = dataset[10]"
   ]
  },
  {
   "cell_type": "code",
   "execution_count": 88,
   "metadata": {},
   "outputs": [
    {
     "data": {
      "text/plain": [
       "(array([1, 1, 1, 1, 1, '1', 3, 1, 1], dtype=object), 0)"
      ]
     },
     "execution_count": 88,
     "metadata": {},
     "output_type": "execute_result"
    }
   ],
   "source": [
    "a"
   ]
  },
  {
   "cell_type": "code",
   "execution_count": 84,
   "metadata": {},
   "outputs": [
    {
     "data": {
      "text/plain": [
       "pandas.core.series.Series"
      ]
     },
     "execution_count": 84,
     "metadata": {},
     "output_type": "execute_result"
    }
   ],
   "source": [
    "type(dataset.data.iloc[10,:])"
   ]
  },
  {
   "cell_type": "code",
   "execution_count": 89,
   "metadata": {},
   "outputs": [],
   "source": [
    "dataset[40]"
   ]
  },
  {
   "cell_type": "code",
   "execution_count": 99,
   "metadata": {},
   "outputs": [],
   "source": [
    "def count_files(dirpath, fmt=None):\n",
    "    \"\"\"\n",
    "    Args\n",
    "    - dirpath (Path object): directory to inspect\n",
    "    - fmt (string): file format including '.', eg: '.png', '.jpg', '.csv'\n",
    "    Returns a dictionary of counts for each filetype in dirpath\"\"\"\n",
    "    import collections\n",
    "    counts =  collections.Counter(f.suffix for f in dirpath.iterdir())\n",
    "    if fmt is None:\n",
    "        return counts\n",
    "    else:\n",
    "        return counts[fmt]"
   ]
  },
  {
   "cell_type": "code",
   "execution_count": null,
   "metadata": {},
   "outputs": [],
   "source": [
    "class DogCatDataset(Dataset):\n",
    "    def __init__(self, dirpath, animalType):\n",
    "        \"\"\"\n",
    "        Args\n",
    "        - dirpath (Path object): path to a folder that contains \n",
    "        'dogs' and 'cats' subfolers. For instance, `data/dogscats/train` or \n",
    "        `data/dogscats/test`\n",
    "        - animalType (string): 'dog' or 'cat'\n",
    "        \n",
    "        Sample of this dataset will be a dictionary of {\"image\": img, \"class\": 0 or 1}\n",
    "        \"\"\"\n",
    "        self.animalType = animalType\n",
    "        self.animalClass = 0 if animalType == 'dog' else 1\n",
    "        self.full_dirpath = dirpath / (animalType + \"s\")\n",
    "        self.num_data = count_files(self.full_dirpath, fmt='.jpg')\n",
    "    def __len__(self):\n",
    "        return self.num_data\n",
    "    def __getitem__(self, idx):\n",
    "        img_name = self.full_dirpath / f'{self.animalType}.{idx}.jpg'\n",
    "        \n",
    "    \n",
    "        \n",
    "        "
   ]
  }
 ],
 "metadata": {
  "kernelspec": {
   "display_name": "fastAI custom",
   "language": "python",
   "name": "fastai"
  },
  "language_info": {
   "codemirror_mode": {
    "name": "ipython",
    "version": 3
   },
   "file_extension": ".py",
   "mimetype": "text/x-python",
   "name": "python",
   "nbconvert_exporter": "python",
   "pygments_lexer": "ipython3",
   "version": "3.6.5"
  }
 },
 "nbformat": 4,
 "nbformat_minor": 2
}
