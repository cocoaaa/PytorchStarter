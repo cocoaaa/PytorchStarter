{
 "cells": [
  {
   "cell_type": "code",
   "execution_count": 1,
   "metadata": {},
   "outputs": [
    {
     "data": {
      "text/plain": [
       "'/root/fastai/Playground/PytorchStarter/Notebooks'"
      ]
     },
     "execution_count": 1,
     "metadata": {},
     "output_type": "execute_result"
    }
   ],
   "source": [
    "pwd"
   ]
  },
  {
   "cell_type": "code",
   "execution_count": 2,
   "metadata": {},
   "outputs": [
    {
     "name": "stdout",
     "output_type": "stream",
     "text": [
      "breast-cancer-wisconsin.data.csv  \u001b[0m\u001b[01;31mnames_test.csv.gz\u001b[0m   \u001b[01;34mraw\u001b[0m/\n",
      "\u001b[01;31mdiabetes.csv.gz\u001b[0m                   \u001b[01;31mnames_train.csv.gz\u001b[0m  \u001b[01;31mshakespeare.txt.gz\u001b[0m\n"
     ]
    }
   ],
   "source": [
    "ls ../data/"
   ]
  },
  {
   "cell_type": "code",
   "execution_count": 3,
   "metadata": {},
   "outputs": [],
   "source": [
    "import pdb\n",
    "import types\n",
    "import torch\n",
    "import torch.nn as nn\n",
    "import torch.optim as optim\n",
    "import torch.nn.functional as F\n",
    "from torch.autograd import Variable\n",
    "\n",
    "import numpy as np\n",
    "import matplotlib.pyplot as plt\n",
    "\n",
    "\n",
    "def imports():\n",
    "    for name, val in globals().items():\n",
    "        if isinstance(val, types.ModuleType):\n",
    "            yield val.__name__"
   ]
  },
  {
   "cell_type": "code",
   "execution_count": 4,
   "metadata": {},
   "outputs": [
    {
     "data": {
      "text/plain": [
       "['builtins',\n",
       " 'builtins',\n",
       " 'pdb',\n",
       " 'types',\n",
       " 'torch',\n",
       " 'torch.nn',\n",
       " 'torch.optim',\n",
       " 'torch.nn.functional',\n",
       " 'numpy',\n",
       " 'matplotlib.pyplot']"
      ]
     },
     "execution_count": 4,
     "metadata": {},
     "output_type": "execute_result"
    }
   ],
   "source": [
    "# To list all packages imported\n",
    "list(imports())"
   ]
  },
  {
   "cell_type": "code",
   "execution_count": 5,
   "metadata": {},
   "outputs": [],
   "source": [
    "# Globals\n",
    "RSEED = 11"
   ]
  },
  {
   "cell_type": "markdown",
   "metadata": {},
   "source": [
    "## Data load"
   ]
  },
  {
   "cell_type": "code",
   "execution_count": 6,
   "metadata": {},
   "outputs": [],
   "source": [
    "x_data = torch.Tensor([[1,2,3,4]]).view(4,1)\n",
    "y_data = torch.Tensor([0,0,1,1]).view(4,1)"
   ]
  },
  {
   "cell_type": "code",
   "execution_count": 7,
   "metadata": {},
   "outputs": [
    {
     "name": "stdout",
     "output_type": "stream",
     "text": [
      "tensor([[ 1.],\n",
      "        [ 2.],\n",
      "        [ 3.],\n",
      "        [ 4.]]) \n",
      " tensor([[ 0.],\n",
      "        [ 0.],\n",
      "        [ 1.],\n",
      "        [ 1.]])\n"
     ]
    }
   ],
   "source": [
    "print(x_data, '\\n', y_data)"
   ]
  },
  {
   "cell_type": "markdown",
   "metadata": {},
   "source": [
    "Load diabetes dataset"
   ]
  },
  {
   "cell_type": "code",
   "execution_count": 8,
   "metadata": {},
   "outputs": [
    {
     "name": "stdout",
     "output_type": "stream",
     "text": [
      "(759, 9)\n",
      "[[-0.294118   0.487437   0.180328  ... -0.53117   -0.0333333  0.       ]\n",
      " [-0.882353  -0.145729   0.0819672 ... -0.766866  -0.666667   1.       ]\n",
      " [-0.0588235  0.839196   0.0491803 ... -0.492741  -0.633333   0.       ]\n",
      " ...\n",
      " [-0.411765   0.21608    0.180328  ... -0.857387  -0.7        1.       ]\n",
      " [-0.882353   0.266332  -0.0163934 ... -0.768574  -0.133333   0.       ]\n",
      " [-0.882353  -0.0653266  0.147541  ... -0.797609  -0.933333   1.       ]]\n"
     ]
    }
   ],
   "source": [
    "xy = np.loadtxt('../data/diabetes.csv.gz', delimiter=',', dtype=np.float32)\n",
    "print(xy.shape); print(xy)"
   ]
  },
  {
   "cell_type": "code",
   "execution_count": 9,
   "metadata": {},
   "outputs": [
    {
     "name": "stdout",
     "output_type": "stream",
     "text": [
      "(759, 8)\n",
      "(759,)\n"
     ]
    }
   ],
   "source": [
    "X = xy[:,:-1]; print(X.shape)\n",
    "y = xy[:,-1]; print(y.shape)"
   ]
  },
  {
   "cell_type": "code",
   "execution_count": 10,
   "metadata": {},
   "outputs": [],
   "source": [
    "X = torch.from_numpy(X) #share the same memory \n",
    "y = torch.from_numpy(y)"
   ]
  },
  {
   "cell_type": "markdown",
   "metadata": {},
   "source": [
    "Train and test set\n"
   ]
  },
  {
   "cell_type": "markdown",
   "metadata": {},
   "source": [
    "### Custom data loader"
   ]
  },
  {
   "cell_type": "code",
   "execution_count": 11,
   "metadata": {},
   "outputs": [],
   "source": [
    "from torch.utils.data import Dataset, DataLoader\n",
    "class DiabetesDataset(Dataset):\n",
    "    def __init__(self, ids):\n",
    "        # Ideally we wouldn't load all data here.\n",
    "        # Rather, read each file when __getitem__ is called\n",
    "        xy = np.loadtxt('../data/diabetes.csv.gz', delimiter=',', dtype=np.float32)\n",
    "        self.x_data = xy[:,:-1]\n",
    "        self.y_data = xy[:, -1]\n",
    "        \n",
    "        self.ids = ids\n",
    "        self.len = len(ids)\n",
    "\n",
    "        \n",
    "    def __getitem__(self, idx):\n",
    "        \"Returns a sample in the format of [x_data[ID], y_data[ID]]\"\n",
    "#         print(\"idx: \", idx)\n",
    "        ID = self.ids[idx]\n",
    "        return self.x_data[ID,:], self.y_data[ID]\n",
    "    \n",
    "    def __len__(self):\n",
    "        return self.len\n",
    "    "
   ]
  },
  {
   "cell_type": "markdown",
   "metadata": {},
   "source": [
    "#### First, partition the dataset into train, dev, test sets"
   ]
  },
  {
   "cell_type": "code",
   "execution_count": 71,
   "metadata": {},
   "outputs": [],
   "source": [
    "from sklearn.model_selection import train_test_split\n",
    "labels = y.numpy()\n",
    "indices = range(len(labels))\n",
    "train_dev_ids, test_ids = train_test_split(indices,\n",
    "                                        stratify=labels,\n",
    "                                        test_size=0.33, \n",
    "                                        random_state=RSEED) #stratified "
   ]
  },
  {
   "cell_type": "code",
   "execution_count": 72,
   "metadata": {},
   "outputs": [],
   "source": [
    "def check_ratio(indices, labels):\n",
    "    \"\"\"check ratio of 0's and 1's in the labels selected by 'indices'\n",
    "    - indices: 1D array for selected indices\n",
    "    - labels: an array of 0s and 1s\n",
    "    \"\"\"\n",
    "    filtered = labels[indices]\n",
    "    if isinstance(filtered, torch.Tensor): filtered = filtered.numpy();\n",
    "    if isinstance(filtered, list ): filtered = np.array(filtered);\n",
    "        \n",
    "    print(sum(filtered==0)/sum(filtered==1))\n",
    "# train_ids, dev_ids = train_test_split(tr_dev_ids, test_size=0.5, random_state=RSEED)"
   ]
  },
  {
   "cell_type": "code",
   "execution_count": 73,
   "metadata": {},
   "outputs": [
    {
     "name": "stdout",
     "output_type": "stream",
     "text": [
      "0.5301204819277109\n",
      "0.5304878048780488\n"
     ]
    }
   ],
   "source": [
    "check_ratio(train_dev_ids, labels)\n",
    "check_ratio(test_ids, labels)"
   ]
  },
  {
   "cell_type": "code",
   "execution_count": 89,
   "metadata": {},
   "outputs": [
    {
     "name": "stdout",
     "output_type": "stream",
     "text": [
      "min and max indices should corresponds to 0 and 507: (0, 507)\n"
     ]
    }
   ],
   "source": [
    "# partition train_ids into train_ids and dev_ids\n",
    "train_dev_labels = labels[train_dev_ids]\n",
    "indices = range(len(train_dev_ids))\n",
    "train_ids, dev_ids = train_test_split(indices, \n",
    "                                     stratify=train_dev_labels,\n",
    "                                     test_size=0.5,\n",
    "                                     random_state=RSEED)\n",
    "imax = max(max(train_ids, dev_ids))\n",
    "imin = min(min(train_ids, dev_ids))\n",
    "print(f\"min and max indices should corresponds to 0 and {len(train_dev_labels)-1}: {imin, imax}\")\n",
    "\n",
    "# map it back to index to (the original) y\n",
    "train_ids = np.array(train_dev_ids)[train_ids]\n",
    "dev_ids = np.array(train_dev_ids)[dev_ids]\n",
    "\n",
    "# make test_ids also a np array\n",
    "test_ids = np.array(test_ids)"
   ]
  },
  {
   "cell_type": "code",
   "execution_count": 97,
   "metadata": {},
   "outputs": [
    {
     "name": "stdout",
     "output_type": "stream",
     "text": [
      "0.5301204819277109\n",
      "0.5301204819277109\n",
      "0.5304878048780488\n"
     ]
    }
   ],
   "source": [
    "# check ratios\n",
    "for index_array in [train_ids, dev_ids, test_ids]:\n",
    "    check_ratio(index_array, labels)\n",
    "    \n",
    "# intersection check\n",
    "s1 = set(train_ids); s2 = set(dev_ids); s3 = set(test_ids)\n",
    "assert( len(s1.intersection(s2).intersection(s3)) == 0)"
   ]
  },
  {
   "cell_type": "markdown",
   "metadata": {},
   "source": [
    "Woohoo!"
   ]
  },
  {
   "cell_type": "code",
   "execution_count": 92,
   "metadata": {},
   "outputs": [],
   "source": [
    "partition = {'train': train_ids, \n",
    "             'dev': dev_ids, \n",
    "             'test': test_ids}\n",
    "train_dataset = DiabetesDataset(partition['train'])\n",
    "dev_dataset = DiabetesDataset(partition['dev'])\n",
    "test_dataset = DiabetesDataset(partition['test'])"
   ]
  },
  {
   "cell_type": "code",
   "execution_count": 14,
   "metadata": {},
   "outputs": [],
   "source": [
    "#2. new dataloader instance\n",
    "data_params = {'batch_size': 32,\n",
    "              'shuffle': True,\n",
    "              'num_workers':4}\n",
    "train_loader = DataLoader(dataset=train_dataset, **data_params)\n",
    "# dev_loader = DataLoader(dataset=dev_dataset, **data_params)\n",
    "test_loader = DataLoader(dataset=test_dataset, **data_params)"
   ]
  },
  {
   "cell_type": "markdown",
   "metadata": {},
   "source": [
    "## Binary classifer model"
   ]
  },
  {
   "cell_type": "code",
   "execution_count": 15,
   "metadata": {},
   "outputs": [],
   "source": [
    "# %run ../Notebook/data_loader2.ipynb"
   ]
  },
  {
   "cell_type": "code",
   "execution_count": 16,
   "metadata": {},
   "outputs": [],
   "source": [
    "class BCModel(nn.Module):    \n",
    "    def __init__(self, inDim, l1Dim, l2Dim, activation):\n",
    "        \"\"\" \n",
    "        inDim: input dimension\n",
    "        l1Dim: number of units in the first layer\n",
    "        l2Dim: number of units in the second layer\n",
    "        activation: (torch.nn.modules.activation) activation function instance\n",
    "            eg.nn.Sigmoid() or nn.Relu()\n",
    "        \"\"\"\n",
    "        super(BCModel, self).__init__()\n",
    "        self.l1 = nn.Linear(inDim, l1Dim)\n",
    "        self.l2 = nn.Linear(l1Dim, l2Dim)\n",
    "        self.l3 = nn.Linear(l2Dim, 1)\n",
    "        \n",
    "        # Hidden layers' activation\n",
    "#         self.relu = nn.ReLU() #elementwise relu\n",
    "        self.activation = activation\n",
    "    \n",
    "        # todo: batch norm layer\n",
    "        \n",
    "        # Last layer activation\n",
    "        self.sigmoid = nn.Sigmoid() #elementwise sigmoid activation\n",
    "        \n",
    "    \n",
    "    def forward(self, x):\n",
    "        \"\"\"input and output are both tensors\"\"\"\n",
    "        out1 = self.activation(self.l1(x)) #todo: add batch norm layer\n",
    "        out2 = self.activation(self.l2(out1))\n",
    "        y_pred = self.sigmoid(self.l3(out2))\n",
    "        return y_pred\n",
    "    \n",
    "    def print_params(self):\n",
    "        for param in self.parameters():\n",
    "            print(param)\n"
   ]
  },
  {
   "cell_type": "markdown",
   "metadata": {},
   "source": [
    "Quick side note on nn.Sigmoid and nn.Softmax"
   ]
  },
  {
   "cell_type": "markdown",
   "metadata": {},
   "source": [
    "1. `nn.Sigmoid` is best considered a softmax activation for a binary classification"
   ]
  },
  {
   "cell_type": "code",
   "execution_count": 17,
   "metadata": {},
   "outputs": [
    {
     "name": "stdout",
     "output_type": "stream",
     "text": [
      "tensor([[ 0.6728],\n",
      "        [ 0.3191],\n",
      "        [ 0.5742],\n",
      "        [ 0.4609]])\n",
      "tensor(2.0269)\n"
     ]
    }
   ],
   "source": [
    "sig = nn.Sigmoid()\n",
    "x = torch.randn(4).view(4,-1) # 1D tensor of length 4\n",
    "out = sig(x) # apply elementwise sigmoid function to x\n",
    "print(out)\n",
    "print(out.sum()) # doesn't make it a probability density along the dimension"
   ]
  },
  {
   "cell_type": "markdown",
   "metadata": {},
   "source": [
    "2. `nn.Softmax` is a classifier layer that takes in a set of numbers and make them into a probability density along the specified dimension"
   ]
  },
  {
   "cell_type": "code",
   "execution_count": 18,
   "metadata": {},
   "outputs": [
    {
     "name": "stdout",
     "output_type": "stream",
     "text": [
      "tensor([[-2.1648, -1.7983, -0.3290],\n",
      "        [-0.7956, -2.4270, -0.7756],\n",
      "        [-0.6426, -2.4252, -0.9529],\n",
      "        [-1.4593, -0.2988, -3.6547]])\n",
      "tensor([-4.2921, -3.9983, -4.0207, -5.4127])\n"
     ]
    }
   ],
   "source": [
    "softmax = nn.LogSoftmax(dim=1)\n",
    "x = torch.randn(4,3) #4 data points, each of length 3\n",
    "out = softmax(x)\n",
    "print(out)\n",
    "print(out.sum(dim=1))"
   ]
  },
  {
   "cell_type": "markdown",
   "metadata": {},
   "source": [
    "End of side"
   ]
  },
  {
   "cell_type": "code",
   "execution_count": 19,
   "metadata": {},
   "outputs": [],
   "source": [
    "# Binary classification model\n",
    "# set number of hidden units\n",
    "H1 = 3\n",
    "H2 = 4\n",
    "learning_rate = 0.001\n",
    "\n",
    "model = BCModel(X.shape[1], H1, H2, nn.Sigmoid())"
   ]
  },
  {
   "cell_type": "code",
   "execution_count": 20,
   "metadata": {},
   "outputs": [
    {
     "name": "stdout",
     "output_type": "stream",
     "text": [
      "Parameter containing:\n",
      "tensor([[ 0.2032,  0.3049,  0.2174,  0.2786, -0.1127,  0.1163,  0.0980,\n",
      "          0.0840],\n",
      "        [-0.3239, -0.2613, -0.2229,  0.0650, -0.0785, -0.2797,  0.2403,\n",
      "         -0.0768],\n",
      "        [ 0.3210, -0.0732, -0.2060, -0.3306,  0.2761,  0.2206, -0.0852,\n",
      "         -0.0848]])\n",
      "Parameter containing:\n",
      "tensor([ 0.0119,  0.2984,  0.1386])\n",
      "Parameter containing:\n",
      "tensor([[ 0.3330,  0.0996, -0.3228],\n",
      "        [-0.2135,  0.0689, -0.2524],\n",
      "        [-0.3888,  0.2516,  0.0985],\n",
      "        [-0.4387,  0.3469,  0.2224]])\n",
      "Parameter containing:\n",
      "tensor([-0.5216, -0.0515,  0.4249, -0.0195])\n",
      "Parameter containing:\n",
      "tensor([[ 0.1546,  0.2314, -0.1828,  0.3484]])\n",
      "Parameter containing:\n",
      "tensor([ 0.1434])\n"
     ]
    }
   ],
   "source": [
    "model.print_params()"
   ]
  },
  {
   "cell_type": "code",
   "execution_count": 21,
   "metadata": {},
   "outputs": [],
   "source": [
    "# loss and optimizer\n",
    "criterion = nn.BCELoss(size_average=True)\n",
    "optimizer = torch.optim.SGD(model.parameters(), lr=learning_rate)\n"
   ]
  },
  {
   "cell_type": "code",
   "execution_count": 22,
   "metadata": {},
   "outputs": [
    {
     "name": "stdout",
     "output_type": "stream",
     "text": [
      "Epoch 0: 0.6525617837905884\n",
      "Epoch 10: 0.652484655380249\n",
      "Epoch 20: 0.6524090766906738\n",
      "Epoch 30: 0.6523345708847046\n"
     ]
    },
    {
     "name": "stderr",
     "output_type": "stream",
     "text": [
      "/root/anaconda3/envs/fastai/lib/python3.6/site-packages/torch/nn/functional.py:1474: UserWarning: Using a target size (torch.Size([759])) that is different to the input size (torch.Size([759, 1])) is deprecated. Please ensure they have the same size.\n",
      "  \"Please ensure they have the same size.\".format(target.size(), input.size()))\n"
     ]
    },
    {
     "name": "stdout",
     "output_type": "stream",
     "text": [
      "Epoch 40: 0.6522595286369324\n",
      "Epoch 50: 0.6521856784820557\n",
      "Epoch 60: 0.6521125435829163\n",
      "Epoch 70: 0.6520404815673828\n",
      "Epoch 80: 0.6519685983657837\n",
      "Epoch 90: 0.6518980264663696\n"
     ]
    }
   ],
   "source": [
    "# Training loop\n",
    "ls = []\n",
    "for epoch in range(100):\n",
    "    #Forward entire dataset\n",
    "    y_pred = model(X)\n",
    "    \n",
    "    #Compute loss\n",
    "    l = criterion(y_pred, y)\n",
    "    ls.append(l)\n",
    "    \n",
    "    if epoch%10 == 0:print(f\"Epoch {epoch}: {l}\")\n",
    "    \n",
    "    #Clear any accumulated gradients\n",
    "    optimizer.zero_grad()\n",
    "    \n",
    "    #Backprop\n",
    "    l.backward() \n",
    "    # now each parameter's .grad.data is set to the gradient from this \n",
    "    # forward pass\n",
    "    \n",
    "    #Update parameters\n",
    "    optimizer.step()\n",
    "    # update each registered parameter using the parameter's \n",
    "    #.grad.data and learning rate"
   ]
  },
  {
   "cell_type": "code",
   "execution_count": 23,
   "metadata": {},
   "outputs": [
    {
     "data": {
      "text/plain": [
       "[<matplotlib.lines.Line2D at 0x7f9888c74400>]"
      ]
     },
     "execution_count": 23,
     "metadata": {},
     "output_type": "execute_result"
    },
    {
     "data": {
      "image/png": "[encoded data removed]",
      "text/plain": [
       "<Figure size 432x288 with 1 Axes>"
      ]
     },
     "metadata": {},
     "output_type": "display_data"
    }
   ],
   "source": [
    "f, ax = plt.subplots()\n",
    "ax.plot(ls)"
   ]
  },
  {
   "cell_type": "markdown",
   "metadata": {},
   "source": [
    "# todo: \n",
    "\n",
    "[ ] model2: try softmax as activation  \n",
    "[ ] add batchnorm layer to model1 and model2  \n",
    "[ ] do  7-1"
   ]
  },
  {
   "cell_type": "markdown",
   "metadata": {},
   "source": [
    "## 1. Compare activation functions "
   ]
  },
  {
   "cell_type": "code",
   "execution_count": 24,
   "metadata": {},
   "outputs": [],
   "source": [
    "# Wrong way to set initial weights \n",
    "# because no inplace functions are allowed for Variables with'requires_grad=True'\n",
    "# Ref: https://discuss.pytorch.org/t/how-to-initiate-parameters-of-layers/1460\n",
    "def wrong_weight_init(m):\n",
    "    if isinstance(m, nn.Linear):\n",
    "        torch.manual_seed(RSEED)\n",
    "        m.weight.normal_() # error! \n",
    "        m.bias.normal_() # error!\n",
    "        \n",
    "def weight_init(m):\n",
    "    if isinstance(m, nn.Linear):\n",
    "        torch.manual_seed(RSEED)\n",
    "        m.weight.data.normal_() \n",
    "        m.bias.data.normal_() \n",
    "            #alternatively set initial bias to zero\n",
    "            # m.bias.data.fill_(0)\n",
    "        "
   ]
  },
  {
   "cell_type": "code",
   "execution_count": 25,
   "metadata": {},
   "outputs": [
    {
     "name": "stdout",
     "output_type": "stream",
     "text": [
      "Sigmoid\n",
      "initial weights: \n",
      "error: (tensor(1.0115), tensor(0.9651))\n",
      "ReLU\n",
      "initial weights: \n",
      "error: (tensor(1.9250), tensor(0.8557))\n",
      "Softplus\n",
      "initial weights: \n"
     ]
    },
    {
     "name": "stderr",
     "output_type": "stream",
     "text": [
      "/root/anaconda3/envs/fastai/lib/python3.6/site-packages/torch/nn/functional.py:1474: UserWarning: Using a target size (torch.Size([759])) that is different to the input size (torch.Size([759, 1])) is deprecated. Please ensure they have the same size.\n",
      "  \"Please ensure they have the same size.\".format(target.size(), input.size()))\n"
     ]
    },
    {
     "name": "stdout",
     "output_type": "stream",
     "text": [
      "error: (tensor(1.7451), tensor(0.7730))\n"
     ]
    },
    {
     "data": {
      "image/png": "[encoded data removed]",
      "text/plain": [
       "<Figure size 432x288 with 1 Axes>"
      ]
     },
     "metadata": {},
     "output_type": "display_data"
    },
    {
     "data": {
      "image/png": "[encoded data removed]",
      "text/plain": [
       "<Figure size 432x288 with 1 Axes>"
      ]
     },
     "metadata": {},
     "output_type": "display_data"
    },
    {
     "data": {
      "image/png": "[encoded data removed]",
      "text/plain": [
       "<Figure size 432x288 with 1 Axes>"
      ]
     },
     "metadata": {},
     "output_type": "display_data"
    }
   ],
   "source": [
    "# BCEloss \n",
    "criterion = nn.BCELoss(size_average=True)\n",
    "\n",
    "model_relu = BCModel(X.shape[1], H1, H2, nn.ReLU() )\n",
    "acts = [nn.Sigmoid(), nn.ReLU(), nn.Softplus()]\n",
    "\n",
    "for act in acts: \n",
    "    actname = act.__class__.__name__\n",
    "    print(actname)\n",
    "    model = BCModel(X.shape[1], H1, H2, activation=act)\n",
    "    model.apply(weight_init)\n",
    "    print(\"initial weights: \")\n",
    "#     model.print_params()\n",
    "    optimizer = torch.optim.SGD(model.parameters(), lr=learning_rate)\n",
    "    \n",
    "    # Train\n",
    "    ls = []\n",
    "    for epoch in range(100):\n",
    "        #forward\n",
    "        y_pred = model(X)\n",
    "        \n",
    "        #loss\n",
    "        l = criterion(y_pred, y)\n",
    "        ls.append(l)\n",
    "        #zero-out grads\n",
    "        optimizer.zero_grad()\n",
    "        \n",
    "        #backward pass\n",
    "        l.backward()\n",
    "        \n",
    "        #update parameters\n",
    "        optimizer.step()\n",
    "    f,ax = plt.subplots()\n",
    "    f.suptitle(actname)\n",
    "    ax.plot(ls)\n",
    "    print(f\"error: {ls[0], ls[-1]}\")"
   ]
  },
  {
   "cell_type": "markdown",
   "metadata": {},
   "source": [
    "Side: setting a random seed for pytorch\n",
    "- Must set the seed before calling a random number generating function."
   ]
  },
  {
   "cell_type": "code",
   "execution_count": 26,
   "metadata": {},
   "outputs": [
    {
     "name": "stdout",
     "output_type": "stream",
     "text": [
      "tensor([ 0.6147,  0.3810])\n",
      "tensor([ 0.6147,  0.3810])\n"
     ]
    }
   ],
   "source": [
    "torch.manual_seed(2)\n",
    "print(torch.rand(2))\n",
    "\n",
    "torch.manual_seed(2)\n",
    "print(torch.rand(2)) # gives the same random numbers"
   ]
  },
  {
   "cell_type": "code",
   "execution_count": 27,
   "metadata": {},
   "outputs": [
    {
     "name": "stdout",
     "output_type": "stream",
     "text": [
      "tensor([ 0.6147,  0.3810])\n",
      "tensor([ 0.6371,  0.4745])\n"
     ]
    }
   ],
   "source": [
    "# However, thess will not.\n",
    "\n",
    "torch.manual_seed(2)\n",
    "print(torch.rand(2))\n",
    "\n",
    "print(torch.rand(2))"
   ]
  },
  {
   "cell_type": "code",
   "execution_count": 28,
   "metadata": {},
   "outputs": [
    {
     "name": "stdout",
     "output_type": "stream",
     "text": [
      "tensor([ 0.6147,  0.3810])\n",
      "tensor([ 0.6147,  0.3810])\n",
      "tensor([ 0.6147,  0.3810])\n"
     ]
    }
   ],
   "source": [
    "# Set the seed manually right before calling the random generator \n",
    "for i in range(3):\n",
    "    torch.manual_seed(2)\n",
    "    print(torch.rand(2))\n",
    "    "
   ]
  },
  {
   "cell_type": "markdown",
   "metadata": {},
   "source": [
    "- Example: nn Linear module's weight initialization from a normal distribution with a random seed"
   ]
  },
  {
   "cell_type": "code",
   "execution_count": 29,
   "metadata": {},
   "outputs": [
    {
     "name": "stdout",
     "output_type": "stream",
     "text": [
      "original: \n",
      " tensor([[-0.5209,  1.0293, -0.3506,  0.1164, -0.1888, -1.4995,  0.1282,\n",
      "         -0.5361],\n",
      "        [ 0.0801, -0.1853,  0.7937,  0.9629,  0.7823,  0.4834, -1.8192,\n",
      "         -0.5442],\n",
      "        [ 1.9123,  0.2977, -0.7049,  0.4994, -0.0474,  1.3253,  0.9269,\n",
      "          0.2274]])\n",
      "normal call: \n",
      " tensor([[-1.3042, -1.1097, -1.2188,  1.1676, -1.0574, -0.1188, -0.3298,\n",
      "          0.0958],\n",
      "        [-1.1233, -0.0919, -0.1320, -0.2751, -0.2350,  0.0937, -0.7650,\n",
      "          1.8299],\n",
      "        [-0.1752,  0.6990, -0.6861,  0.7202,  0.1963,  0.6142,  1.1566,\n",
      "          0.4296]])\n",
      "normal call: \n",
      " tensor([[ 0.1665,  0.7911,  0.8560,  0.4094, -1.1371, -1.2034, -1.0190,\n",
      "          0.3157],\n",
      "        [-1.4702, -0.2134, -0.8707,  1.6159, -0.2356,  0.9444,  0.5461,\n",
      "         -1.3575],\n",
      "        [ 0.1757, -0.1319, -0.2735,  0.3355,  0.1885,  2.1432, -0.2779,\n",
      "          0.5511]])\n"
     ]
    }
   ],
   "source": [
    "print(\"original: \\n\", model.l1.weight.data)\n",
    "print(\"normal call: \\n\", model.l1.weight.data.normal_())\n",
    "print(\"normal call: \\n\", model.l1.weight.data.normal_())"
   ]
  },
  {
   "cell_type": "code",
   "execution_count": 30,
   "metadata": {},
   "outputs": [
    {
     "name": "stdout",
     "output_type": "stream",
     "text": [
      "original: \n",
      " tensor([[ 0.1665,  0.7911,  0.8560,  0.4094, -1.1371, -1.2034, -1.0190,\n",
      "          0.3157],\n",
      "        [-1.4702, -0.2134, -0.8707,  1.6159, -0.2356,  0.9444,  0.5461,\n",
      "         -1.3575],\n",
      "        [ 0.1757, -0.1319, -0.2735,  0.3355,  0.1885,  2.1432, -0.2779,\n",
      "          0.5511]])\n",
      "normal call: \n",
      " tensor([[-0.5108,  1.0283, -0.3532,  0.1230, -0.1816, -1.4972,  0.1421,\n",
      "         -0.5243],\n",
      "        [ 0.0744, -0.1843,  0.7960,  0.9592,  0.7783,  0.4826, -1.8291,\n",
      "         -0.5514],\n",
      "        [ 1.9113,  0.2979, -0.7041,  0.4983, -0.0488,  1.3252,  0.9240,\n",
      "          0.2255]])\n",
      "normal call: \n",
      " tensor([[-0.5108,  1.0283, -0.3532,  0.1230, -0.1816, -1.4972,  0.1421,\n",
      "         -0.5243],\n",
      "        [ 0.0744, -0.1843,  0.7960,  0.9592,  0.7783,  0.4826, -1.8291,\n",
      "         -0.5514],\n",
      "        [ 1.9113,  0.2979, -0.7041,  0.4983, -0.0488,  1.3252,  0.9240,\n",
      "          0.2255]])\n"
     ]
    }
   ],
   "source": [
    "print(\"original: \\n\", model.l1.weight.data)\n",
    "torch.manual_seed(RSEED)\n",
    "print(\"normal call: \\n\", model.l1.weight.data.normal_())\n",
    "torch.manual_seed(RSEED)\n",
    "print(\"normal call: \\n\", model.l1.weight.data.normal_())"
   ]
  },
  {
   "cell_type": "markdown",
   "metadata": {},
   "source": [
    "End of side"
   ]
  },
  {
   "cell_type": "markdown",
   "metadata": {},
   "source": [
    "## 2. Classifying with minibatch"
   ]
  },
  {
   "cell_type": "code",
   "execution_count": 31,
   "metadata": {},
   "outputs": [
    {
     "name": "stdout",
     "output_type": "stream",
     "text": [
      "initial weights: \n"
     ]
    },
    {
     "name": "stderr",
     "output_type": "stream",
     "text": [
      "/root/anaconda3/envs/fastai/lib/python3.6/site-packages/torch/nn/functional.py:1474: UserWarning: Using a target size (torch.Size([32])) that is different to the input size (torch.Size([32, 1])) is deprecated. Please ensure they have the same size.\n",
      "  \"Please ensure they have the same size.\".format(target.size(), input.size()))\n",
      "/root/anaconda3/envs/fastai/lib/python3.6/site-packages/torch/nn/functional.py:1474: UserWarning: Using a target size (torch.Size([28])) that is different to the input size (torch.Size([28, 1])) is deprecated. Please ensure they have the same size.\n",
      "  \"Please ensure they have the same size.\".format(target.size(), input.size()))\n"
     ]
    },
    {
     "name": "stdout",
     "output_type": "stream",
     "text": [
      "error: (tensor(1.4999), tensor(0.6525))\n"
     ]
    },
    {
     "data": {
      "image/png": "[encoded data removed]",
      "text/plain": [
       "<Figure size 432x288 with 1 Axes>"
      ]
     },
     "metadata": {},
     "output_type": "display_data"
    }
   ],
   "source": [
    "model = BCModel(X.shape[1], H1, H2, activation=act)\n",
    "model.apply(weight_init)\n",
    "print(\"initial weights: \")\n",
    "# model.print_params()\n",
    "optimizer = torch.optim.SGD(model.parameters(), lr=learning_rate)\n",
    "\n",
    "# Train\n",
    "ls = []\n",
    "for epoch in range(100):\n",
    "    for i, (x_batch, y_batch) in enumerate(train_loader):\n",
    "\n",
    "        # Make them tensor\n",
    "#         x_batch = torch.from_numpy(x_batch).type(torch.float)\n",
    "#         y_batch = torch.from_numpy(y_batch).type(torch.float)\n",
    "        #forward\n",
    "        y_pred = model(x_batch)\n",
    "\n",
    "        #loss\n",
    "        l = criterion(y_pred, y_batch)\n",
    "        ls.append(l)\n",
    "        #zero-out grads\n",
    "        optimizer.zero_grad()\n",
    "\n",
    "        #backward pass\n",
    "        l.backward()\n",
    "\n",
    "        #update parameters\n",
    "        optimizer.step()\n",
    "f,ax = plt.subplots()\n",
    "ax.plot(ls)\n",
    "print(f\"error: {ls[0], ls[-1]}\")"
   ]
  },
  {
   "cell_type": "code",
   "execution_count": 32,
   "metadata": {},
   "outputs": [
    {
     "name": "stdout",
     "output_type": "stream",
     "text": [
      "Avg test batch loss: 0.634887520223856\n",
      "Test accuracy:  0.6772908366533864\n"
     ]
    },
    {
     "data": {
      "image/png": "[encoded data removed]",
      "text/plain": [
       "<Figure size 432x288 with 1 Axes>"
      ]
     },
     "metadata": {},
     "output_type": "display_data"
    }
   ],
   "source": [
    "#Test loop\n",
    "# test loss\n",
    "test_ls = []\n",
    "isCorrects = []\n",
    "with torch.no_grad():\n",
    "    for i, (xtest_batch, ytest_batch) in enumerate(test_loader):\n",
    "        ypred_batch = model(xtest_batch).view(ytest_batch.size())\n",
    "        test_ls.append(criterion(ypred_batch, ytest_batch).item())\n",
    "\n",
    "        # make a decision at 0.5\n",
    "        decision_batch = (ypred_batch > 0.5).type(ytest_batch.dtype)\n",
    "#         pdb.set_trace()\n",
    "        # collect isCorrects\n",
    "        isCorrect_batch = (decision_batch==ytest_batch).numpy()\n",
    "#         pdb.set_trace()\n",
    "        isCorrects.extend(isCorrect_batch)\n",
    "        \n",
    "f,ax = plt.subplots()\n",
    "f.suptitle('Test batch loss')\n",
    "ax.plot(test_ls)\n",
    "print('Avg test batch loss:', np.mean(test_ls))\n",
    "print('Test accuracy: ', sum(isCorrects)/len(isCorrects))\n",
    "    "
   ]
  },
  {
   "cell_type": "code",
   "execution_count": 33,
   "metadata": {},
   "outputs": [
    {
     "name": "stdout",
     "output_type": "stream",
     "text": [
      "Avg test batch loss: 0.6328511238098145\n",
      "Test accuracy:  0.6772908366533864\n"
     ]
    },
    {
     "data": {
      "image/png": "[encoded data removed]",
      "text/plain": [
       "<Figure size 432x288 with 1 Axes>"
      ]
     },
     "metadata": {},
     "output_type": "display_data"
    }
   ],
   "source": [
    "#Test loop\n",
    "# test loss\n",
    "test_ls = []\n",
    "isCorrects = []\n",
    "with torch.no_grad():\n",
    "    for i, (xtest_batch, ytest_batch) in enumerate(test_loader):\n",
    "        ypred_batch = model(xtest_batch).view(ytest_batch.size())\n",
    "        test_ls.append(criterion(ypred_batch, ytest_batch).item())\n",
    "\n",
    "        # make a decision at 0.5\n",
    "        decision_batch = (ypred_batch > 0.5).type(ytest_batch.dtype)\n",
    "#         pdb.set_trace()\n",
    "        # collect isCorrects\n",
    "        isCorrect_batch = (decision_batch==ytest_batch).numpy()\n",
    "#         pdb.set_trace()\n",
    "        isCorrects.extend(isCorrect_batch)\n",
    "        \n",
    "f,ax = plt.subplots()\n",
    "f.suptitle('Test batch loss')\n",
    "ax.plot(test_ls)\n",
    "print('Avg test batch loss:', np.mean(test_ls))\n",
    "print('Test accuracy: ', sum(isCorrects)/len(isCorrects))\n",
    "    "
   ]
  },
  {
   "cell_type": "markdown",
   "metadata": {},
   "source": [
    "Let's take a look at misclassified examples."
   ]
  },
  {
   "cell_type": "markdown",
   "metadata": {},
   "source": [
    "## 3. Try a deeper network"
   ]
  },
  {
   "cell_type": "code",
   "execution_count": 34,
   "metadata": {},
   "outputs": [
    {
     "name": "stderr",
     "output_type": "stream",
     "text": [
      "ERROR:root:File `'/root/Workspace/.py'` not found.\n"
     ]
    }
   ],
   "source": [
    "# %run ~/Workspace/"
   ]
  },
  {
   "cell_type": "code",
   "execution_count": 35,
   "metadata": {},
   "outputs": [],
   "source": [
    "class DeepBCModel(nn.Module):\n",
    "    def __init__(self, dims, \n",
    "                 hidden_activation=nn.ReLU(), \n",
    "                 output_activation=nn.Sigmoid()):\n",
    "        \"\"\"\n",
    "        dims: a list of dimensions of layer. [inDims, H1, H2,...].\n",
    "        It doesn't includ the output layer's size, which is fixed to 1\"\"\"\n",
    "        super(DeepBCModel,self).__init__()\n",
    "        \n",
    "        self.__build_layers__(dims)\n",
    "        self.n_layers = len(dims)\n",
    "        self.h_activation = hidden_activation\n",
    "        self.o_activation = output_activation\n",
    "        \n",
    "    def __build_layers__(self, dims):\n",
    "#         assert(len(self.layers) == 0)\n",
    "#         for i in range(len(dims)-1):\n",
    "#             self.add_module(f'h{i}', self.h_activation(nn.Linear(dims[i],dim[i+1])))\n",
    "#         self.add_module(f'h{len(dim)-1}', self.o_activation(nn.Linear(dims[-1],1)))\n",
    "                            \n",
    "        for i in range(len(dims)-1):\n",
    "            self.add_module(f'li{i}', (nn.Linear(dims[i],dims[i+1])))\n",
    "        self.add_module(f'li{len(dims)-1}', nn.Linear(dims[-1],1))\n",
    "        \n",
    "    def forward(self, x):\n",
    "        y_pred = x\n",
    "        \n",
    "        for (mname, m) in self.named_children():\n",
    "            if not isinstance(m, nn.Linear):\n",
    "#                 print(mname, ': pass')\n",
    "                continue\n",
    "                \n",
    "            if (str(self.n_layers-1) in mname):\n",
    "#                 print(mname, ': last layer')\n",
    "                act = self.o_activation\n",
    "            else:\n",
    "#                 print(mname, \": middle layer\" )\n",
    "                act = self.h_activation\n",
    "                \n",
    "            y_pred = act(m(y_pred))\n",
    "        return y_pred\n",
    "    "
   ]
  },
  {
   "cell_type": "code",
   "execution_count": 36,
   "metadata": {},
   "outputs": [
    {
     "name": "stdout",
     "output_type": "stream",
     "text": [
      "DeepBCModel(\n",
      "  (li0): Linear(in_features=8, out_features=100, bias=True)\n",
      "  (li1): Linear(in_features=100, out_features=100, bias=True)\n",
      "  (li2): Linear(in_features=100, out_features=100, bias=True)\n",
      "  (li3): Linear(in_features=100, out_features=1, bias=True)\n",
      "  (h_activation): ReLU()\n",
      "  (o_activation): Sigmoid()\n",
      ")\n",
      "4\n"
     ]
    }
   ],
   "source": [
    "M = DeepBCModel([8,100,100,100])\n",
    "print(M)\n",
    "print(M.n_layers)"
   ]
  },
  {
   "cell_type": "code",
   "execution_count": 37,
   "metadata": {},
   "outputs": [
    {
     "name": "stdout",
     "output_type": "stream",
     "text": [
      "Linear(in_features=8, out_features=100, bias=True)\n",
      "Linear(in_features=100, out_features=100, bias=True)\n",
      "Linear(in_features=100, out_features=100, bias=True)\n",
      "Linear(in_features=100, out_features=1, bias=True)\n",
      "ReLU()\n",
      "Sigmoid()\n"
     ]
    }
   ],
   "source": [
    "for m in M.children():\n",
    "    print(m)"
   ]
  },
  {
   "cell_type": "code",
   "execution_count": 38,
   "metadata": {},
   "outputs": [],
   "source": [
    "# check forward function\n",
    "dataiter = iter(train_loader)\n",
    "x1, y1 = dataiter.next()"
   ]
  },
  {
   "cell_type": "code",
   "execution_count": 39,
   "metadata": {},
   "outputs": [],
   "source": [
    "M(x1);"
   ]
  },
  {
   "cell_type": "code",
   "execution_count": 40,
   "metadata": {},
   "outputs": [],
   "source": [
    "# Hyperparameters\n",
    "learning_rate = 0.00001\n",
    "nEpoch = 5000\n",
    "H1 = 100; H2 = 100; H3 = 100; H4 = 100\n",
    "dims = [X.shape[1], H1, H2, H3, H4]"
   ]
  },
  {
   "cell_type": "code",
   "execution_count": 41,
   "metadata": {},
   "outputs": [],
   "source": [
    "model = DeepBCModel(dims)\n",
    "model.apply(weight_init)\n",
    "optimizer = torch.optim.Adam(model.parameters(), lr=learning_rate)"
   ]
  },
  {
   "cell_type": "code",
   "execution_count": 42,
   "metadata": {},
   "outputs": [
    {
     "name": "stderr",
     "output_type": "stream",
     "text": [
      "/root/anaconda3/envs/fastai/lib/python3.6/site-packages/torch/nn/functional.py:1474: UserWarning: Using a target size (torch.Size([32])) that is different to the input size (torch.Size([32, 1])) is deprecated. Please ensure they have the same size.\n",
      "  \"Please ensure they have the same size.\".format(target.size(), input.size()))\n",
      "/root/anaconda3/envs/fastai/lib/python3.6/site-packages/torch/nn/functional.py:1474: UserWarning: Using a target size (torch.Size([28])) that is different to the input size (torch.Size([28, 1])) is deprecated. Please ensure they have the same size.\n",
      "  \"Please ensure they have the same size.\".format(target.size(), input.size()))\n"
     ]
    }
   ],
   "source": [
    "# Train\n",
    "train_ls = []\n",
    "train_accs = []\n",
    "for epoch in range(nEpoch):\n",
    "#     print(\"=\"*30)\n",
    "#     print(f'epoch {epoch}')\n",
    "    train_isCorrects = [] \n",
    "    for i, (x_batch, y_batch) in enumerate(train_loader):\n",
    "\n",
    "        #forward\n",
    "        ypred_batch = model(x_batch).view(y_batch.size())\n",
    "        \n",
    "        #loss\n",
    "        l = criterion(ypred_batch, y_batch)\n",
    "        train_ls.append(l.item())\n",
    "        #zero-out grads\n",
    "        optimizer.zero_grad()\n",
    "\n",
    "        #backward pass\n",
    "        l.backward()\n",
    "\n",
    "        #update parameters\n",
    "        optimizer.step()\n",
    "        \n",
    "        # make a decision at 0.5\n",
    "        decision_batch = (ypred_batch > 0.5).view(y_batch.size()).type(y_batch.dtype)\n",
    "        # collect isCorrects\n",
    "        isCorrect_batch = (decision_batch==y_batch).numpy()\n",
    "#         print(decision_batch.size(),  isCorrect_batch.shape)\n",
    "#         pdb.set_trace()\n",
    "        batch_acc = sum(isCorrect_batch)/len(isCorrect_batch)\n",
    "        train_accs.append(batch_acc)\n",
    "#         print(f'\\t batch{i} acc: {batch_acc}')\n",
    "              \n",
    "#     print(f'epoch{epoch} acc: {sum(train_accs)/len(train_accs)}')"
   ]
  },
  {
   "cell_type": "code",
   "execution_count": 43,
   "metadata": {},
   "outputs": [
    {
     "name": "stdout",
     "output_type": "stream",
     "text": [
      "Train batch losses: (12.088571548461914, 11.841866493225098)\n",
      "Train accuracy: (0.5625, 0.5714285714285714)\n"
     ]
    },
    {
     "data": {
      "image/png": "[encoded data removed]",
      "text/plain": [
       "<Figure size 432x288 with 2 Axes>"
      ]
     },
     "metadata": {},
     "output_type": "display_data"
    }
   ],
   "source": [
    "f,axes = plt.subplots(2,1)\n",
    "axes[0].plot(train_ls)\n",
    "axes[1].plot(train_accs)\n",
    "print(f\"Train batch losses: {train_ls[0], train_ls[-1]}\")\n",
    "print(f\"Train accuracy: {train_accs[0], train_accs[-1]}\")"
   ]
  },
  {
   "cell_type": "code",
   "execution_count": 44,
   "metadata": {},
   "outputs": [
    {
     "name": "stdout",
     "output_type": "stream",
     "text": [
      "Avg test batch loss: 9.226331412792206\n",
      "Test accuracy:  0.6772908366533864\n"
     ]
    },
    {
     "data": {
      "image/png": "[encoded data removed]",
      "text/plain": [
       "<Figure size 432x288 with 1 Axes>"
      ]
     },
     "metadata": {},
     "output_type": "display_data"
    }
   ],
   "source": [
    "#Test loop\n",
    "# test loss\n",
    "test_ls = []\n",
    "test_isCorrects = []\n",
    "with torch.no_grad():\n",
    "    for i, (xtest_batch, ytest_batch) in enumerate(test_loader):\n",
    "        ypred_batch = model(xtest_batch).view(ytest_batch.size())\n",
    "        test_ls.append(criterion(ypred_batch, ytest_batch).item())\n",
    "\n",
    "        # make a decision at 0.5\n",
    "        decision_batch = (ypred_batch > 0.5).type(ytest_batch.dtype)\n",
    "#         pdb.set_trace()\n",
    "        # collect isCorrects\n",
    "        isCorrect_batch = (decision_batch==ytest_batch).numpy()\n",
    "#         pdb.set_trace()\n",
    "        test_isCorrects.extend(isCorrect_batch)\n",
    "        \n",
    "f,ax = plt.subplots()\n",
    "f.suptitle('Test batch loss')\n",
    "ax.plot(test_ls)\n",
    "print('Avg test batch loss:', np.mean(test_ls))\n",
    "print('Test accuracy: ', sum(isCorrects)/len(isCorrects))\n",
    "    "
   ]
  }
 ],
 "metadata": {
  "kernelspec": {
   "display_name": "Python 3",
   "language": "python",
   "name": "python3"
  },
  "language_info": {
   "codemirror_mode": {
    "name": "ipython",
    "version": 3
   },
   "file_extension": ".py",
   "mimetype": "text/x-python",
   "name": "python",
   "nbconvert_exporter": "python",
   "pygments_lexer": "ipython3",
   "version": "3.6.5"
  }
 },
 "nbformat": 4,
 "nbformat_minor": 2
}
