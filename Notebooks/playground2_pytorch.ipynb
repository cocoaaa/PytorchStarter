{
 "cells": [
  {
   "cell_type": "markdown",
   "metadata": {},
   "source": [
    "##  Manual Gradient"
   ]
  },
  {
   "cell_type": "code",
   "execution_count": 3,
   "metadata": {
    "code_folding": [],
    "scrolled": true
   },
   "outputs": [
    {
     "name": "stdout",
     "output_type": "stream",
     "text": [
      "/Users/hjsong/Playground/Tutorials/PyTorchZeroToAll/Notebooks\n"
     ]
    }
   ],
   "source": [
    "import numpy as np\n",
    "import pdb\n",
    "import torch\n",
    "import matplotlib.pyplot as plt\n",
    "%matplotlib inline\n",
    "RSEED = 100"
   ]
  },
  {
   "cell_type": "markdown",
   "metadata": {
    "heading_collapsed": true
   },
   "source": [
    "### Example 1"
   ]
  },
  {
   "cell_type": "code",
   "execution_count": 8,
   "metadata": {
    "hidden": true
   },
   "outputs": [
    {
     "name": "stdout",
     "output_type": "stream",
     "text": [
      "Untrained model prediction:  4.0\n",
      "\tx: 1.0, y: 2.0, grad: -1.0\n",
      "\tnew weight:  1.01\n",
      "\n",
      "\n",
      "\tx: 2.0, y: 4.0, grad: -3.96\n",
      "\tnew weight:  1.05\n",
      "\n",
      "\n",
      "\tx: 3.0, y: 6.0, grad: -8.55\n",
      "\tnew weight:  1.14\n",
      "\n",
      "\n",
      "Epoch:  0  w:  1.14 loss =  4.06\n",
      "\tx: 1.0, y: 2.0, grad: -0.86\n",
      "\tnew weight:  1.14\n",
      "\n",
      "\n",
      "\tx: 2.0, y: 4.0, grad: -3.42\n",
      "\tnew weight:  1.18\n",
      "\n",
      "\n",
      "\tx: 3.0, y: 6.0, grad: -7.4\n",
      "\tnew weight:  1.25\n",
      "\n",
      "\n",
      "Epoch:  1  w:  1.25 loss =  3.04\n",
      "\tx: 1.0, y: 2.0, grad: -0.75\n",
      "\tnew weight:  1.26\n",
      "\n",
      "\n",
      "\tx: 2.0, y: 4.0, grad: -2.96\n",
      "\tnew weight:  1.29\n",
      "\n",
      "\n",
      "\tx: 3.0, y: 6.0, grad: -6.4\n",
      "\tnew weight:  1.35\n",
      "\n",
      "\n",
      "Epoch:  2  w:  1.35 loss =  2.27\n",
      "\tx: 1.0, y: 2.0, grad: -0.65\n",
      "\tnew weight:  1.36\n",
      "\n",
      "\n",
      "\tx: 2.0, y: 4.0, grad: -2.56\n",
      "\tnew weight:  1.39\n",
      "\n",
      "\n",
      "\tx: 3.0, y: 6.0, grad: -5.53\n",
      "\tnew weight:  1.44\n",
      "\n",
      "\n",
      "Epoch:  3  w:  1.44 loss =  1.7\n",
      "\tx: 1.0, y: 2.0, grad: -0.56\n",
      "\tnew weight:  1.45\n",
      "\n",
      "\n",
      "\tx: 2.0, y: 4.0, grad: -2.22\n",
      "\tnew weight:  1.47\n",
      "\n",
      "\n",
      "\tx: 3.0, y: 6.0, grad: -4.79\n",
      "\tnew weight:  1.52\n",
      "\n",
      "\n",
      "Epoch:  4  w:  1.52 loss =  1.27\n",
      "\tx: 1.0, y: 2.0, grad: -0.48\n",
      "\tnew weight:  1.52\n",
      "\n",
      "\n",
      "\tx: 2.0, y: 4.0, grad: -1.92\n",
      "\tnew weight:  1.54\n",
      "\n",
      "\n",
      "\tx: 3.0, y: 6.0, grad: -4.14\n",
      "\tnew weight:  1.58\n",
      "\n",
      "\n",
      "Epoch:  5  w:  1.58 loss =  0.95\n",
      "\tx: 1.0, y: 2.0, grad: -0.42\n",
      "\tnew weight:  1.59\n",
      "\n",
      "\n",
      "\tx: 2.0, y: 4.0, grad: -1.66\n",
      "\tnew weight:  1.6\n",
      "\n",
      "\n",
      "\tx: 3.0, y: 6.0, grad: -3.58\n",
      "\tnew weight:  1.64\n",
      "\n",
      "\n",
      "Epoch:  6  w:  1.64 loss =  0.71\n",
      "\tx: 1.0, y: 2.0, grad: -0.36\n",
      "\tnew weight:  1.64\n",
      "\n",
      "\n",
      "\tx: 2.0, y: 4.0, grad: -1.43\n",
      "\tnew weight:  1.66\n",
      "\n",
      "\n",
      "\tx: 3.0, y: 6.0, grad: -3.1\n",
      "\tnew weight:  1.69\n",
      "\n",
      "\n",
      "Epoch:  7  w:  1.69 loss =  0.53\n",
      "\tx: 1.0, y: 2.0, grad: -0.31\n",
      "\tnew weight:  1.69\n",
      "\n",
      "\n",
      "\tx: 2.0, y: 4.0, grad: -1.24\n",
      "\tnew weight:  1.7\n",
      "\n",
      "\n",
      "\tx: 3.0, y: 6.0, grad: -2.68\n",
      "\tnew weight:  1.73\n",
      "\n",
      "\n",
      "Epoch:  8  w:  1.73 loss =  0.4\n",
      "\tx: 1.0, y: 2.0, grad: -0.27\n",
      "\tnew weight:  1.73\n",
      "\n",
      "\n",
      "\tx: 2.0, y: 4.0, grad: -1.07\n",
      "\tnew weight:  1.74\n",
      "\n",
      "\n",
      "\tx: 3.0, y: 6.0, grad: -2.32\n",
      "\tnew weight:  1.77\n",
      "\n",
      "\n",
      "Epoch:  9  w:  1.77 loss =  0.3\n",
      "\tx: 1.0, y: 2.0, grad: -0.23\n",
      "\tnew weight:  1.77\n",
      "\n",
      "\n",
      "\tx: 2.0, y: 4.0, grad: -0.93\n",
      "\tnew weight:  1.78\n",
      "\n",
      "\n",
      "\tx: 3.0, y: 6.0, grad: -2.0\n",
      "\tnew weight:  1.8\n",
      "\n",
      "\n",
      "Epoch:  10  w:  1.8 loss =  0.22\n",
      "\tx: 1.0, y: 2.0, grad: -0.2\n",
      "\tnew weight:  1.8\n",
      "\n",
      "\n",
      "\tx: 2.0, y: 4.0, grad: -0.8\n",
      "\tnew weight:  1.81\n",
      "\n",
      "\n",
      "\tx: 3.0, y: 6.0, grad: -1.73\n",
      "\tnew weight:  1.82\n",
      "\n",
      "\n",
      "Epoch:  11  w:  1.82 loss =  0.17\n",
      "\tx: 1.0, y: 2.0, grad: -0.18\n",
      "\tnew weight:  1.83\n",
      "\n",
      "\n",
      "\tx: 2.0, y: 4.0, grad: -0.69\n",
      "\tnew weight:  1.83\n",
      "\n",
      "\n",
      "\tx: 3.0, y: 6.0, grad: -1.5\n",
      "\tnew weight:  1.85\n",
      "\n",
      "\n",
      "Epoch:  12  w:  1.85 loss =  0.12\n",
      "\tx: 1.0, y: 2.0, grad: -0.15\n",
      "\tnew weight:  1.85\n",
      "\n",
      "\n",
      "\tx: 2.0, y: 4.0, grad: -0.6\n",
      "\tnew weight:  1.86\n",
      "\n",
      "\n",
      "\tx: 3.0, y: 6.0, grad: -1.3\n",
      "\tnew weight:  1.87\n",
      "\n",
      "\n",
      "Epoch:  13  w:  1.87 loss =  0.09\n",
      "\tx: 1.0, y: 2.0, grad: -0.13\n",
      "\tnew weight:  1.87\n",
      "\n",
      "\n",
      "\tx: 2.0, y: 4.0, grad: -0.52\n",
      "\tnew weight:  1.88\n",
      "\n",
      "\n",
      "\tx: 3.0, y: 6.0, grad: -1.12\n",
      "\tnew weight:  1.89\n",
      "\n",
      "\n",
      "Epoch:  14  w:  1.89 loss =  0.07\n",
      "\tx: 1.0, y: 2.0, grad: -0.11\n",
      "\tnew weight:  1.89\n",
      "\n",
      "\n",
      "\tx: 2.0, y: 4.0, grad: -0.45\n",
      "\tnew weight:  1.89\n",
      "\n",
      "\n",
      "\tx: 3.0, y: 6.0, grad: -0.97\n",
      "\tnew weight:  1.9\n",
      "\n",
      "\n",
      "Epoch:  15  w:  1.9 loss =  0.05\n",
      "\tx: 1.0, y: 2.0, grad: -0.1\n",
      "\tnew weight:  1.9\n",
      "\n",
      "\n",
      "\tx: 2.0, y: 4.0, grad: -0.39\n",
      "\tnew weight:  1.91\n",
      "\n",
      "\n",
      "\tx: 3.0, y: 6.0, grad: -0.84\n",
      "\tnew weight:  1.92\n",
      "\n",
      "\n",
      "Epoch:  16  w:  1.92 loss =  0.04\n",
      "\tx: 1.0, y: 2.0, grad: -0.08\n",
      "\tnew weight:  1.92\n",
      "\n",
      "\n",
      "\tx: 2.0, y: 4.0, grad: -0.34\n",
      "\tnew weight:  1.92\n",
      "\n",
      "\n",
      "\tx: 3.0, y: 6.0, grad: -0.72\n",
      "\tnew weight:  1.93\n",
      "\n",
      "\n",
      "Epoch:  17  w:  1.93 loss =  0.03\n",
      "\tx: 1.0, y: 2.0, grad: -0.07\n",
      "\tnew weight:  1.93\n",
      "\n",
      "\n",
      "\tx: 2.0, y: 4.0, grad: -0.29\n",
      "\tnew weight:  1.93\n",
      "\n",
      "\n",
      "\tx: 3.0, y: 6.0, grad: -0.63\n",
      "\tnew weight:  1.94\n",
      "\n",
      "\n",
      "Epoch:  18  w:  1.94 loss =  0.02\n",
      "\tx: 1.0, y: 2.0, grad: -0.06\n",
      "\tnew weight:  1.94\n",
      "\n",
      "\n",
      "\tx: 2.0, y: 4.0, grad: -0.25\n",
      "\tnew weight:  1.94\n",
      "\n",
      "\n",
      "\tx: 3.0, y: 6.0, grad: -0.54\n",
      "\tnew weight:  1.95\n",
      "\n",
      "\n",
      "Epoch:  19  w:  1.95 loss =  0.02\n",
      "Trained model prediction:  7.780711230552662\n"
     ]
    }
   ],
   "source": [
    "x_data = [1.0, 2.0, 3.0]\n",
    "y_data = [2.0, 4.0, 6.0]\n",
    "alpha = 0.01 # learning rate\n",
    "\n",
    "w = 1.0 # initial guess\n",
    "\n",
    "# Model\n",
    "def forward(x):\n",
    "    return x*w\n",
    "\n",
    "def loss(x,y):\n",
    "    y_pred = forward(x)\n",
    "    return 0.5*(y_pred - y)**2\n",
    "\n",
    "def gradient(x, y):\n",
    "    # compute d_loss / dw (note wrt w)\n",
    "    return (x*w - y)*x\n",
    "\n",
    "#Before training prediction:\n",
    "print(\"Untrained model prediction: \", forward(4))\n",
    "\n",
    "#Training\n",
    "for epoch in range(20):\n",
    "    for x, y in zip(x_data, y_data):\n",
    "        l = loss(x,y)\n",
    "        grad = gradient(x, y)\n",
    "        w = w - alpha * grad\n",
    "        print(f\"\\tx: {x}, y: {y}, grad: {round(grad,2)}\")\n",
    "        print(f\"\\tnew weight: \", round(w,2) )\n",
    "        print(\"\\n\")\n",
    "    print (\"Epoch: \", epoch, \" w: \", round(w,2), \"loss = \", round(l,2) )\n",
    "\n",
    "#After training, prediction\n",
    "print(\"Trained model prediction: \", forward(4))"
   ]
  },
  {
   "cell_type": "markdown",
   "metadata": {
    "hidden": true
   },
   "source": [
    "Exercise 3-1\n",
    "$$\\frac{\\partial loss}{\\partial w1} = (y - y_{hat}) x$$\n",
    "$$\\frac{\\partial loss}{\\partial w2} = (y - y_{hat}) x^{2}$$\n",
    "$$\\frac{\\partial loss}{\\partial b} = (y - y_{hat})$$"
   ]
  },
  {
   "cell_type": "markdown",
   "metadata": {
    "heading_collapsed": true
   },
   "source": [
    "### Exercise 3-2: Implement"
   ]
  },
  {
   "cell_type": "code",
   "execution_count": 9,
   "metadata": {
    "hidden": true
   },
   "outputs": [],
   "source": [
    "def getX(n):\n",
    "    \"\"\" \n",
    "    Creates nx2 data matrix for Exercise 3-2\n",
    "    \"\"\"\n",
    "    X = np.zeros((n,2))\n",
    "    X[:,0] = np.linspace(-10, 10, num=n)\n",
    "    X[:,1] = X[:,0]**2\n",
    "    return X\n",
    "\n",
    "def getY(X, true_w, true_b):\n",
    "    \"\"\" \n",
    "    Creates nx1 matrix for target of X\n",
    "    with true weights, w = [w1, w2] and b\n",
    "    \"\"\"\n",
    "    w = np.r_[true_b, true_w]\n",
    "    X = np.c_[np.ones((X.shape[0], 1)), X]\n",
    "    return np.dot(X, w).reshape((X.shape[0],-1))    "
   ]
  },
  {
   "cell_type": "markdown",
   "metadata": {
    "hidden": true
   },
   "source": [
    "Implement with numpy"
   ]
  },
  {
   "cell_type": "code",
   "execution_count": 10,
   "metadata": {
    "hidden": true
   },
   "outputs": [],
   "source": [
    "def forward(x, w, b):\n",
    "    \"\"\"\n",
    "    x = [x1, x2] = [x, x^2]\n",
    "    w = [w1, w2]\n",
    "    Returns a scalar value of y_hat\n",
    "    \"\"\"\n",
    "    return np.dot(x, w) + b\n",
    "\n",
    "def loss(x, y, w, b):\n",
    "    \"\"\"\n",
    "    x: an input vector in R^d, or (nxd) matrix\n",
    "    y: a scalar (target value), or a vector of length n\n",
    "    w: a weight vector in R^d\n",
    "    b: a scalar bias term\n",
    "    \"\"\"\n",
    "    y_hat = forward(x, w, b)\n",
    "    return .5*(y-y_hat)**2\n",
    "\n",
    "def dldw1(x,y,w,b):\n",
    "    return -x[0]*(y - forward(x,w,b))\n",
    "def dldw2(x,y,w,b):\n",
    "    return -x[1]*(y - forward(x,w,b))\n",
    "\n",
    "# Better to consider the gradient vector\n",
    "def dldw(x,y,w,b):\n",
    "    # Return [dl/dw1, dl/dw2]\n",
    "    return -x*(y - forward(x,w,b))\n",
    "\n",
    "def dldb(x,y,w,b):\n",
    "    return -(y - forward(x,w,b))   "
   ]
  },
  {
   "cell_type": "markdown",
   "metadata": {
    "hidden": true
   },
   "source": [
    "Alternatively using Tensors"
   ]
  },
  {
   "cell_type": "code",
   "execution_count": 11,
   "metadata": {
    "hidden": true
   },
   "outputs": [],
   "source": [
    "# def forward(x, w, b):\n",
    "#     \"\"\"\n",
    "#     x = [x1, x2] = [x, x^2]\n",
    "#     w = [w1, w2]\n",
    "#     \"\"\"\n",
    "#     return torch.dot(x, w) + b\n",
    "\n",
    "# def loss(x, y, w, b):\n",
    "#     \"\"\"\n",
    "#     x: an input vector\n",
    "#     y: a scalar (target value)\n",
    "#     w: a weight vector\n",
    "#     b: a scalar bias term\n",
    "#     \"\"\"\n",
    "#     y_hat = forward(x, w, b)\n",
    "#     return .5*(y-y_hat)**2\n",
    "\n",
    "# def dldw1(x,y,w,b):\n",
    "#     \"\"\"\n",
    "#     Same input arguments as the loss function above\n",
    "#     \"\"\"\n",
    "#     return (y - forward(x,w,b))*x[0]\n",
    "# def dldw2(x,y,w,b):\n",
    "#     \"\"\"\n",
    "#     Same input arguments as the loss function\n",
    "#     \"\"\"\n",
    "#     return (y - forward(x,w,b))*x[1]\n",
    "\n",
    "# # Better to consider the gradient vector\n",
    "# def dldw(x,y,w,b):\n",
    "#     \"\"\"\n",
    "#     Return [dl/dw1, dl/dw2]\n",
    "#     \"\"\"\n",
    "#     return torch.mul(x, (y - forward(x,w,b)))\n",
    "\n",
    "# def dldb(x,y,w,b):\n",
    "#     return (y - forward(x,w,b))   "
   ]
  },
  {
   "cell_type": "markdown",
   "metadata": {
    "hidden": true
   },
   "source": [
    "Gradient checking functions"
   ]
  },
  {
   "cell_type": "code",
   "execution_count": 12,
   "metadata": {
    "hidden": true
   },
   "outputs": [],
   "source": [
    "def estimate_pdev(func, x, step=1e-6):\n",
    "    \"\"\"estimate partial derivative of func wrt x \n",
    "    using the centered finite difference method\"\"\"\n",
    "    return (func(x+step) - func(x-step))/(2*step)\n",
    "\n",
    "def estimate_grad(func, x, step=1e-5):\n",
    "    \"\"\"estimate gradient [vector] of func evaluated at x \n",
    "    using the centered finite difference method.\n",
    "    - func: takes x as the argument\n",
    "    - x: a list of arguments\"\"\"\n",
    "    x = np.array(x)\n",
    "    grad = []\n",
    "#     pdb.set_trace()\n",
    "    for i,xi in enumerate(x):\n",
    "        dx = np.zeros_like(x, dtype=np.float)\n",
    "        dx[i] = step\n",
    "        grad.append( (func(*(x+dx)) - func(*(x-dx)))/(2*step) )\n",
    "    return grad\n",
    "def test_estimate_grad():\n",
    "    f = lambda x: x**2\n",
    "    print(estimate_grad(f, [1.0]))\n",
    "    \n",
    "def test_estimate_grad_two_vars():\n",
    "    f = lambda x,y: x+y**2\n",
    "    print (estimate_grad(f, [1.0, 2.0]))"
   ]
  },
  {
   "cell_type": "code",
   "execution_count": 13,
   "metadata": {
    "hidden": true
   },
   "outputs": [
    {
     "name": "stdout",
     "output_type": "stream",
     "text": [
      "[2.000000000002]\n",
      "[0.9999999999621422, 4.000000000026205]\n"
     ]
    }
   ],
   "source": [
    "test_estimate_grad()\n",
    "test_estimate_grad_two_vars()"
   ]
  },
  {
   "cell_type": "code",
   "execution_count": 14,
   "metadata": {
    "hidden": true,
    "scrolled": false
   },
   "outputs": [],
   "source": [
    "# Get X,Y data\n",
    "n = 100\n",
    "true_w = [1,1]; true_b = [5]\n",
    "\n",
    "X = getX(n)\n",
    "Y = getY(X, true_w, true_b)"
   ]
  },
  {
   "cell_type": "code",
   "execution_count": null,
   "metadata": {
    "hidden": true
   },
   "outputs": [
    {
     "name": "stdout",
     "output_type": "stream",
     "text": [
      "Epoch: 0\n",
      "\tw,b: [0.10199167 0.28557771],[0.1032512]\n",
      "Epoch: 100\n",
      "\tw,b: [0.35561756 1.08303285],[0.13835565]\n",
      "Epoch: 200\n",
      "\tw,b: [0.5392937  1.08162733],[0.16019976]\n",
      "Epoch: 300\n",
      "\tw,b: [0.66996339 1.08052747],[0.18186425]\n",
      "Epoch: 400\n",
      "\tw,b: [0.76292648 1.07964548],[0.20337381]\n"
     ]
    }
   ],
   "source": [
    "# Initial weights\n",
    "w = np.array([0.1, 0.1])\n",
    "b = np.array([0.1])\n",
    "alpha = 1e-6 #learning rate\n",
    "verbose = False\n",
    "# Training\n",
    "ls = []\n",
    "f, ax = plt.subplots()\n",
    "for epoch in range(2000):\n",
    "    for x_val, y_val in zip(X, Y):\n",
    "#         pdb.set_trace()\n",
    "        if verbose:\n",
    "            print(\"current x,y: \", x_val, y_val)\n",
    "            print(\"current weights: \", w, b)\n",
    "            print(f\"y_hat: {forward(x_val, w, b)}\")\n",
    "            print(\"grad: \", dldw(x_val, y_val, w, b))\n",
    "        l = loss(x_val, y_val, w, b)\n",
    "        ls.append(l)\n",
    "        \n",
    "        # Gradient checking\n",
    "        grad_w = dldw(x_val, y_val, w, b)\n",
    "        grad_b = dldb(x_val, y_val, w, b)\n",
    "        grad = estimate_grad(loss, [x_val, y_val, w, b])\n",
    "        \n",
    "        if verbose:\n",
    "            print(f\"dl/db: {grad_b} vs {grad[-1]}\")\n",
    "        \n",
    "        dw = alpha*dldw(x_val, y_val, w, b)\n",
    "        db = alpha*dldb(x_val, y_val, w, b)\n",
    "        ax.arrow(w[0], w[1], dw[0], dw[1]) \n",
    "        \n",
    "        w = w - dw #update\n",
    "        b = b - db\n",
    "    \n",
    "    if (epoch%100 == 0):\n",
    "        print(f\"Epoch: {epoch}\")\n",
    "        print(f\"\\tw,b: {w},{b}\")\n",
    "# plt.plot(ls)"
   ]
  },
  {
   "cell_type": "code",
   "execution_count": null,
   "metadata": {
    "hidden": true,
    "scrolled": false
   },
   "outputs": [],
   "source": [
    "plt.plot(ls[180000:])\n"
   ]
  },
  {
   "cell_type": "markdown",
   "metadata": {},
   "source": [
    "# Autograd"
   ]
  },
  {
   "cell_type": "code",
   "execution_count": null,
   "metadata": {
    "hidden": true
   },
   "outputs": [],
   "source": [
    "# Create a tensor and set requires_grad = True to tack computations on it\n",
    "x = torch.ones(2,2, requires_grad=True)\n",
    "print(x)\n",
    "print(x.data)\n",
    "print(x.grad)\n",
    "print(x.grad_fn)"
   ]
  },
  {
   "cell_type": "code",
   "execution_count": null,
   "metadata": {
    "hidden": true
   },
   "outputs": [],
   "source": [
    "# Do an operation on it\n",
    "y = x + 2\n",
    "print(y)\n",
    "print(y.grad)\n",
    "print(y.grad_fn)"
   ]
  },
  {
   "cell_type": "code",
   "execution_count": null,
   "metadata": {
    "hidden": true
   },
   "outputs": [],
   "source": [
    "# More operations on y\n",
    "z = y*y*3\n",
    "out = z.mean()\n",
    "print(z)\n",
    "print(out)"
   ]
  },
  {
   "cell_type": "code",
   "execution_count": null,
   "metadata": {
    "hidden": true
   },
   "outputs": [],
   "source": [
    "# Backprop: dout/dx\n",
    "out.backward()\n",
    "print(x.grad)\n",
    "print(x.grad.data)"
   ]
  },
  {
   "cell_type": "code",
   "execution_count": null,
   "metadata": {
    "hidden": true
   },
   "outputs": [],
   "source": [
    "# Using autograd\n",
    "w = Variable(torch.Tensor([1.0]), requires_grad=True)\n",
    "alpha = 1e-3\n",
    "verbose = False\n",
    "# Model\n",
    "def forward(x):\n",
    "    return x*w\n",
    "\n",
    "def loss(x, y):\n",
    "    y_pred = forward(x)\n",
    "    return 0.5*(y - y_pred)*(y - y_pred)\n",
    "\n",
    "# Before training\n",
    "print(\"Before training\")\n",
    "print(f\"weight: {w}, prediction for 4 is {forward(4).data[0]}\")\n",
    "\n",
    "# Train\n",
    "print(\"=\"*20)\n",
    "for epoch in range(1000):\n",
    "    for x_val, y_val in zip(x_data, y_data):\n",
    "        l = loss(x_val, y_val)\n",
    "        if verbose: \n",
    "            print(f\"w: {w.data[0]}\")\n",
    "        l.backward()\n",
    "        if verbose: \n",
    "            print(f\"grad_w: {w.grad.data[0]}\")\n",
    "        w.data = w.data - alpha*w.grad.data\n",
    "        \n",
    "        # Manually zeros the gradients after updating weights \n",
    "        w.grad.data.zero_()\n",
    "    if (epoch%10 == 0):\n",
    "        print(f\"\\nEpoch {epoch}: {l.data[0]}\")\n",
    "print(\"=\"*20)\n",
    "\n",
    "print(\"After training\")\n",
    "print(f\"weight: {w}, prediction for {4}  is {forward(4).data[0]}\")    "
   ]
  },
  {
   "cell_type": "markdown",
   "metadata": {},
   "source": [
    "Linear regression in PyTorch way\n"
   ]
  },
  {
   "cell_type": "markdown",
   "metadata": {},
   "source": [
    "Three rhythms of pytorch\n",
    "1. Design the model using PyTorch API\n",
    "2. Construct loss and optimizer (select from PyTorch API)\n",
    "3. Training cycle (forward, backward, update)"
   ]
  },
  {
   "cell_type": "code",
   "execution_count": 2,
   "metadata": {},
   "outputs": [],
   "source": [
    "# Data as torch.tensor objects\n",
    "x_data = torch.tensor([[1],[2],[3]], dtype=torch.float)\n",
    "y_data = torch.tensor([[2],[4],[6]], dtype=torch.float)"
   ]
  },
  {
   "cell_type": "code",
   "execution_count": 15,
   "metadata": {},
   "outputs": [],
   "source": [
    "# Step1: design the model by extending torch.nn.Module\n",
    "class Model(torch.nn.Module):\n",
    "    def __init__(self):\n",
    "        super(Model, self).__init__()\n",
    "        self.linear = torch.nn.Linear(1,1) # One input and one output\n",
    "    \n",
    "    def forward(self, x):\n",
    "        y_pred = self.linear(x)\n",
    "        return y_pred\n",
    "\n",
    "    def print_params(self):\n",
    "        for p in model.parameters():\n",
    "            print(p)"
   ]
  },
  {
   "cell_type": "code",
   "execution_count": 16,
   "metadata": {},
   "outputs": [
    {
     "name": "stdout",
     "output_type": "stream",
     "text": [
      "Parameter containing:\n",
      "tensor([[-0.7767]])\n",
      "Parameter containing:\n",
      "tensor([ 0.6317])\n"
     ]
    }
   ],
   "source": [
    "# our model\n",
    "model = Model()\n",
    "# Default Initial parameters\n",
    "model.print_params()"
   ]
  },
  {
   "cell_type": "code",
   "execution_count": 45,
   "metadata": {},
   "outputs": [],
   "source": [
    "# Define initialization function for linear modules\n",
    "def init_weight(m):\n",
    "    if isinstance(m, torch.nn.Linear):\n",
    "        m.weight.data.fill_(0.1)\n",
    "        m.bias.data.fill_(0.1)\n",
    "#         print(m.weight.data, m.bias.data.item())"
   ]
  },
  {
   "cell_type": "code",
   "execution_count": 46,
   "metadata": {},
   "outputs": [
    {
     "name": "stdout",
     "output_type": "stream",
     "text": [
      "Parameter containing:\n",
      "tensor([[ 0.1000]])\n",
      "Parameter containing:\n",
      "tensor([ 0.1000])\n"
     ]
    }
   ],
   "source": [
    "model.apply(init_weight)\n",
    "model.print_params()"
   ]
  },
  {
   "cell_type": "code",
   "execution_count": 47,
   "metadata": {},
   "outputs": [],
   "source": [
    "# To have the same random weights for each initialization, manually set the seed\n",
    "# torch.manual_seed(RSEED)"
   ]
  },
  {
   "cell_type": "code",
   "execution_count": 49,
   "metadata": {},
   "outputs": [
    {
     "name": "stdout",
     "output_type": "stream",
     "text": [
      "Parameter containing:\n",
      "tensor([[ 0.1000]])\n",
      "Parameter containing:\n",
      "tensor([ 0.1000])\n",
      "Parameter containing:\n",
      "tensor([[ 0.1000]])\n",
      "Parameter containing:\n",
      "tensor([ 0.1000])\n",
      "Parameter containing:\n",
      "tensor([[ 0.1000]])\n",
      "Parameter containing:\n",
      "tensor([ 0.1000])\n",
      "Parameter containing:\n",
      "tensor([[ 0.1000]])\n",
      "Parameter containing:\n",
      "tensor([ 0.1000])\n",
      "Parameter containing:\n",
      "tensor([[ 0.1000]])\n",
      "Parameter containing:\n",
      "tensor([ 0.1000])\n",
      "Parameter containing:\n",
      "tensor([[ 0.1000]])\n",
      "Parameter containing:\n",
      "tensor([ 0.1000])\n",
      "Parameter containing:\n",
      "tensor([[ 0.1000]])\n",
      "Parameter containing:\n",
      "tensor([ 0.1000])\n",
      "Parameter containing:\n",
      "tensor([[ 0.1000]])\n",
      "Parameter containing:\n",
      "tensor([ 0.1000])\n",
      "Parameter containing:\n",
      "tensor([[ 0.1000]])\n",
      "Parameter containing:\n",
      "tensor([ 0.1000])\n",
      "Parameter containing:\n",
      "tensor([[ 0.1000]])\n",
      "Parameter containing:\n",
      "tensor([ 0.1000])\n"
     ]
    }
   ],
   "source": [
    "# Check if it works\n",
    "for i in range(10):\n",
    "    model = Model()\n",
    "    model.apply(init_weight)\n",
    "    model.print_params()"
   ]
  },
  {
   "cell_type": "code",
   "execution_count": 50,
   "metadata": {},
   "outputs": [],
   "source": [
    "# Hyperparams\n",
    "alpha = 1e-5"
   ]
  },
  {
   "cell_type": "code",
   "execution_count": 51,
   "metadata": {},
   "outputs": [],
   "source": [
    "# Step2: Construct loss and optimizer\n",
    "criterion = torch.nn.MSELoss(size_average=False) # we update on every data point"
   ]
  },
  {
   "cell_type": "code",
   "execution_count": 5,
   "metadata": {},
   "outputs": [
    {
     "ename": "NameError",
     "evalue": "name 'alpha' is not defined",
     "output_type": "error",
     "traceback": [
      "\u001b[0;31m---------------------------------------------------------------------------\u001b[0m",
      "\u001b[0;31mNameError\u001b[0m                                 Traceback (most recent call last)",
      "\u001b[0;32m<ipython-input-5-34b71008e7ec>\u001b[0m in \u001b[0;36m<module>\u001b[0;34m()\u001b[0m\n\u001b[1;32m      5\u001b[0m \u001b[0;31m# Create it by passing the right, consistent model.parameters()\u001b[0m\u001b[0;34m\u001b[0m\u001b[0;34m\u001b[0m\u001b[0m\n\u001b[1;32m      6\u001b[0m \u001b[0;31m# hmm or is it really wrong? The model is currently untrained.\u001b[0m\u001b[0;34m\u001b[0m\u001b[0;34m\u001b[0m\u001b[0m\n\u001b[0;32m----> 7\u001b[0;31m \u001b[0msgd\u001b[0m \u001b[0;34m=\u001b[0m \u001b[0mtorch\u001b[0m\u001b[0;34m.\u001b[0m\u001b[0moptim\u001b[0m\u001b[0;34m.\u001b[0m\u001b[0mSGD\u001b[0m\u001b[0;34m(\u001b[0m\u001b[0mmodel\u001b[0m\u001b[0;34m.\u001b[0m\u001b[0mparameters\u001b[0m\u001b[0;34m(\u001b[0m\u001b[0;34m)\u001b[0m\u001b[0;34m,\u001b[0m \u001b[0mlr\u001b[0m\u001b[0;34m=\u001b[0m\u001b[0malpha\u001b[0m\u001b[0;34m)\u001b[0m\u001b[0;34m\u001b[0m\u001b[0m\n\u001b[0m\u001b[1;32m      8\u001b[0m \u001b[0madagrad\u001b[0m \u001b[0;34m=\u001b[0m \u001b[0mtorch\u001b[0m\u001b[0;34m.\u001b[0m\u001b[0moptim\u001b[0m\u001b[0;34m.\u001b[0m\u001b[0mAdagrad\u001b[0m\u001b[0;34m(\u001b[0m\u001b[0mmodel\u001b[0m\u001b[0;34m.\u001b[0m\u001b[0mparameters\u001b[0m\u001b[0;34m(\u001b[0m\u001b[0;34m)\u001b[0m\u001b[0;34m,\u001b[0m \u001b[0mlr\u001b[0m\u001b[0;34m=\u001b[0m\u001b[0malpha\u001b[0m\u001b[0;34m)\u001b[0m\u001b[0;34m\u001b[0m\u001b[0m\n\u001b[1;32m      9\u001b[0m \u001b[0mrmsprop\u001b[0m \u001b[0;34m=\u001b[0m \u001b[0mtorch\u001b[0m\u001b[0;34m.\u001b[0m\u001b[0moptim\u001b[0m\u001b[0;34m.\u001b[0m\u001b[0mRMSprop\u001b[0m\u001b[0;34m(\u001b[0m\u001b[0mmodel\u001b[0m\u001b[0;34m.\u001b[0m\u001b[0mparameters\u001b[0m\u001b[0;34m(\u001b[0m\u001b[0;34m)\u001b[0m\u001b[0;34m,\u001b[0m \u001b[0mlr\u001b[0m\u001b[0;34m=\u001b[0m\u001b[0malpha\u001b[0m\u001b[0;34m)\u001b[0m\u001b[0;34m\u001b[0m\u001b[0m\n",
      "\u001b[0;31mNameError\u001b[0m: name 'alpha' is not defined"
     ]
    }
   ],
   "source": [
    "# This is exactly a wrong way to create opimizer objects.\n",
    "# Create it by passing the right, consistent model.parameters()\n",
    "# hmm or is it really wrong? The model is currently untrained.\n",
    "sgd = torch.optim.SGD(model.parameters(), lr=alpha)\n",
    "adagrad = torch.optim.Adagrad(model.parameters(), lr=alpha)\n",
    "rmsprop = torch.optim.RMSprop(model.parameters(), lr=alpha)\n",
    "adam = torch.optim.Adam(model.parameters(), lr=alpha)"
   ]
  },
  {
   "cell_type": "markdown",
   "metadata": {},
   "source": [
    "Q: How does torch.optim object access the passed-in model.parameters() and eventually updates them?   \n",
    "A: Python dictionary's value accessor (ex. `val = myDic[keyname]` returns a reference to myDic[keyname]. The optim instance created with the model.parameters() stores the references to the model's parameters (of type tensor) at initialization, and is able to update the paramters.  All thanks to referencing. See [source](https://pytorch.org/docs/stable/_modules/torch/optim/optimizer.html#Optimizer).\n",
    "\n",
    "Let's see a simple example using a dictionary."
   ]
  },
  {
   "cell_type": "code",
   "execution_count": null,
   "metadata": {},
   "outputs": [],
   "source": [
    "d = {'l1':[1,2,3], 'l2':[10,20,30], 'l3':['one','two']}; print(d)\n",
    "val = d['l1']\n",
    "val[0] = 0 #if val is a reference, d['l1'] will be updated\n",
    "print(d['l1'])"
   ]
  },
  {
   "cell_type": "markdown",
   "metadata": {},
   "source": [
    "Yes, indeed. \n",
    "This is how torch.optim stores the parameters passed as input (by reference) and  is able to update them."
   ]
  },
  {
   "cell_type": "code",
   "execution_count": 8,
   "metadata": {},
   "outputs": [
    {
     "name": "stdout",
     "output_type": "stream",
     "text": [
      "tensor([[-0.4739],\n",
      "        [-1.4451],\n",
      "        [-2.4163]])\n",
      "tensor([[ 2.],\n",
      "        [ 4.],\n",
      "        [ 6.]])\n",
      "tensor(106.6031)\n"
     ]
    }
   ],
   "source": [
    "y_pred = model(x_data); print(y_pred); print(y_data);\n",
    "print(criterion(y_pred, y_data))"
   ]
  },
  {
   "cell_type": "code",
   "execution_count": 10,
   "metadata": {},
   "outputs": [
    {
     "data": {
      "text/plain": [
       "tensor(106.6031)"
      ]
     },
     "execution_count": 10,
     "metadata": {},
     "output_type": "execute_result"
    }
   ],
   "source": [
    "# check if criterion is making sense\n",
    "torch.sum((y_pred - y_data)**2)"
   ]
  },
  {
   "cell_type": "code",
   "execution_count": 52,
   "metadata": {},
   "outputs": [
    {
     "name": "stdout",
     "output_type": "stream",
     "text": [
      "After training: predict 4, 8.000250816345215\n"
     ]
    },
    {
     "data": {
      "image/png": "[encoded data removed]",
      "text/plain": [
       "<Figure size 432x288 with 1 Axes>"
      ]
     },
     "metadata": {},
     "output_type": "display_data"
    }
   ],
   "source": [
    "# Step3: Training loop. Forward, backward, update\n",
    "# Reset Model to the untrained state\n",
    "model = Model()\n",
    "model.apply(init_weight)\n",
    "optimizer = torch.optim.RMSprop(model.parameters(), lr=0.0001)\n",
    "f,ax = plt.subplots()\n",
    "f.suptitle(optimizer.__class__.__name__)\n",
    "losses = []\n",
    "for epoch in range(500000):\n",
    "    #forward\n",
    "    y_pred = model(x_data) #vectorized for multiple data points \n",
    "    # Q: what is the difference between model(input) and model.forward(input)?\n",
    "    # What does tht first command actually do?\n",
    "    \n",
    "    loss = criterion(y_pred, y_data) #summed up loss for a batch of (forwarded) data\n",
    "    losses.append(loss.item())\n",
    "    # Make sure gradients are currently zero/uncalculated, backward pass, update\n",
    "    optimizer.zero_grad()\n",
    "    loss.backward()\n",
    "    optimizer.step()\n",
    "ax.plot(losses)\n",
    "# After training\n",
    "print(f\"After training: predict 4, {model(torch.tensor([[4.0]])).data.item()}\")\n",
    "    "
   ]
  },
  {
   "cell_type": "markdown",
   "metadata": {},
   "source": [
    "Lesson:\n",
    "1. torch.nn.Module's subclasses must have two functions: `__init__` and `forward(self, x)`\n",
    "2. Get the prediction from the model by passing in 2dim torch.tensor (of float type) \n",
    "```python\n",
    "yhat = model(torch.tensor([ [4] ] ))\n",
    "```\n",
    "    - torch.nn Class does not accept a single example. It only works with a *mini-batch* of examples. See [Ex1 Note](https://pytorch.org/tutorials/beginner/former_torchies/nn_tutorial.html#example-1-convnet). \n",
    "    - Tensor's dtype is important in any computation. Here if I had used torch.tensor([[4]]) rather than 4.0, it would have caused a type error in multiplication.\n",
    "    - access data from tensor by `myTensor.data[i][j]`\n",
    "\n",
    "3. Forwarded value is stored in model.data as a torch.tensor object.\n",
    "If a tensor has scalar value, access it by `myTensor.item()`\n",
    "\n",
    "4. Construct optimizer objects at the right time. That is, pass the to-be-optimized parameters of the right state. PyTorch documentation says: \n",
    ">In general, you should make sure that optimized parameters live in consistent locations when optimizers are constructed and used.\n",
    "\n",
    "[READ](https://pytorch.org/docs/stable/optim.html)"
   ]
  },
  {
   "cell_type": "markdown",
   "metadata": {},
   "source": [
    "### Exercise 5-1:Try different optimizers"
   ]
  },
  {
   "cell_type": "code",
   "execution_count": 53,
   "metadata": {},
   "outputs": [
    {
     "name": "stdout",
     "output_type": "stream",
     "text": [
      "lr: 0.0001\n",
      "Optimizer: SGD\n",
      "\tAfter training: predict 4, 7.983757495880127\n",
      "Optimizer: RMSprop\n",
      "\tAfter training: predict 4, 8.000248908996582\n",
      "Optimizer: Adagrad\n",
      "\tAfter training: predict 4, 0.7215728163719177\n",
      "Optimizer: Adadelta\n",
      "\tAfter training: predict 4, 1.6246352195739746\n",
      "Optimizer: Adam\n",
      "\tAfter training: predict 4, 8.0\n"
     ]
    },
    {
     "data": {
      "image/png": "[encoded data removed]",
      "text/plain": [
       "<Figure size 432x288 with 1 Axes>"
      ]
     },
     "metadata": {},
     "output_type": "display_data"
    },
    {
     "data": {
      "image/png": "[encoded data removed]",
      "text/plain": [
       "<Figure size 432x288 with 1 Axes>"
      ]
     },
     "metadata": {},
     "output_type": "display_data"
    },
    {
     "data": {
      "image/png": "[encoded data removed]",
      "text/plain": [
       "<Figure size 432x288 with 1 Axes>"
      ]
     },
     "metadata": {},
     "output_type": "display_data"
    },
    {
     "data": {
      "image/png": "[encoded data removed]",
      "text/plain": [
       "<Figure size 432x288 with 1 Axes>"
      ]
     },
     "metadata": {},
     "output_type": "display_data"
    },
    {
     "data": {
      "image/png": "[encoded data removed]",
      "text/plain": [
       "<Figure size 432x288 with 1 Axes>"
      ]
     },
     "metadata": {},
     "output_type": "display_data"
    }
   ],
   "source": [
    "optim_funcs = [torch.optim.SGD, torch.optim.RMSprop, torch.optim.Adagrad, \n",
    "               torch.optim.Adadelta, torch.optim.Adam]\n",
    "alpha = 0.0001\n",
    "print(f\"lr: {alpha}\")\n",
    "for optim_func in optim_funcs:\n",
    "    f,ax = plt.subplots()\n",
    "    f.suptitle(optim_func.__name__)\n",
    "    print(f\"Optimizer: {optim_func.__name__}\")\n",
    "    # Reset Model to the untrained state\n",
    "    model = Model()\n",
    "    model.apply(init_weight)\n",
    "    optimizer = optim_func(model.parameters(), lr=alpha)\n",
    "    losses = []\n",
    "    for epoch in range(50000):\n",
    "        #forward\n",
    "        y_pred = model(x_data) #vectorized for multiple data points \n",
    "        loss = criterion(y_pred, y_data) #summed up loss for a batch of (forwarded) data\n",
    "        losses.append(loss.item())\n",
    "        # Make sure gradients are currently zero/uncalculated, backward pass, update\n",
    "        optimizer.zero_grad()\n",
    "        loss.backward()\n",
    "        optimizer.step()\n",
    "    ax.plot(losses)\n",
    "    # After training\n",
    "    print(f\"\\tAfter training: predict 4, {model(torch.tensor([[4.0]])).data.item()}\")\n"
   ]
  },
  {
   "cell_type": "markdown",
   "metadata": {},
   "source": [
    "TODO: read adadelta paper. summarize the difference between adam vs adagrad and adadelta"
   ]
  },
  {
   "cell_type": "markdown",
   "metadata": {},
   "source": [
    "Summary\n",
    "1. SGD actually does a good job. Adam seems to be a little bit better than RMSprop at the end of 50000 epochs. Maybe start with SGD and then switch off the Adam when the loss starts to plateau will be the best of both.\n"
   ]
  },
  {
   "cell_type": "markdown",
   "metadata": {},
   "source": [
    "TODO: Try different initial weights. "
   ]
  },
  {
   "cell_type": "markdown",
   "metadata": {},
   "source": [
    "TODO:     \n",
    "[ ] Try different datasize.   \n",
    "[ ] Try slightly more complex datasets (2 weights, 1 bias).       \n",
    "[ ] Try non-linearly-separable dataset. Try noisy dataset.    \n"
   ]
  },
  {
   "cell_type": "code",
   "execution_count": 56,
   "metadata": {},
   "outputs": [
    {
     "data": {
      "application/vnd.jupyter.widget-view+json": {
       "model_id": "cb4128db2662453e93a8295f1c322d95",
       "version_major": 2,
       "version_minor": 0
      },
      "text/plain": [
       "Checkbox(value=False, description='Check me')"
      ]
     },
     "metadata": {},
     "output_type": "display_data"
    }
   ],
   "source": [
    "import ipywidgets as widgets\n",
    "\n",
    "widgets.Checkbox(\n",
    "    value=False,\n",
    "    description='Check me',\n",
    "    disabled=False\n",
    ")\n"
   ]
  },
  {
   "cell_type": "code",
   "execution_count": null,
   "metadata": {},
   "outputs": [],
   "source": []
  },
  {
   "cell_type": "code",
   "execution_count": null,
   "metadata": {},
   "outputs": [],
   "source": []
  },
  {
   "cell_type": "code",
   "execution_count": null,
   "metadata": {},
   "outputs": [],
   "source": []
  },
  {
   "cell_type": "code",
   "execution_count": null,
   "metadata": {},
   "outputs": [],
   "source": []
  },
  {
   "cell_type": "code",
   "execution_count": null,
   "metadata": {},
   "outputs": [],
   "source": []
  },
  {
   "cell_type": "code",
   "execution_count": null,
   "metadata": {},
   "outputs": [],
   "source": []
  },
  {
   "cell_type": "code",
   "execution_count": null,
   "metadata": {},
   "outputs": [],
   "source": []
  },
  {
   "cell_type": "code",
   "execution_count": null,
   "metadata": {},
   "outputs": [],
   "source": [
    "\n"
   ]
  }
 ],
 "metadata": {
  "kernelspec": {
   "display_name": "Python 3",
   "language": "python",
   "name": "python3"
  },
  "language_info": {
   "codemirror_mode": {
    "name": "ipython",
    "version": 3
   },
   "file_extension": ".py",
   "mimetype": "text/x-python",
   "name": "python",
   "nbconvert_exporter": "python",
   "pygments_lexer": "ipython3",
   "version": "3.6.5"
  },
  "toc": {
   "base_numbering": 1,
   "nav_menu": {},
   "number_sections": true,
   "sideBar": true,
   "skip_h1_title": false,
   "title_cell": "Table of Contents",
   "title_sidebar": "Contents",
   "toc_cell": false,
   "toc_position": {},
   "toc_section_display": true,
   "toc_window_display": false
  }
 },
 "nbformat": 4,
 "nbformat_minor": 2
}
