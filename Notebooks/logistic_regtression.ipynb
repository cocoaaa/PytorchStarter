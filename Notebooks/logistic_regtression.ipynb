{
 "cells": [
  {
   "cell_type": "markdown",
   "metadata": {},
   "source": [
    "# Logistic Regression (Binary class)"
   ]
  },
  {
   "cell_type": "code",
   "execution_count": 91,
   "metadata": {},
   "outputs": [],
   "source": [
    "# Python 2, 3 compatible\n",
    "from __future__ import print_function, division\n",
    "\n",
    "import numpy as np\n",
    "import torch\n",
    "import torch.nn as nn\n",
    "import torch.nn.functional as F\n",
    "import torch.optim as optim\n",
    "\n",
    "import matplotlib.pyplot as plt\n",
    "import pandas as pd"
   ]
  },
  {
   "cell_type": "code",
   "execution_count": 80,
   "metadata": {},
   "outputs": [],
   "source": [
    "# Datasets, data loading\n",
    "from torchvision import datasets, transforms\n",
    "from sklearn.datasets import load_breast_cancer\n",
    "from sklearn.model_selection import train_test_split"
   ]
  },
  {
   "cell_type": "code",
   "execution_count": null,
   "metadata": {},
   "outputs": [],
   "source": []
  },
  {
   "cell_type": "code",
   "execution_count": 42,
   "metadata": {},
   "outputs": [],
   "source": [
    "# Put these at the top of every notebook, to get automatic reloading and inline plotting\n",
    "%reload_ext autoreload\n",
    "%autoreload 2\n",
    "%matplotlib inline"
   ]
  },
  {
   "cell_type": "code",
   "execution_count": 82,
   "metadata": {},
   "outputs": [],
   "source": [
    "# Globals\n",
    "RSEED = 100"
   ]
  },
  {
   "cell_type": "code",
   "execution_count": 54,
   "metadata": {},
   "outputs": [
    {
     "name": "stdout",
     "output_type": "stream",
     "text": [
      "diabetes.csv.gz     dogscats.zip        names_train.csv.gz\n",
      "\u001b[1m\u001b[34mdogscats\u001b[m\u001b[m/           names_test.csv.gz   shakespeare.txt.gz\n"
     ]
    }
   ],
   "source": [
    "ls data/"
   ]
  },
  {
   "cell_type": "markdown",
   "metadata": {},
   "source": [
    "## MNIST dataset"
   ]
  },
  {
   "cell_type": "code",
   "execution_count": 57,
   "metadata": {},
   "outputs": [],
   "source": [
    "#MNIST dataset\n",
    "train_data = datasets.MNIST(root='./data', \n",
    "                      train=True,\n",
    "                      transform=transforms.ToTensor(),\n",
    "                      download=True)\n",
    "test_data = datasets.MNIST(root='./data',\n",
    "                          train=False,\n",
    "                          transform=transforms.ToTensor())"
   ]
  },
  {
   "cell_type": "code",
   "execution_count": 60,
   "metadata": {},
   "outputs": [],
   "source": [
    "# Training setting \n",
    "batch_size = 64"
   ]
  },
  {
   "cell_type": "code",
   "execution_count": 62,
   "metadata": {},
   "outputs": [],
   "source": [
    "# Data loader (Input pipeline)\n",
    "train_loader = torch.utils.data.DataLoader(dataset=train_data,\n",
    "                                          batch_size=batch_size,\n",
    "                                          shuffle=True)\n",
    "test_loader = torch.utils.data.DataLoader(dataset=test_data,\n",
    "                                         batch_size=batch_size,\n",
    "                                         shuffle=False)\n"
   ]
  },
  {
   "cell_type": "markdown",
   "metadata": {},
   "source": [
    "## Breast cancer (binary classification) dataset"
   ]
  },
  {
   "cell_type": "code",
   "execution_count": 85,
   "metadata": {},
   "outputs": [],
   "source": [
    "cancer_data = load_breast_cancer()\n",
    "data = cancer_data.data; #print(data[:10,-5:])\n",
    "target = cancer_data.target; #print(target[-5:])\n",
    "X_train, X_test, y_train, y_test = train_test_split(data, target, \n",
    "                                                    test_size=0.33, random_state=RSEED)"
   ]
  },
  {
   "cell_type": "code",
   "execution_count": 90,
   "metadata": {},
   "outputs": [
    {
     "name": "stdout",
     "output_type": "stream",
     "text": [
      "(381, 30) (188, 30)\n"
     ]
    }
   ],
   "source": [
    "print(X_train.shape, X_test.shape)"
   ]
  },
  {
   "cell_type": "markdown",
   "metadata": {},
   "source": [
    "## 1. Linear -> Sigmoid -> BCELoss(yhat_prob, y_prob)"
   ]
  },
  {
   "cell_type": "code",
   "execution_count": 38,
   "metadata": {},
   "outputs": [],
   "source": [
    "class Model(torch.nn.Module):\n",
    "    def __init__(self):\n",
    "        super(Model, self).__init__()\n",
    "        self.linear = torch.nn.Linear(3,1) \n",
    "        self.sigmoid = torch.nn.Sigmoid()\n",
    "    \n",
    "    def forward(self,x):\n",
    "        \"\"\"x is a 2D tensor of size (mini_batch, d)\n",
    "        If mini_batch size is 1, x can be a 1D tensor of length d.\n",
    "        Returns a forwarded tensor object\"\"\"\n",
    "        z = self.linear(x)\n",
    "        y_hat = self.sigmoid(z)\n",
    "        return y_hat\n",
    "\n",
    "criterion = torch.nn.BCELoss(size_average=False)        "
   ]
  },
  {
   "cell_type": "code",
   "execution_count": 39,
   "metadata": {},
   "outputs": [
    {
     "name": "stdout",
     "output_type": "stream",
     "text": [
      "Initial weights:  Parameter containing:\n",
      "tensor([[ 0.5702, -0.2028,  0.1714]])\n",
      "Initial bias:  Parameter containing:\n",
      "tensor([ 0.2596])\n",
      "tensor(1.00000e-03 *\n",
      "       2.6533)\n"
     ]
    }
   ],
   "source": [
    "m = Model()\n",
    "print(\"Initial weights: \", m.linear.weight)\n",
    "print(\"Initial bias: \", m.linear.bias)\n",
    "\n",
    "# Single input and a target\n",
    "x = torch.tensor([10,1,1], dtype=torch.float, requires_grad=True)\n",
    "y = torch.tensor([1],dtype=torch.float)\n",
    "y_hat = m.forward(x)\n",
    "\n",
    "l = criterion(y_hat, y)\n",
    "print (l)"
   ]
  },
  {
   "cell_type": "code",
   "execution_count": 25,
   "metadata": {},
   "outputs": [
    {
     "name": "stdout",
     "output_type": "stream",
     "text": [
      "class:  1.0\n",
      "predicted probability of class 1:  tensor([ 0.9526])\n",
      "-0.048508379608392715\n"
     ]
    }
   ],
   "source": [
    "#check if loss is as expected by binary cross entropy \n",
    "print(\"class: \", y.item())\n",
    "print(\"predicted probability of class 1: \", y_hat)\n",
    "print(torch.log(y_hat).item())"
   ]
  },
  {
   "cell_type": "code",
   "execution_count": 40,
   "metadata": {},
   "outputs": [
    {
     "name": "stdout",
     "output_type": "stream",
     "text": [
      "Before:   None\n",
      "After:  tensor(1.00000e-03 *\n",
      "       [-1.5110,  0.5374, -0.4540])\n"
     ]
    }
   ],
   "source": [
    "print(\"Before:  \", x.grad)\n",
    "#backprop\n",
    "l.backward()\n",
    "\n",
    "#dl/dinput\n",
    "print(\"After: \", x.grad)\n",
    "x.grad = None"
   ]
  },
  {
   "cell_type": "markdown",
   "metadata": {},
   "source": [
    "Test with breast data"
   ]
  },
  {
   "cell_type": "markdown",
   "metadata": {},
   "source": [
    "## 2. Linear -> BCEWWithLogitsLoss(z, y_prob)\n"
   ]
  },
  {
   "cell_type": "code",
   "execution_count": null,
   "metadata": {},
   "outputs": [],
   "source": []
  }
 ],
 "metadata": {
  "kernelspec": {
   "display_name": "Python 3",
   "language": "python",
   "name": "python3"
  },
  "language_info": {
   "codemirror_mode": {
    "name": "ipython",
    "version": 3
   },
   "file_extension": ".py",
   "mimetype": "text/x-python",
   "name": "python",
   "nbconvert_exporter": "python",
   "pygments_lexer": "ipython3",
   "version": "3.6.5"
  }
 },
 "nbformat": 4,
 "nbformat_minor": 2
}
