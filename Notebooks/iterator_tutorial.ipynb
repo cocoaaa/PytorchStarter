{
 "cells": [
  {
   "cell_type": "markdown",
   "metadata": {},
   "source": [
    "# Python Iterator\n",
    "source: [1](https://anandology.com/python-practice-book/iterators.html), [2] ()"
   ]
  },
  {
   "cell_type": "markdown",
   "metadata": {},
   "source": [
    "Any object that wants to be an iterator must implement the followings:\n",
    "1. `__iter__`: it is called on the initialization of an iterator. It should return an object that has a `__next__`(in python3) method.\n",
    "2.  `__next__`: it should return the next value for the iterable. When an iterator is used with a `for` loop, the for loop implicitly calls `next()` on the iterator object. This method raises a `StopIteratiron` signal to end an iteration.\n"
   ]
  },
  {
   "cell_type": "code",
   "execution_count": 8,
   "metadata": {},
   "outputs": [],
   "source": [
    "# Ex 1: simple iterator to print a number from 10 to a set limit (inclusive).\n",
    "# MyIterator(15) will print 10, 11, 12, 13, 14, 15\n",
    "class MyIterable:\n",
    "    \n",
    "    def __init__(self, end):\n",
    "        self.x = 10\n",
    "        self.end = end\n",
    "    \n",
    "    def __iter__(self):\n",
    "        # called when iteration is initialized\n",
    "        print(\"__iter__ is called\")\n",
    "        return self\n",
    "    \n",
    "    def __next__(self):\n",
    "        # called at every iteration \n",
    "        print(\"__next__ is called\")\n",
    "        \n",
    "        # store current value of x\n",
    "        x = self.x\n",
    "        \n",
    "        # stop if current value has passed the end\n",
    "        if self.x > self.end:\n",
    "            raise StopIteration\n",
    "        # else increment x \n",
    "        self.x += 1\n",
    "        \n",
    "        # return current value\n",
    "        return x\n",
    "    \n",
    "    def print_state(self):\n",
    "        print(self.x)"
   ]
  },
  {
   "cell_type": "markdown",
   "metadata": {},
   "source": [
    "First create an instance of the iterable."
   ]
  },
  {
   "cell_type": "code",
   "execution_count": 16,
   "metadata": {},
   "outputs": [],
   "source": [
    "myIterable = MyIterable(12)"
   ]
  },
  {
   "cell_type": "markdown",
   "metadata": {},
   "source": [
    "Get an iterator of the instance by using `iter` function.\n",
    "`iter(iterableObject)` calls `__iter__` method of the given `iterableObject` to get an iterator of the object."
   ]
  },
  {
   "cell_type": "code",
   "execution_count": 17,
   "metadata": {},
   "outputs": [
    {
     "name": "stdout",
     "output_type": "stream",
     "text": [
      "__iter__ is called\n"
     ]
    }
   ],
   "source": [
    "myIterator = iter(myIterable) "
   ]
  },
  {
   "cell_type": "markdown",
   "metadata": {},
   "source": [
    "Step by step"
   ]
  },
  {
   "cell_type": "code",
   "execution_count": 18,
   "metadata": {},
   "outputs": [
    {
     "name": "stdout",
     "output_type": "stream",
     "text": [
      "__next__ is called\n"
     ]
    },
    {
     "data": {
      "text/plain": [
       "10"
      ]
     },
     "execution_count": 18,
     "metadata": {},
     "output_type": "execute_result"
    }
   ],
   "source": [
    "next(myIterator) "
   ]
  },
  {
   "cell_type": "code",
   "execution_count": 21,
   "metadata": {},
   "outputs": [
    {
     "name": "stdout",
     "output_type": "stream",
     "text": [
      "11\n"
     ]
    }
   ],
   "source": [
    "# Notice that `next` returns the current state and sets the self.x to the next value\n",
    "myIterator.print_state()"
   ]
  },
  {
   "cell_type": "code",
   "execution_count": 22,
   "metadata": {},
   "outputs": [
    {
     "name": "stdout",
     "output_type": "stream",
     "text": [
      "__next__ is called\n"
     ]
    },
    {
     "data": {
      "text/plain": [
       "11"
      ]
     },
     "execution_count": 22,
     "metadata": {},
     "output_type": "execute_result"
    }
   ],
   "source": [
    "next(myIterator)"
   ]
  },
  {
   "cell_type": "markdown",
   "metadata": {},
   "source": [
    "Why do we need to separate iterable and itertor? In other words, why do we need to implement __iter__, rather than just calling `next` on the iterable object?\n"
   ]
  },
  {
   "cell_type": "code",
   "execution_count": 23,
   "metadata": {},
   "outputs": [
    {
     "name": "stdout",
     "output_type": "stream",
     "text": [
      "__next__ is called\n"
     ]
    },
    {
     "data": {
      "text/plain": [
       "12"
      ]
     },
     "execution_count": 23,
     "metadata": {},
     "output_type": "execute_result"
    }
   ],
   "source": [
    "next(myIterable)"
   ]
  },
  {
   "cell_type": "code",
   "execution_count": 24,
   "metadata": {},
   "outputs": [
    {
     "name": "stdout",
     "output_type": "stream",
     "text": [
      "__next__ is called\n"
     ]
    },
    {
     "ename": "StopIteration",
     "evalue": "",
     "output_type": "error",
     "traceback": [
      "\u001b[0;31m---------------------------------------------------------------------------\u001b[0m",
      "\u001b[0;31mStopIteration\u001b[0m                             Traceback (most recent call last)",
      "\u001b[0;32m<ipython-input-24-413cfae6b972>\u001b[0m in \u001b[0;36m<module>\u001b[0;34m()\u001b[0m\n\u001b[0;32m----> 1\u001b[0;31m \u001b[0mnext\u001b[0m\u001b[0;34m(\u001b[0m\u001b[0mmyIterable\u001b[0m\u001b[0;34m)\u001b[0m\u001b[0;34m\u001b[0m\u001b[0m\n\u001b[0m",
      "\u001b[0;32m<ipython-input-8-aedc1a453b6f>\u001b[0m in \u001b[0;36m__next__\u001b[0;34m(self)\u001b[0m\n\u001b[1;32m     21\u001b[0m         \u001b[0;31m# stop if current value has passed the end\u001b[0m\u001b[0;34m\u001b[0m\u001b[0;34m\u001b[0m\u001b[0m\n\u001b[1;32m     22\u001b[0m         \u001b[0;32mif\u001b[0m \u001b[0mself\u001b[0m\u001b[0;34m.\u001b[0m\u001b[0mx\u001b[0m \u001b[0;34m>\u001b[0m \u001b[0mself\u001b[0m\u001b[0;34m.\u001b[0m\u001b[0mend\u001b[0m\u001b[0;34m:\u001b[0m\u001b[0;34m\u001b[0m\u001b[0m\n\u001b[0;32m---> 23\u001b[0;31m             \u001b[0;32mraise\u001b[0m \u001b[0mStopIteration\u001b[0m\u001b[0;34m\u001b[0m\u001b[0m\n\u001b[0m\u001b[1;32m     24\u001b[0m         \u001b[0;31m# else increment x\u001b[0m\u001b[0;34m\u001b[0m\u001b[0;34m\u001b[0m\u001b[0m\n\u001b[1;32m     25\u001b[0m         \u001b[0mself\u001b[0m\u001b[0;34m.\u001b[0m\u001b[0mx\u001b[0m \u001b[0;34m+=\u001b[0m \u001b[0;36m1\u001b[0m\u001b[0;34m\u001b[0m\u001b[0m\n",
      "\u001b[0;31mStopIteration\u001b[0m: "
     ]
    }
   ],
   "source": [
    "next(myIterable)"
   ]
  },
  {
   "cell_type": "markdown",
   "metadata": {},
   "source": [
    "Source 1(https://anandology.com/python-practice-book/iterators.html) answers this question in the middle of the page. \n",
    "- If `__iter__` returns `self`, then the iterable object and the iterator are the same *object*.  It need not be the case always. Here is the example given in the tutorial."
   ]
  },
  {
   "cell_type": "code",
   "execution_count": 25,
   "metadata": {},
   "outputs": [],
   "source": [
    "class MyIterableWrapper:\n",
    "    def __init__(self, n):\n",
    "        self.n = n\n",
    "    def __iter__(self):\n",
    "    # Recall `__iter__` method is called when an iterator is created by passing an instance of this \n",
    "    # iterable class (eg. `iter(zrangeInstance)`)\n",
    "    # `__iter__` must return an object with `__next__` method.\n",
    "        return MyIterable(self.n)\n",
    "    \n",
    "    #Note this class doesn't implement __next__ method, thus is not an Iterable type."
   ]
  },
  {
   "cell_type": "markdown",
   "metadata": {},
   "source": [
    "- If both iterable and iterator are the same object, it is consumed in a single iteration\n"
   ]
  },
  {
   "cell_type": "code",
   "execution_count": 29,
   "metadata": {},
   "outputs": [
    {
     "name": "stdout",
     "output_type": "stream",
     "text": [
      "__iter__ is called\n",
      "__next__ is called\n",
      "__next__ is called\n",
      "__next__ is called\n",
      "__next__ is called\n",
      "__next__ is called\n",
      "__next__ is called\n",
      "__next__ is called\n",
      "[10, 11, 12, 13, 14, 15]\n",
      "==============================\n",
      "__iter__ is called\n",
      "__next__ is called\n",
      "[]\n"
     ]
    }
   ],
   "source": [
    "myIterable = MyIterable(15)\n",
    "print(list(myIterable))\n",
    "print(\"=\"*30)\n",
    "print(list(myIterable)) #empty"
   ]
  },
  {
   "cell_type": "markdown",
   "metadata": {},
   "source": [
    "- If `__iter__` method of an iterable returns a separate iterable object (aka. an iterable for this iterable), then this doesn't happen.  (todo: what do you mean by 'this'?) Because at each iteration, a new iterable object (iterator) is created and `list` consumes that specific iterator. Next time `list` is called, a new iterator is created and `list` consumes that one.\n"
   ]
  },
  {
   "cell_type": "code",
   "execution_count": 31,
   "metadata": {},
   "outputs": [
    {
     "name": "stdout",
     "output_type": "stream",
     "text": [
      "__next__ is called\n",
      "__next__ is called\n",
      "__next__ is called\n",
      "__next__ is called\n",
      "__next__ is called\n",
      "__next__ is called\n",
      "__next__ is called\n",
      "[10, 11, 12, 13, 14, 15]\n",
      "==============================\n",
      "__next__ is called\n",
      "__next__ is called\n",
      "__next__ is called\n",
      "__next__ is called\n",
      "__next__ is called\n",
      "__next__ is called\n",
      "__next__ is called\n",
      "[10, 11, 12, 13, 14, 15]\n"
     ]
    }
   ],
   "source": [
    "myUnconsumable = MyIterableWrapper(15)\n",
    "print(list(myUnconsumable))\n",
    "print(\"=\"*30)\n",
    "print(list(myUnconsumable))"
   ]
  },
  {
   "cell_type": "markdown",
   "metadata": {},
   "source": [
    "Note that `__iter__` method of MyIterable object (the returned iterator of `__iter__` of MyIterableWrapper's instance) is never called."
   ]
  },
  {
   "cell_type": "markdown",
   "metadata": {},
   "source": [
    "## Next move\n",
    "- [Pytorch DataLoader](http://bit.ly/2lQ9XBG): example of Iterable-Iterator separation\n",
    "- [Python generator](http://bit.ly/2lMUZfv)\n"
   ]
  },
  {
   "cell_type": "code",
   "execution_count": null,
   "metadata": {},
   "outputs": [],
   "source": []
  }
 ],
 "metadata": {
  "kernelspec": {
   "display_name": "Python 3",
   "language": "python",
   "name": "python3"
  },
  "language_info": {
   "codemirror_mode": {
    "name": "ipython",
    "version": 3
   },
   "file_extension": ".py",
   "mimetype": "text/x-python",
   "name": "python",
   "nbconvert_exporter": "python",
   "pygments_lexer": "ipython3",
   "version": "3.6.5"
  }
 },
 "nbformat": 4,
 "nbformat_minor": 2
}
